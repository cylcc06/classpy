{
 "cells": [
  {
   "cell_type": "code",
   "execution_count": 1,
   "metadata": {
    "collapsed": false,
    "scrolled": true
   },
   "outputs": [],
   "source": [
    "import pandas as pd\n",
    "import numpy as np\n",
    "import math\n",
    "import matplotlib.pyplot as plt\n",
    "import matplotlib\n",
    "import seaborn as sns\n",
    "import statsmodels.api as sm\n",
    "from numpy import corrcoef,array\n",
    "from IPython.display import HTML, display\n",
    "from statsmodels.formula.api import ols"
   ]
  },
  {
   "cell_type": "code",
   "execution_count": 2,
   "metadata": {
    "collapsed": true
   },
   "outputs": [],
   "source": [
    "get_ipython().magic('matplotlib inline')\n",
    "matplotlib.rcParams['axes.unicode_minus'] = False  #正常显示负号\n",
    "plt.rcParams['font.sans-serif'] = ['SimHei']  #正常显示中文"
   ]
  },
  {
   "cell_type": "markdown",
   "metadata": {},
   "source": [
    "# 1 数据清洗"
   ]
  },
  {
   "cell_type": "code",
   "execution_count": 3,
   "metadata": {
    "collapsed": false
   },
   "outputs": [
    {
     "name": "stdout",
     "output_type": "stream",
     "text": [
      "CATE         object\n",
      "bedrooms      int64\n",
      "halls         int64\n",
      "AREA        float64\n",
      "floor        object\n",
      "subway        int64\n",
      "school        int64\n",
      "price         int64\n",
      "LONG        float64\n",
      "LAT         float64\n",
      "NAME         object\n",
      "DISTRICT     object\n",
      "dtype: object\n"
     ]
    }
   ],
   "source": [
    "dat = pd.read_csv(\"ershoufang.csv\", delimiter=\",\", encoding=\"gbk\")  #读入二手房数据\n",
    "print(dat.dtypes)  #查看变量名\n",
    "dat0 = dat.copy() #工作文件命名为dat0"
   ]
  },
  {
   "cell_type": "code",
   "execution_count": 4,
   "metadata": {
    "collapsed": false
   },
   "outputs": [
    {
     "name": "stdout",
     "output_type": "stream",
     "text": [
      "fengtai        3003\n",
      "haidian        3001\n",
      "dongcheng      2944\n",
      "chaoyang       2915\n",
      "xicheng        2892\n",
      "shijingshan    2040\n",
      "Name: CATE, dtype: int64\n"
     ]
    }
   ],
   "source": [
    "######通过最简单的描述分析，清洗数据，一个一个变量处理\n",
    "\n",
    "#CATE，各个城区的观测数，分布比较均匀，石景山偏少，不做处理'\n",
    "print(dat0.CATE.value_counts()) #查看城区的分布"
   ]
  },
  {
   "cell_type": "code",
   "execution_count": 5,
   "metadata": {
    "collapsed": false,
    "scrolled": true
   },
   "outputs": [
    {
     "name": "stdout",
     "output_type": "stream",
     "text": [
      "2    8070\n",
      "3    4301\n",
      "1    3445\n",
      "4     746\n",
      "5     154\n",
      "6      52\n",
      "7      13\n",
      "9       6\n",
      "8       4\n",
      "0       4\n",
      "Name: bedrooms, dtype: int64\n",
      "1    11267\n",
      "2     4399\n",
      "0      988\n",
      "3      135\n",
      "4        5\n",
      "9        1\n",
      "Name: halls, dtype: int64\n"
     ]
    }
   ],
   "source": [
    "#卧室数和厅数，查看分布'\n",
    "print(dat0.bedrooms.value_counts())  #取值为0,6,7,8,9的相对较少，考虑删除\n",
    "print(dat0.halls.value_counts())  #取值为4和9的只有6个观测，考虑删除\n",
    "dat0=dat0[(dat0.bedrooms > 0) & (dat0.bedrooms < 6)]  #对卧室数变量做部分删除处理\n",
    "dat0=dat0[dat0.halls < 4]  #对厅数变量做部分删除处理"
   ]
  },
  {
   "cell_type": "code",
   "execution_count": 6,
   "metadata": {
    "collapsed": false,
    "scrolled": false
   },
   "outputs": [
    {
     "data": {
      "text/plain": [
       "<matplotlib.axes._subplots.AxesSubplot at 0xabd6898>"
      ]
     },
     "execution_count": 6,
     "metadata": {},
     "output_type": "execute_result"
    },
    {
     "data": {
      "image/png": "[encoded data removed]",
      "text/plain": [
       "<matplotlib.figure.Figure at 0x4ac6ef0>"
      ]
     },
     "metadata": {},
     "output_type": "display_data"
    }
   ],
   "source": [
    "dat0.AREA.hist(bins=20, color='lightblue')"
   ]
  },
  {
   "cell_type": "code",
   "execution_count": 7,
   "metadata": {
    "collapsed": false,
    "scrolled": true
   },
   "outputs": [
    {
     "name": "stdout",
     "output_type": "stream",
     "text": [
      "0.01     30.0911\n",
      "0.99    286.0000\n",
      "Name: AREA, dtype: float64\n"
     ]
    }
   ],
   "source": [
    "#房屋面积，有许多outlier，建议将面积小于30和大于300的做删除处理，依据是1%和99%分位数\n",
    "print(dat0.AREA.quantile([0.01, 0.99]))  #查看房屋面积的1%和99%分位数\n",
    "dat0 = dat0[(dat0.AREA > 30) & (dat0.AREA < 300)]  #对AREA变量做部分删除处理"
   ]
  },
  {
   "cell_type": "code",
   "execution_count": 8,
   "metadata": {
    "collapsed": false,
    "scrolled": false
   },
   "outputs": [
    {
     "data": {
      "text/plain": [
       "<matplotlib.axes._subplots.AxesSubplot at 0xac599b0>"
      ]
     },
     "execution_count": 8,
     "metadata": {},
     "output_type": "execute_result"
    },
    {
     "data": {
      "image/png": "[encoded data removed]",
      "text/plain": [
       "<matplotlib.figure.Figure at 0xadf31d0>"
      ]
     },
     "metadata": {},
     "output_type": "display_data"
    }
   ],
   "source": [
    "dat0.AREA.hist(bins=20, color='lightblue')"
   ]
  },
  {
   "cell_type": "code",
   "execution_count": 9,
   "metadata": {
    "collapsed": false
   },
   "outputs": [
    {
     "name": "stdout",
     "output_type": "stream",
     "text": [
      "middle       5601\n",
      "high         5577\n",
      "low          5094\n",
      "basement      132\n",
      "Name: floor, dtype: int64\n"
     ]
    }
   ],
   "source": [
    "#楼层，basement相对较少，去掉地下室进行建模分析\n",
    "#低中高层不具有可比性，后续讨论需要注意\n",
    "print(dat0.floor.value_counts())  #查看楼层数的分布\n",
    "dat0=dat0[dat0[\"floor\"]!=\"basement \"]  #去掉地下室观测"
   ]
  },
  {
   "cell_type": "code",
   "execution_count": 10,
   "metadata": {
    "collapsed": false
   },
   "outputs": [
    {
     "name": "stdout",
     "output_type": "stream",
     "text": [
      "1    0.828\n",
      "0    0.172\n",
      "Name: subway, dtype: float64\n",
      "1    0.302\n",
      "0    0.698\n",
      "Name: school, dtype: float64\n"
     ]
    }
   ],
   "source": [
    "#是否邻近地铁，是否学区房是0-1变量，计算均值，即地铁房和学区房占比\n",
    "print(round(dat0.subway.value_counts(ascending=False) / len(dat0.subway), 3)) #82.8%的观测是邻近地铁的\n",
    "print(round(dat0.school.value_counts(ascending=True) / len(dat0.school), 3)) #30.2%的观测是学区房\n",
    "\n",
    "#print(dat0.subway.mean())  #82.8%的观测是邻近地铁的\n",
    "#print(dat0.school.mean())  #30.2%的观测是学区房"
   ]
  },
  {
   "cell_type": "code",
   "execution_count": 11,
   "metadata": {
    "collapsed": false,
    "scrolled": false
   },
   "outputs": [
    {
     "data": {
      "text/plain": [
       "<matplotlib.axes._subplots.AxesSubplot at 0xbe273c8>"
      ]
     },
     "execution_count": 11,
     "metadata": {},
     "output_type": "execute_result"
    },
    {
     "data": {
      "image/png": "[encoded data removed]",
      "text/plain": [
       "<matplotlib.figure.Figure at 0xae290f0>"
      ]
     },
     "metadata": {},
     "output_type": "display_data"
    }
   ],
   "source": [
    "dat0.price.hist(bins=20, color='lightblue')"
   ]
  },
  {
   "cell_type": "code",
   "execution_count": 12,
   "metadata": {
    "collapsed": false,
    "scrolled": false
   },
   "outputs": [
    {
     "name": "stdout",
     "output_type": "stream",
     "text": [
      "0.001     21576.940\n",
      "0.999    144944.748\n",
      "Name: price, dtype: float64\n"
     ]
    }
   ],
   "source": [
    "#单位面积房价，同样有许多outlier，按照0.1%和99.9%分位数，去掉单价小于1.35万和大于15万的\n",
    "print(dat0.price.quantile([0.001, 0.999]))  #查看单位面积房价的0.1%和99.9%分位数\n",
    "dat0=dat0[(dat0.price > 13500) & (dat0.price < 150000)]  #对单位面积房价变量做部分删除处理"
   ]
  },
  {
   "cell_type": "code",
   "execution_count": 13,
   "metadata": {
    "collapsed": false,
    "scrolled": true
   },
   "outputs": [
    {
     "data": {
      "text/plain": [
       "<matplotlib.axes._subplots.AxesSubplot at 0xbfe6b70>"
      ]
     },
     "execution_count": 13,
     "metadata": {},
     "output_type": "execute_result"
    },
    {
     "data": {
      "image/png": "[encoded data removed]",
      "text/plain": [
       "<matplotlib.figure.Figure at 0xc260a58>"
      ]
     },
     "metadata": {},
     "output_type": "display_data"
    }
   ],
   "source": [
    "dat0.price.hist(bins=20, color='lightblue')"
   ]
  },
  {
   "cell_type": "code",
   "execution_count": 14,
   "metadata": {
    "collapsed": true
   },
   "outputs": [],
   "source": [
    "#北京的经纬度取值范围：39.5--41 & 115.5--117.5\n",
    "dat0=dat0[(dat0.LONG >= 115.5) & (dat0.LONG <= 117.5)]\n",
    "dat0=dat0[(dat0.LAT >= 39.5) & (dat0.LAT <= 41)]"
   ]
  },
  {
   "cell_type": "code",
   "execution_count": 15,
   "metadata": {
    "collapsed": false
   },
   "outputs": [
    {
     "name": "stdout",
     "output_type": "stream",
     "text": [
      "3.48 %\n"
     ]
    }
   ],
   "source": [
    "######查看删除的观测条数和比例\n",
    "diff = dat.shape[0] - dat0.shape[0]\n",
    "print(round(100 * diff/dat.shape[0], 2), \"%\")"
   ]
  },
  {
   "cell_type": "code",
   "execution_count": 16,
   "metadata": {
    "collapsed": true
   },
   "outputs": [],
   "source": [
    "###保存做过清洗的数据集\n",
    "dat0.to_csv(\"mydata.csv\", index=True,sep=',')"
   ]
  },
  {
   "cell_type": "markdown",
   "metadata": {},
   "source": [
    "# 2 描述"
   ]
  },
  {
   "cell_type": "code",
   "execution_count": 17,
   "metadata": {
    "collapsed": false
   },
   "outputs": [
    {
     "data": {
      "text/html": [
       "<div>\n",
       "<style scoped>\n",
       "    .dataframe tbody tr th:only-of-type {\n",
       "        vertical-align: middle;\n",
       "    }\n",
       "\n",
       "    .dataframe tbody tr th {\n",
       "        vertical-align: top;\n",
       "    }\n",
       "\n",
       "    .dataframe thead th {\n",
       "        text-align: right;\n",
       "    }\n",
       "</style>\n",
       "<table border=\"1\" class=\"dataframe\">\n",
       "  <thead>\n",
       "    <tr style=\"text-align: right;\">\n",
       "      <th></th>\n",
       "      <th>count</th>\n",
       "      <th>unique</th>\n",
       "      <th>top</th>\n",
       "      <th>freq</th>\n",
       "      <th>mean</th>\n",
       "      <th>std</th>\n",
       "      <th>min</th>\n",
       "      <th>25%</th>\n",
       "      <th>50%</th>\n",
       "      <th>75%</th>\n",
       "      <th>max</th>\n",
       "    </tr>\n",
       "  </thead>\n",
       "  <tbody>\n",
       "    <tr>\n",
       "      <th>CATE</th>\n",
       "      <td>16210</td>\n",
       "      <td>6</td>\n",
       "      <td>fengtai</td>\n",
       "      <td>2947</td>\n",
       "      <td>NaN</td>\n",
       "      <td>NaN</td>\n",
       "      <td>NaN</td>\n",
       "      <td>NaN</td>\n",
       "      <td>NaN</td>\n",
       "      <td>NaN</td>\n",
       "      <td>NaN</td>\n",
       "    </tr>\n",
       "    <tr>\n",
       "      <th>bedrooms</th>\n",
       "      <td>16210</td>\n",
       "      <td>NaN</td>\n",
       "      <td>NaN</td>\n",
       "      <td>NaN</td>\n",
       "      <td>2.16619</td>\n",
       "      <td>0.809907</td>\n",
       "      <td>1</td>\n",
       "      <td>2</td>\n",
       "      <td>2</td>\n",
       "      <td>3</td>\n",
       "      <td>5</td>\n",
       "    </tr>\n",
       "    <tr>\n",
       "      <th>halls</th>\n",
       "      <td>16210</td>\n",
       "      <td>NaN</td>\n",
       "      <td>NaN</td>\n",
       "      <td>NaN</td>\n",
       "      <td>1.22141</td>\n",
       "      <td>0.532048</td>\n",
       "      <td>0</td>\n",
       "      <td>1</td>\n",
       "      <td>1</td>\n",
       "      <td>2</td>\n",
       "      <td>3</td>\n",
       "    </tr>\n",
       "    <tr>\n",
       "      <th>AREA</th>\n",
       "      <td>16210</td>\n",
       "      <td>NaN</td>\n",
       "      <td>NaN</td>\n",
       "      <td>NaN</td>\n",
       "      <td>91.7466</td>\n",
       "      <td>44.0008</td>\n",
       "      <td>30.06</td>\n",
       "      <td>60</td>\n",
       "      <td>78.83</td>\n",
       "      <td>110.517</td>\n",
       "      <td>299</td>\n",
       "    </tr>\n",
       "    <tr>\n",
       "      <th>floor</th>\n",
       "      <td>16210</td>\n",
       "      <td>3</td>\n",
       "      <td>middle</td>\n",
       "      <td>5580</td>\n",
       "      <td>NaN</td>\n",
       "      <td>NaN</td>\n",
       "      <td>NaN</td>\n",
       "      <td>NaN</td>\n",
       "      <td>NaN</td>\n",
       "      <td>NaN</td>\n",
       "      <td>NaN</td>\n",
       "    </tr>\n",
       "    <tr>\n",
       "      <th>subway</th>\n",
       "      <td>16210</td>\n",
       "      <td>NaN</td>\n",
       "      <td>NaN</td>\n",
       "      <td>NaN</td>\n",
       "      <td>0.827822</td>\n",
       "      <td>0.377546</td>\n",
       "      <td>0</td>\n",
       "      <td>1</td>\n",
       "      <td>1</td>\n",
       "      <td>1</td>\n",
       "      <td>1</td>\n",
       "    </tr>\n",
       "    <tr>\n",
       "      <th>school</th>\n",
       "      <td>16210</td>\n",
       "      <td>NaN</td>\n",
       "      <td>NaN</td>\n",
       "      <td>NaN</td>\n",
       "      <td>0.303085</td>\n",
       "      <td>0.459606</td>\n",
       "      <td>0</td>\n",
       "      <td>0</td>\n",
       "      <td>0</td>\n",
       "      <td>1</td>\n",
       "      <td>1</td>\n",
       "    </tr>\n",
       "    <tr>\n",
       "      <th>price</th>\n",
       "      <td>16210</td>\n",
       "      <td>NaN</td>\n",
       "      <td>NaN</td>\n",
       "      <td>NaN</td>\n",
       "      <td>61151.8</td>\n",
       "      <td>22293.4</td>\n",
       "      <td>18348</td>\n",
       "      <td>42812.2</td>\n",
       "      <td>57473</td>\n",
       "      <td>76099.8</td>\n",
       "      <td>149871</td>\n",
       "    </tr>\n",
       "    <tr>\n",
       "      <th>LONG</th>\n",
       "      <td>16210</td>\n",
       "      <td>NaN</td>\n",
       "      <td>NaN</td>\n",
       "      <td>NaN</td>\n",
       "      <td>116.378</td>\n",
       "      <td>0.088902</td>\n",
       "      <td>115.982</td>\n",
       "      <td>116.326</td>\n",
       "      <td>116.384</td>\n",
       "      <td>116.438</td>\n",
       "      <td>117.118</td>\n",
       "    </tr>\n",
       "    <tr>\n",
       "      <th>LAT</th>\n",
       "      <td>16210</td>\n",
       "      <td>NaN</td>\n",
       "      <td>NaN</td>\n",
       "      <td>NaN</td>\n",
       "      <td>39.9274</td>\n",
       "      <td>0.0582735</td>\n",
       "      <td>39.6625</td>\n",
       "      <td>39.8905</td>\n",
       "      <td>39.9216</td>\n",
       "      <td>39.96</td>\n",
       "      <td>40.4792</td>\n",
       "    </tr>\n",
       "    <tr>\n",
       "      <th>NAME</th>\n",
       "      <td>16210</td>\n",
       "      <td>2956</td>\n",
       "      <td>远洋山水</td>\n",
       "      <td>187</td>\n",
       "      <td>NaN</td>\n",
       "      <td>NaN</td>\n",
       "      <td>NaN</td>\n",
       "      <td>NaN</td>\n",
       "      <td>NaN</td>\n",
       "      <td>NaN</td>\n",
       "      <td>NaN</td>\n",
       "    </tr>\n",
       "    <tr>\n",
       "      <th>DISTRICT</th>\n",
       "      <td>16210</td>\n",
       "      <td>173</td>\n",
       "      <td>鲁谷</td>\n",
       "      <td>918</td>\n",
       "      <td>NaN</td>\n",
       "      <td>NaN</td>\n",
       "      <td>NaN</td>\n",
       "      <td>NaN</td>\n",
       "      <td>NaN</td>\n",
       "      <td>NaN</td>\n",
       "      <td>NaN</td>\n",
       "    </tr>\n",
       "  </tbody>\n",
       "</table>\n",
       "</div>"
      ],
      "text/plain": [
       "          count unique      top  freq      mean        std      min      25%  \\\n",
       "CATE      16210      6  fengtai  2947       NaN        NaN      NaN      NaN   \n",
       "bedrooms  16210    NaN      NaN   NaN   2.16619   0.809907        1        2   \n",
       "halls     16210    NaN      NaN   NaN   1.22141   0.532048        0        1   \n",
       "AREA      16210    NaN      NaN   NaN   91.7466    44.0008    30.06       60   \n",
       "floor     16210      3   middle  5580       NaN        NaN      NaN      NaN   \n",
       "subway    16210    NaN      NaN   NaN  0.827822   0.377546        0        1   \n",
       "school    16210    NaN      NaN   NaN  0.303085   0.459606        0        0   \n",
       "price     16210    NaN      NaN   NaN   61151.8    22293.4    18348  42812.2   \n",
       "LONG      16210    NaN      NaN   NaN   116.378   0.088902  115.982  116.326   \n",
       "LAT       16210    NaN      NaN   NaN   39.9274  0.0582735  39.6625  39.8905   \n",
       "NAME      16210   2956     远洋山水   187       NaN        NaN      NaN      NaN   \n",
       "DISTRICT  16210    173       鲁谷   918       NaN        NaN      NaN      NaN   \n",
       "\n",
       "              50%      75%      max  \n",
       "CATE          NaN      NaN      NaN  \n",
       "bedrooms        2        3        5  \n",
       "halls           1        2        3  \n",
       "AREA        78.83  110.517      299  \n",
       "floor         NaN      NaN      NaN  \n",
       "subway          1        1        1  \n",
       "school          0        1        1  \n",
       "price       57473  76099.8   149871  \n",
       "LONG      116.384  116.438  117.118  \n",
       "LAT       39.9216    39.96  40.4792  \n",
       "NAME          NaN      NaN      NaN  \n",
       "DISTRICT      NaN      NaN      NaN  "
      ]
     },
     "execution_count": 17,
     "metadata": {},
     "output_type": "execute_result"
    }
   ],
   "source": [
    "dat0 = pd.read_csv(\"mydata.csv\", encoding=\"utf-8\")  #读入清洗过后的数据\n",
    "dat0.pop(\"Unnamed: 0\")  #去掉第一列序号  dat0.drop('Unnamed: 0',axis=1)\n",
    "n = dat0.shape[0]  #样本量\n",
    "dat0.describe(include=\"all\").T  #查看数据基本描述"
   ]
  },
  {
   "cell_type": "code",
   "execution_count": 18,
   "metadata": {
    "collapsed": true
   },
   "outputs": [],
   "source": [
    "dat0.price=dat0.price/10000  #价格单位转换成万元"
   ]
  },
  {
   "cell_type": "code",
   "execution_count": 19,
   "metadata": {
    "collapsed": false
   },
   "outputs": [
    {
     "data": {
      "text/html": [
       "<div>\n",
       "<style scoped>\n",
       "    .dataframe tbody tr th:only-of-type {\n",
       "        vertical-align: middle;\n",
       "    }\n",
       "\n",
       "    .dataframe tbody tr th {\n",
       "        vertical-align: top;\n",
       "    }\n",
       "\n",
       "    .dataframe thead th {\n",
       "        text-align: right;\n",
       "    }\n",
       "</style>\n",
       "<table border=\"1\" class=\"dataframe\">\n",
       "  <thead>\n",
       "    <tr style=\"text-align: right;\">\n",
       "      <th></th>\n",
       "      <th>CATE</th>\n",
       "      <th>bedrooms</th>\n",
       "      <th>halls</th>\n",
       "      <th>AREA</th>\n",
       "      <th>floor</th>\n",
       "      <th>subway</th>\n",
       "      <th>school</th>\n",
       "      <th>price</th>\n",
       "      <th>LONG</th>\n",
       "      <th>LAT</th>\n",
       "      <th>NAME</th>\n",
       "      <th>DISTRICT</th>\n",
       "    </tr>\n",
       "  </thead>\n",
       "  <tbody>\n",
       "    <tr>\n",
       "      <th>0</th>\n",
       "      <td>朝阳</td>\n",
       "      <td>1</td>\n",
       "      <td>0</td>\n",
       "      <td>46.06</td>\n",
       "      <td>middle</td>\n",
       "      <td>1</td>\n",
       "      <td>0</td>\n",
       "      <td>4.8850</td>\n",
       "      <td>116.459653</td>\n",
       "      <td>39.928347</td>\n",
       "      <td>10AM新坐标</td>\n",
       "      <td>方庄</td>\n",
       "    </tr>\n",
       "    <tr>\n",
       "      <th>1</th>\n",
       "      <td>朝阳</td>\n",
       "      <td>1</td>\n",
       "      <td>1</td>\n",
       "      <td>59.09</td>\n",
       "      <td>middle</td>\n",
       "      <td>1</td>\n",
       "      <td>0</td>\n",
       "      <td>4.6540</td>\n",
       "      <td>116.459653</td>\n",
       "      <td>39.928347</td>\n",
       "      <td>10AM新坐标</td>\n",
       "      <td>方庄</td>\n",
       "    </tr>\n",
       "    <tr>\n",
       "      <th>2</th>\n",
       "      <td>海淀</td>\n",
       "      <td>5</td>\n",
       "      <td>2</td>\n",
       "      <td>278.95</td>\n",
       "      <td>high</td>\n",
       "      <td>1</td>\n",
       "      <td>1</td>\n",
       "      <td>7.1662</td>\n",
       "      <td>116.303556</td>\n",
       "      <td>39.954807</td>\n",
       "      <td>10号名邸</td>\n",
       "      <td>紫竹桥</td>\n",
       "    </tr>\n",
       "    <tr>\n",
       "      <th>3</th>\n",
       "      <td>海淀</td>\n",
       "      <td>3</td>\n",
       "      <td>2</td>\n",
       "      <td>207.00</td>\n",
       "      <td>high</td>\n",
       "      <td>1</td>\n",
       "      <td>1</td>\n",
       "      <td>5.7972</td>\n",
       "      <td>116.303556</td>\n",
       "      <td>39.954807</td>\n",
       "      <td>10号名邸</td>\n",
       "      <td>紫竹桥</td>\n",
       "    </tr>\n",
       "    <tr>\n",
       "      <th>4</th>\n",
       "      <td>丰台</td>\n",
       "      <td>2</td>\n",
       "      <td>1</td>\n",
       "      <td>53.32</td>\n",
       "      <td>low</td>\n",
       "      <td>1</td>\n",
       "      <td>1</td>\n",
       "      <td>7.1268</td>\n",
       "      <td>116.418826</td>\n",
       "      <td>39.943813</td>\n",
       "      <td>17号旁门</td>\n",
       "      <td>蒲黄榆</td>\n",
       "    </tr>\n",
       "  </tbody>\n",
       "</table>\n",
       "</div>"
      ],
      "text/plain": [
       "  CATE  bedrooms  halls    AREA   floor  subway  school   price        LONG  \\\n",
       "0   朝阳         1      0   46.06  middle       1       0  4.8850  116.459653   \n",
       "1   朝阳         1      1   59.09  middle       1       0  4.6540  116.459653   \n",
       "2   海淀         5      2  278.95    high       1       1  7.1662  116.303556   \n",
       "3   海淀         3      2  207.00    high       1       1  5.7972  116.303556   \n",
       "4   丰台         2      1   53.32     low       1       1  7.1268  116.418826   \n",
       "\n",
       "         LAT     NAME DISTRICT  \n",
       "0  39.928347  10AM新坐标       方庄  \n",
       "1  39.928347  10AM新坐标       方庄  \n",
       "2  39.954807    10号名邸      紫竹桥  \n",
       "3  39.954807    10号名邸      紫竹桥  \n",
       "4  39.943813    17号旁门      蒲黄榆  "
      ]
     },
     "execution_count": 19,
     "metadata": {},
     "output_type": "execute_result"
    }
   ],
   "source": [
    "#将城区的水平由拼音改成中文，以便作图输出美观\n",
    "dict1 = {\n",
    "        u'chaoyang' : \"朝阳\",\n",
    "        u'dongcheng' : \"东城\",\n",
    "        u'fengtai' :  \"丰台\",\n",
    "        u'haidian' : \"海淀\",\n",
    "        u'shijingshan' : \"石景山\",\n",
    "        u'xicheng': \"西城\"\n",
    "        }  \n",
    "# dat0.CATE = dat0.CATE.apply(lambda x : dict1[x])  \n",
    "dat0.CATE = dat0.CATE.map(dict1)\n",
    "dat0.head()"
   ]
  },
  {
   "cell_type": "markdown",
   "metadata": {},
   "source": [
    "2.1 因变量\n",
    "\n",
    "price"
   ]
  },
  {
   "cell_type": "code",
   "execution_count": 20,
   "metadata": {
    "collapsed": false
   },
   "outputs": [
    {
     "data": {
      "text/plain": [
       "Text(0,0.5,'频数')"
      ]
     },
     "execution_count": 20,
     "metadata": {},
     "output_type": "execute_result"
    },
    {
     "data": {
      "image/png": "[encoded data removed]",
      "text/plain": [
       "<matplotlib.figure.Figure at 0xc2bb7b8>"
      ]
     },
     "metadata": {},
     "output_type": "display_data"
    }
   ],
   "source": [
    "#因变量直方图\n",
    "dat0.price.hist(bins=20, color='lightblue')\n",
    "#dat0.price.plot(kind=\"hist\",color='lightblue')\n",
    "plt.xlabel(\"单位面积房价（万元/平方米）\")\n",
    "plt.ylabel(\"频数\")"
   ]
  },
  {
   "cell_type": "code",
   "execution_count": 21,
   "metadata": {
    "collapsed": false
   },
   "outputs": [
    {
     "name": "stdout",
     "output_type": "stream",
     "text": [
      "mean      6.115181\n",
      "median    5.747300\n",
      "std       2.229336\n",
      "Name: price, dtype: float64\n",
      "0.25    4.281225\n",
      "0.50    5.747300\n",
      "0.75    7.609975\n",
      "Name: price, dtype: float64\n"
     ]
    }
   ],
   "source": [
    "print(dat0.price.agg(['mean', 'median', 'std']))  #查看price的均值、中位数和标准差等更多信息\n",
    "print(dat0.price.quantile([0.25, 0.5, 0.75]))"
   ]
  },
  {
   "cell_type": "code",
   "execution_count": 22,
   "metadata": {
    "collapsed": false
   },
   "outputs": [
    {
     "data": {
      "text/html": [
       "<div>\n",
       "<style scoped>\n",
       "    .dataframe tbody tr th:only-of-type {\n",
       "        vertical-align: middle;\n",
       "    }\n",
       "\n",
       "    .dataframe tbody tr th {\n",
       "        vertical-align: top;\n",
       "    }\n",
       "\n",
       "    .dataframe thead th {\n",
       "        text-align: right;\n",
       "    }\n",
       "</style>\n",
       "<table border=\"1\" class=\"dataframe\">\n",
       "  <thead>\n",
       "    <tr style=\"text-align: right;\">\n",
       "      <th></th>\n",
       "      <th>CATE</th>\n",
       "      <th>bedrooms</th>\n",
       "      <th>halls</th>\n",
       "      <th>AREA</th>\n",
       "      <th>floor</th>\n",
       "      <th>subway</th>\n",
       "      <th>school</th>\n",
       "      <th>price</th>\n",
       "      <th>LONG</th>\n",
       "      <th>LAT</th>\n",
       "      <th>NAME</th>\n",
       "      <th>DISTRICT</th>\n",
       "    </tr>\n",
       "  </thead>\n",
       "  <tbody>\n",
       "    <tr>\n",
       "      <th>2738</th>\n",
       "      <td>丰台</td>\n",
       "      <td>2</td>\n",
       "      <td>2</td>\n",
       "      <td>100.83</td>\n",
       "      <td>high</td>\n",
       "      <td>0</td>\n",
       "      <td>0</td>\n",
       "      <td>1.8348</td>\n",
       "      <td>116.217060</td>\n",
       "      <td>39.828799</td>\n",
       "      <td>东山坡三里</td>\n",
       "      <td>丰台其它</td>\n",
       "    </tr>\n",
       "    <tr>\n",
       "      <th>12788</th>\n",
       "      <td>西城</td>\n",
       "      <td>3</td>\n",
       "      <td>1</td>\n",
       "      <td>77.40</td>\n",
       "      <td>low</td>\n",
       "      <td>1</td>\n",
       "      <td>0</td>\n",
       "      <td>14.9871</td>\n",
       "      <td>116.374996</td>\n",
       "      <td>39.909901</td>\n",
       "      <td>新文化街</td>\n",
       "      <td>金融街</td>\n",
       "    </tr>\n",
       "  </tbody>\n",
       "</table>\n",
       "</div>"
      ],
      "text/plain": [
       "      CATE  bedrooms  halls    AREA floor  subway  school    price  \\\n",
       "2738    丰台         2      2  100.83  high       0       0   1.8348   \n",
       "12788   西城         3      1   77.40   low       1       0  14.9871   \n",
       "\n",
       "             LONG        LAT   NAME DISTRICT  \n",
       "2738   116.217060  39.828799  东山坡三里     丰台其它  \n",
       "12788  116.374996  39.909901   新文化街      金融街  "
      ]
     },
     "execution_count": 22,
     "metadata": {},
     "output_type": "execute_result"
    }
   ],
   "source": [
    "#查看房价最高和最低的两条观测\n",
    "pd.concat([(dat0[dat0.price==min(dat0.price)]),(dat0[dat0.price==max(dat0.price)])])"
   ]
  },
  {
   "cell_type": "markdown",
   "metadata": {},
   "source": [
    "2.2 自变量：\n",
    "\n",
    "CATE+bedrooms+halls+floor+subway+school+AREA"
   ]
  },
  {
   "cell_type": "code",
   "execution_count": 23,
   "metadata": {
    "collapsed": false
   },
   "outputs": [
    {
     "name": "stdout",
     "output_type": "stream",
     "text": [
      "CATE :\n",
      "                丰台    海淀    朝阳    东城    西城   石景山\n",
      "value_counts  2947  2919  2864  2783  2750  1947\n",
      "=======================================================================\n",
      "bedrooms :\n",
      "                 2     3     1    4    5\n",
      "value_counts  7971  4250  3212  675  102\n",
      "=======================================================================\n",
      "halls :\n",
      "                  1     2    0   3\n",
      "value_counts  11082  4231  812  85\n",
      "=======================================================================\n",
      "floor :\n",
      "              middle  high   low\n",
      "value_counts    5580  5552  5078\n",
      "=======================================================================\n",
      "subway :\n",
      "                  1     0\n",
      "value_counts  13419  2791\n",
      "=======================================================================\n",
      "school :\n",
      "                  0     1\n",
      "value_counts  11297  4913\n",
      "=======================================================================\n",
      "AREA:\n",
      "min        30.060000\n",
      "mean       91.746598\n",
      "median     78.830000\n",
      "max       299.000000\n",
      "std        44.000768\n",
      "Name: AREA, dtype: float64\n"
     ]
    }
   ],
   "source": [
    "#整体来看\n",
    "for i in range(7):\n",
    "    if i != 3:\n",
    "        print(dat0.columns.values[i],\":\")\n",
    "        print(dat0[dat0.columns.values[i]].agg(['value_counts']).T)\n",
    "        print(\"=======================================================================\")\n",
    "    else:\n",
    "        continue\n",
    "print('AREA:')\n",
    "print(dat0.AREA.agg(['min', 'mean', 'median', 'max', 'std']).T)"
   ]
  },
  {
   "cell_type": "markdown",
   "metadata": {},
   "source": [
    "2.2.1 CATE"
   ]
  },
  {
   "cell_type": "code",
   "execution_count": 24,
   "metadata": {
    "collapsed": false
   },
   "outputs": [
    {
     "data": {
      "text/html": [
       "<div>\n",
       "<style scoped>\n",
       "    .dataframe tbody tr th:only-of-type {\n",
       "        vertical-align: middle;\n",
       "    }\n",
       "\n",
       "    .dataframe tbody tr th {\n",
       "        vertical-align: top;\n",
       "    }\n",
       "\n",
       "    .dataframe thead th {\n",
       "        text-align: right;\n",
       "    }\n",
       "</style>\n",
       "<table border=\"1\" class=\"dataframe\">\n",
       "  <thead>\n",
       "    <tr style=\"text-align: right;\">\n",
       "      <th></th>\n",
       "      <th>value_counts</th>\n",
       "    </tr>\n",
       "  </thead>\n",
       "  <tbody>\n",
       "    <tr>\n",
       "      <th>丰台</th>\n",
       "      <td>2947</td>\n",
       "    </tr>\n",
       "    <tr>\n",
       "      <th>海淀</th>\n",
       "      <td>2919</td>\n",
       "    </tr>\n",
       "    <tr>\n",
       "      <th>朝阳</th>\n",
       "      <td>2864</td>\n",
       "    </tr>\n",
       "    <tr>\n",
       "      <th>东城</th>\n",
       "      <td>2783</td>\n",
       "    </tr>\n",
       "    <tr>\n",
       "      <th>西城</th>\n",
       "      <td>2750</td>\n",
       "    </tr>\n",
       "    <tr>\n",
       "      <th>石景山</th>\n",
       "      <td>1947</td>\n",
       "    </tr>\n",
       "  </tbody>\n",
       "</table>\n",
       "</div>"
      ],
      "text/plain": [
       "     value_counts\n",
       "丰台           2947\n",
       "海淀           2919\n",
       "朝阳           2864\n",
       "东城           2783\n",
       "西城           2750\n",
       "石景山          1947"
      ]
     },
     "execution_count": 24,
     "metadata": {},
     "output_type": "execute_result"
    },
    {
     "data": {
      "image/png": "[encoded data removed]",
      "text/plain": [
       "<matplotlib.figure.Figure at 0xc2aec50>"
      ]
     },
     "metadata": {},
     "output_type": "display_data"
    }
   ],
   "source": [
    "#频次统计\n",
    "dat0.CATE.value_counts().plot(kind='pie')   #绘制柱形图\n",
    "dat0.CATE.agg(['value_counts'])\n",
    "#dat0.CATE.value_counts()"
   ]
  },
  {
   "cell_type": "code",
   "execution_count": 25,
   "metadata": {
    "collapsed": false
   },
   "outputs": [
    {
     "name": "stderr",
     "output_type": "stream",
     "text": [
      "E:\\Anaconda3\\lib\\site-packages\\pandas\\core\\generic.py:3643: SettingWithCopyWarning: \n",
      "A value is trying to be set on a copy of a slice from a DataFrame.\n",
      "Try using .loc[row_indexer,col_indexer] = value instead\n",
      "\n",
      "See the caveats in the documentation: http://pandas.pydata.org/pandas-docs/stable/indexing.html#indexing-view-versus-copy\n",
      "  self[name] = value\n",
      "E:\\Anaconda3\\lib\\site-packages\\ipykernel\\__main__.py:4: SettingWithCopyWarning: \n",
      "A value is trying to be set on a copy of a slice from a DataFrame\n",
      "\n",
      "See the caveats in the documentation: http://pandas.pydata.org/pandas-docs/stable/indexing.html#indexing-view-versus-copy\n"
     ]
    },
    {
     "data": {
      "text/plain": [
       "Text(0.5,1,'城区对房价的分组箱线图')"
      ]
     },
     "execution_count": 25,
     "metadata": {},
     "output_type": "execute_result"
    },
    {
     "data": {
      "image/png": "[encoded data removed]",
      "text/plain": [
       "<matplotlib.figure.Figure at 0xc2cfc50>"
      ]
     },
     "metadata": {},
     "output_type": "display_data"
    }
   ],
   "source": [
    "dat1 = dat0[['CATE','price']]\n",
    "dat1.CATE = dat1.CATE.astype(\"category\")\n",
    "dat1.CATE.cat.set_categories([\"石景山\", \"丰台\", \"朝阳\", \"海淀\", \"东城\", \"西城\"],inplace=True)\n",
    "dat1.sort_values(by=['CATE'],inplace=True)\n",
    "sns.boxplot(x='CATE', y='price',data=dat1)\n",
    "#dat1.boxplot(by='CATE',patch_artist=True)\n",
    "plt.ylabel(\"单位面积房价(万元/平方米)\")\n",
    "plt.xlabel(\"城区\")\n",
    "plt.title(\"城区对房价的分组箱线图\")"
   ]
  },
  {
   "cell_type": "code",
   "execution_count": 26,
   "metadata": {
    "collapsed": false
   },
   "outputs": [
    {
     "data": {
      "text/plain": [
       "<matplotlib.axes._subplots.AxesSubplot at 0xc37e588>"
      ]
     },
     "execution_count": 26,
     "metadata": {},
     "output_type": "execute_result"
    },
    {
     "data": {
      "image/png": "[encoded data removed]",
      "text/plain": [
       "<matplotlib.figure.Figure at 0xc2c5048>"
      ]
     },
     "metadata": {},
     "output_type": "display_data"
    }
   ],
   "source": [
    "dat0.price.groupby(dat0.CATE).mean().sort_values(ascending=True).plot(kind='barh')  #不同城区的单位房价面积均值情况"
   ]
  },
  {
   "cell_type": "markdown",
   "metadata": {},
   "source": [
    "2.2.2 bedrooms"
   ]
  },
  {
   "cell_type": "code",
   "execution_count": 27,
   "metadata": {
    "collapsed": false
   },
   "outputs": [
    {
     "data": {
      "text/plain": [
       "<matplotlib.axes._subplots.AxesSubplot at 0xc94a7b8>"
      ]
     },
     "execution_count": 27,
     "metadata": {},
     "output_type": "execute_result"
    },
    {
     "data": {
      "image/png": "[encoded data removed]",
      "text/plain": [
       "<matplotlib.figure.Figure at 0xbe51128>"
      ]
     },
     "metadata": {},
     "output_type": "display_data"
    }
   ],
   "source": [
    "#不同卧室数的单位面积房价差异不大\n",
    "dat4 = dat0[['bedrooms','price']]\n",
    "dat4.price.groupby(dat4.bedrooms).mean().plot(kind='bar')\n",
    "#dat4.boxplot(by='bedrooms',patch_artist=True)"
   ]
  },
  {
   "cell_type": "markdown",
   "metadata": {},
   "source": [
    "2.2.3 halls"
   ]
  },
  {
   "cell_type": "code",
   "execution_count": 28,
   "metadata": {
    "collapsed": false
   },
   "outputs": [
    {
     "data": {
      "text/plain": [
       "<matplotlib.axes._subplots.AxesSubplot at 0xc9837b8>"
      ]
     },
     "execution_count": 28,
     "metadata": {},
     "output_type": "execute_result"
    },
    {
     "data": {
      "image/png": "[encoded data removed]",
      "text/plain": [
       "<matplotlib.figure.Figure at 0xbfebeb8>"
      ]
     },
     "metadata": {},
     "output_type": "display_data"
    }
   ],
   "source": [
    "#客厅数越多，单位面积房价递减\n",
    "dat5 = dat0[['halls','price']]\n",
    "dat5.price.groupby(dat5.halls).mean().plot(kind='bar')\n",
    "#dat5.boxplot(by='halls',patch_artist=True)"
   ]
  },
  {
   "cell_type": "markdown",
   "metadata": {},
   "source": [
    "2.2.4 floor"
   ]
  },
  {
   "cell_type": "code",
   "execution_count": 29,
   "metadata": {
    "collapsed": false
   },
   "outputs": [
    {
     "name": "stderr",
     "output_type": "stream",
     "text": [
      "E:\\Anaconda3\\lib\\site-packages\\pandas\\core\\generic.py:3643: SettingWithCopyWarning: \n",
      "A value is trying to be set on a copy of a slice from a DataFrame.\n",
      "Try using .loc[row_indexer,col_indexer] = value instead\n",
      "\n",
      "See the caveats in the documentation: http://pandas.pydata.org/pandas-docs/stable/indexing.html#indexing-view-versus-copy\n",
      "  self[name] = value\n",
      "E:\\Anaconda3\\lib\\site-packages\\ipykernel\\__main__.py:5: SettingWithCopyWarning: \n",
      "A value is trying to be set on a copy of a slice from a DataFrame\n",
      "\n",
      "See the caveats in the documentation: http://pandas.pydata.org/pandas-docs/stable/indexing.html#indexing-view-versus-copy\n"
     ]
    },
    {
     "data": {
      "text/plain": [
       "<matplotlib.axes._subplots.AxesSubplot at 0xc98f3c8>"
      ]
     },
     "execution_count": 29,
     "metadata": {},
     "output_type": "execute_result"
    },
    {
     "data": {
      "image/png": "[encoded data removed]",
      "text/plain": [
       "<matplotlib.figure.Figure at 0xc2b7a90>"
      ]
     },
     "metadata": {},
     "output_type": "display_data"
    }
   ],
   "source": [
    "#不同楼层的单位面积房价差异不明显\n",
    "dat6 = dat0[['floor','price']]\n",
    "dat6.floor = dat6.floor.astype(\"category\")\n",
    "dat6.floor.cat.set_categories([\"low\",\"middle\",\"high\"],inplace=True)\n",
    "dat6.sort_values(by=['floor'],inplace=True)\n",
    "#dat6.boxplot(by='floor',patch_artist=True)\n",
    "dat6.price.groupby(dat6.floor).mean().plot(kind='bar')"
   ]
  },
  {
   "cell_type": "markdown",
   "metadata": {},
   "source": [
    "2.2.5 subway+school"
   ]
  },
  {
   "cell_type": "code",
   "execution_count": 30,
   "metadata": {
    "collapsed": false
   },
   "outputs": [
    {
     "name": "stdout",
     "output_type": "stream",
     "text": [
      "school     0     1\n",
      "subway            \n",
      "0       2378   413\n",
      "1       8919  4500\n"
     ]
    },
    {
     "data": {
      "text/html": [
       "<div>\n",
       "<style scoped>\n",
       "    .dataframe tbody tr th:only-of-type {\n",
       "        vertical-align: middle;\n",
       "    }\n",
       "\n",
       "    .dataframe tbody tr th {\n",
       "        vertical-align: top;\n",
       "    }\n",
       "\n",
       "    .dataframe thead th {\n",
       "        text-align: right;\n",
       "    }\n",
       "</style>\n",
       "<table border=\"1\" class=\"dataframe\">\n",
       "  <thead>\n",
       "    <tr style=\"text-align: right;\">\n",
       "      <th>school</th>\n",
       "      <th>0</th>\n",
       "      <th>1</th>\n",
       "    </tr>\n",
       "    <tr>\n",
       "      <th>subway</th>\n",
       "      <th></th>\n",
       "      <th></th>\n",
       "    </tr>\n",
       "  </thead>\n",
       "  <tbody>\n",
       "    <tr>\n",
       "      <th>0</th>\n",
       "      <td>0.852024</td>\n",
       "      <td>0.147976</td>\n",
       "    </tr>\n",
       "    <tr>\n",
       "      <th>1</th>\n",
       "      <td>0.664655</td>\n",
       "      <td>0.335345</td>\n",
       "    </tr>\n",
       "  </tbody>\n",
       "</table>\n",
       "</div>"
      ],
      "text/plain": [
       "school         0         1\n",
       "subway                    \n",
       "0       0.852024  0.147976\n",
       "1       0.664655  0.335345"
      ]
     },
     "execution_count": 30,
     "metadata": {},
     "output_type": "execute_result"
    }
   ],
   "source": [
    "print(pd.crosstab(dat0.subway,dat0.school))\n",
    "sub_sch = pd.crosstab(dat0.subway,dat0.school)\n",
    "sub_sch = sub_sch.div(sub_sch.sum(1),axis = 0)\n",
    "sub_sch"
   ]
  },
  {
   "cell_type": "code",
   "execution_count": 31,
   "metadata": {
    "collapsed": true
   },
   "outputs": [],
   "source": [
    "def stack2dim(raw, i, j, rotation = 0, location = 'upper left'):\n",
    "    '''\n",
    "    此函数是为了画两个维度标准化的堆积柱状图\n",
    "    要求是目标变量j是二分类的\n",
    "    raw为pandas的DataFrame数据框\n",
    "    i、j为两个分类变量的变量名称，要求带引号，比如\"school\"\n",
    "    rotation：水平标签旋转角度，默认水平方向，如标签过长，可设置一定角度，比如设置rotation = 40\n",
    "    location：分类标签的位置，如果被主体图形挡住，可更改为'upper left'\n",
    "    \n",
    "    '''\n",
    "    import math\n",
    "    data_raw = pd.crosstab(raw[i], raw[j])\n",
    "    data = data_raw.div(data_raw.sum(1), axis=0)  # 交叉表转换成比率，为得到标准化堆积柱状图\n",
    "    \n",
    "    # 计算x坐标，及bar宽度\n",
    "    createVar = locals()\n",
    "    x = [0] #每个bar的中心x轴坐标\n",
    "    width = [] #bar的宽度\n",
    "    k = 0\n",
    "    for n in range(len(data)):\n",
    "        # 根据频数计算每一列bar的宽度\n",
    "        createVar['width' + str(n)] = data_raw.sum(axis=1)[n] / sum(data_raw.sum(axis=1))\n",
    "        width.append(createVar['width' + str(n)])  \n",
    "        if n == 0:\n",
    "            continue\n",
    "        else:\n",
    "            k += createVar['width' + str(n - 1)] / 2 + createVar['width' + str(n)] / 2 + 0.05\n",
    "            x.append(k)  \n",
    "    \n",
    "    # 以下是通过频率交叉表矩阵生成一列对应堆积图每一块位置数据的数组，再把数组转化为矩阵\n",
    "    y_mat = []\n",
    "    n = 0\n",
    "    for p in range(data.shape[0]):\n",
    "        for q in range(data.shape[1]):\n",
    "            n += 1\n",
    "            y_mat.append(data.iloc[p, q])\n",
    "            if n == data.shape[0] * 2:\n",
    "                break\n",
    "            elif n % 2 == 1:\n",
    "                y_mat.extend([0] * (len(data) - 1))\n",
    "            elif n % 2 == 0:\n",
    "                y_mat.extend([0] * len(data))\n",
    "\n",
    "    y_mat = np.array(y_mat).reshape(len(data) * 2, len(data))\n",
    "    y_mat = pd.DataFrame(y_mat)  # bar图中的y变量矩阵，每一行是一个y变量\n",
    "    \n",
    "    # 通过x，y_mat中的每一行y，依次绘制每一块堆积图中的每一块图\n",
    "    createVar = locals()\n",
    "    for row in range(len(y_mat)):\n",
    "        createVar['a' + str(row)] = y_mat.iloc[row, :]\n",
    "        if row % 2 == 0:\n",
    "            if math.floor(row / 2) == 0:\n",
    "                label = data.columns.name + ': ' + str(data.columns[row])\n",
    "                plt.bar(x, createVar['a' + str(row)],\n",
    "                        width=width[math.floor(row / 2)], label='0', color='#5F9EA0')\n",
    "            else:\n",
    "                plt.bar(x, createVar['a' + str(row)],\n",
    "                        width=width[math.floor(row / 2)], color='#5F9EA0')\n",
    "        elif row % 2 == 1:\n",
    "            if math.floor(row / 2) == 0:\n",
    "                label = data.columns.name + ': ' + str(data.columns[row])\n",
    "                plt.bar(x, createVar['a' + str(row)], bottom=createVar['a' + str(row - 1)],\n",
    "                        width=width[math.floor(row / 2)], label='1', color='#8FBC8F')\n",
    "            else:\n",
    "                plt.bar(x, createVar['a' + str(row)], bottom=createVar['a' + str(row - 1)],\n",
    "                        width=width[math.floor(row / 2)], color='#8FBC8F')\n",
    "\n",
    "    plt.title(j + ' vs ' + i)\n",
    "    group_labels = [data.index.name + ': ' + str(name) for name in data.index]\n",
    "    plt.xticks(x, group_labels, rotation = rotation)\n",
    "    plt.ylabel(j)\n",
    "    plt.legend(shadow=True, loc=location)\n",
    "    plt.show()"
   ]
  },
  {
   "cell_type": "code",
   "execution_count": 32,
   "metadata": {
    "collapsed": false
   },
   "outputs": [
    {
     "data": {
      "image/png": "[encoded data removed]",
      "text/plain": [
       "<matplotlib.figure.Figure at 0xced2b70>"
      ]
     },
     "metadata": {},
     "output_type": "display_data"
    }
   ],
   "source": [
    "stack2dim(dat0, i=\"subway\", j=\"school\")"
   ]
  },
  {
   "cell_type": "code",
   "execution_count": 33,
   "metadata": {
    "collapsed": false
   },
   "outputs": [
    {
     "data": {
      "text/plain": [
       "<matplotlib.axes._subplots.AxesSubplot at 0xcfd85c0>"
      ]
     },
     "execution_count": 33,
     "metadata": {},
     "output_type": "execute_result"
    },
    {
     "data": {
      "image/png": "[encoded data removed]",
      "text/plain": [
       "<matplotlib.figure.Figure at 0xcf10048>"
      ]
     },
     "metadata": {},
     "output_type": "display_data"
    },
    {
     "data": {
      "image/png": "[encoded data removed]",
      "text/plain": [
       "<matplotlib.figure.Figure at 0xcfa3898>"
      ]
     },
     "metadata": {},
     "output_type": "display_data"
    }
   ],
   "source": [
    "#地铁、学区的分组箱线图\n",
    "dat2 = dat0[['subway','price']]\n",
    "dat3 = dat0[['school','price']]\n",
    "dat2.boxplot(by='subway',patch_artist=True)\n",
    "dat3.boxplot(by='school',patch_artist=True)"
   ]
  },
  {
   "cell_type": "markdown",
   "metadata": {},
   "source": [
    "2.2.6 AREA"
   ]
  },
  {
   "cell_type": "code",
   "execution_count": 34,
   "metadata": {
    "collapsed": false
   },
   "outputs": [
    {
     "name": "stderr",
     "output_type": "stream",
     "text": [
      "E:\\Anaconda3\\lib\\site-packages\\ipykernel\\__main__.py:3: SettingWithCopyWarning: \n",
      "A value is trying to be set on a copy of a slice from a DataFrame.\n",
      "Try using .loc[row_indexer,col_indexer] = value instead\n",
      "\n",
      "See the caveats in the documentation: http://pandas.pydata.org/pandas-docs/stable/indexing.html#indexing-view-versus-copy\n",
      "  app.launch_new_instance()\n"
     ]
    },
    {
     "data": {
      "text/plain": [
       "Text(0.5,0,'面积（平方米）')"
      ]
     },
     "execution_count": 34,
     "metadata": {},
     "output_type": "execute_result"
    },
    {
     "data": {
      "image/png": "[encoded data removed]",
      "text/plain": [
       "<matplotlib.figure.Figure at 0xc969400>"
      ]
     },
     "metadata": {},
     "output_type": "display_data"
    }
   ],
   "source": [
    "#房屋面积和单位面积房价（取对数后）的散点图\n",
    "datA = dat0[['AREA', 'price']]\n",
    "datA['price_ln'] = np.log(datA['price'])  #对price取对数\n",
    "plt.figure(figsize=(8, 8))\n",
    "plt.scatter(datA.AREA, datA.price_ln, marker='.')\n",
    "#plt.scatter(dat0.AREA, dat0.price,marker='.')\n",
    "#dat0.plot.scatter(x='AREA', y='price')\n",
    "plt.ylabel(\"单位面积房价（取对数后）\")\n",
    "plt.xlabel(\"面积（平方米）\")"
   ]
  },
  {
   "cell_type": "code",
   "execution_count": 35,
   "metadata": {
    "collapsed": false
   },
   "outputs": [
    {
     "data": {
      "text/plain": [
       "array([[ 1.        , -0.05811827],\n",
       "       [-0.05811827,  1.        ]])"
      ]
     },
     "execution_count": 35,
     "metadata": {},
     "output_type": "execute_result"
    }
   ],
   "source": [
    "#求AREA和price_ln的相关系数矩阵\n",
    "data1 = array(datA['price_ln'])\n",
    "data2 = array(datA['AREA'])\n",
    "datB = array([data1,data2])\n",
    "corrcoef(datB)"
   ]
  },
  {
   "cell_type": "markdown",
   "metadata": {},
   "source": [
    "# 3 建模"
   ]
  },
  {
   "cell_type": "code",
   "execution_count": 36,
   "metadata": {
    "collapsed": false
   },
   "outputs": [
    {
     "name": "stderr",
     "output_type": "stream",
     "text": [
      "E:\\Anaconda3\\lib\\site-packages\\ipykernel\\__main__.py:4: SettingWithCopyWarning: \n",
      "A value is trying to be set on a copy of a slice from a DataFrame\n",
      "\n",
      "See the caveats in the documentation: http://pandas.pydata.org/pandas-docs/stable/indexing.html#indexing-view-versus-copy\n",
      "E:\\Anaconda3\\lib\\site-packages\\ipykernel\\__main__.py:5: SettingWithCopyWarning: \n",
      "A value is trying to be set on a copy of a slice from a DataFrame\n",
      "\n",
      "See the caveats in the documentation: http://pandas.pydata.org/pandas-docs/stable/indexing.html#indexing-view-versus-copy\n"
     ]
    },
    {
     "data": {
      "text/html": [
       "<div>\n",
       "<style scoped>\n",
       "    .dataframe tbody tr th:only-of-type {\n",
       "        vertical-align: middle;\n",
       "    }\n",
       "\n",
       "    .dataframe tbody tr th {\n",
       "        vertical-align: top;\n",
       "    }\n",
       "\n",
       "    .dataframe thead th {\n",
       "        text-align: right;\n",
       "    }\n",
       "</style>\n",
       "<table border=\"1\" class=\"dataframe\">\n",
       "  <thead>\n",
       "    <tr style=\"text-align: right;\">\n",
       "      <th></th>\n",
       "      <th>CATE</th>\n",
       "      <th>bedrooms</th>\n",
       "      <th>halls</th>\n",
       "      <th>AREA</th>\n",
       "      <th>floor</th>\n",
       "      <th>subway</th>\n",
       "      <th>school</th>\n",
       "      <th>price</th>\n",
       "      <th>LONG</th>\n",
       "      <th>LAT</th>\n",
       "      <th>NAME</th>\n",
       "      <th>DISTRICT</th>\n",
       "      <th>style_new</th>\n",
       "    </tr>\n",
       "  </thead>\n",
       "  <tbody>\n",
       "    <tr>\n",
       "      <th>0</th>\n",
       "      <td>朝阳</td>\n",
       "      <td>1</td>\n",
       "      <td>0</td>\n",
       "      <td>46.06</td>\n",
       "      <td>middle</td>\n",
       "      <td>1</td>\n",
       "      <td>0</td>\n",
       "      <td>4.8850</td>\n",
       "      <td>116.459653</td>\n",
       "      <td>39.928347</td>\n",
       "      <td>10AM新坐标</td>\n",
       "      <td>方庄</td>\n",
       "      <td>无厅</td>\n",
       "    </tr>\n",
       "    <tr>\n",
       "      <th>1</th>\n",
       "      <td>朝阳</td>\n",
       "      <td>1</td>\n",
       "      <td>1</td>\n",
       "      <td>59.09</td>\n",
       "      <td>middle</td>\n",
       "      <td>1</td>\n",
       "      <td>0</td>\n",
       "      <td>4.6540</td>\n",
       "      <td>116.459653</td>\n",
       "      <td>39.928347</td>\n",
       "      <td>10AM新坐标</td>\n",
       "      <td>方庄</td>\n",
       "      <td>有厅</td>\n",
       "    </tr>\n",
       "    <tr>\n",
       "      <th>2</th>\n",
       "      <td>海淀</td>\n",
       "      <td>5</td>\n",
       "      <td>2</td>\n",
       "      <td>278.95</td>\n",
       "      <td>high</td>\n",
       "      <td>1</td>\n",
       "      <td>1</td>\n",
       "      <td>7.1662</td>\n",
       "      <td>116.303556</td>\n",
       "      <td>39.954807</td>\n",
       "      <td>10号名邸</td>\n",
       "      <td>紫竹桥</td>\n",
       "      <td>有厅</td>\n",
       "    </tr>\n",
       "    <tr>\n",
       "      <th>3</th>\n",
       "      <td>海淀</td>\n",
       "      <td>3</td>\n",
       "      <td>2</td>\n",
       "      <td>207.00</td>\n",
       "      <td>high</td>\n",
       "      <td>1</td>\n",
       "      <td>1</td>\n",
       "      <td>5.7972</td>\n",
       "      <td>116.303556</td>\n",
       "      <td>39.954807</td>\n",
       "      <td>10号名邸</td>\n",
       "      <td>紫竹桥</td>\n",
       "      <td>有厅</td>\n",
       "    </tr>\n",
       "    <tr>\n",
       "      <th>4</th>\n",
       "      <td>丰台</td>\n",
       "      <td>2</td>\n",
       "      <td>1</td>\n",
       "      <td>53.32</td>\n",
       "      <td>low</td>\n",
       "      <td>1</td>\n",
       "      <td>1</td>\n",
       "      <td>7.1268</td>\n",
       "      <td>116.418826</td>\n",
       "      <td>39.943813</td>\n",
       "      <td>17号旁门</td>\n",
       "      <td>蒲黄榆</td>\n",
       "      <td>有厅</td>\n",
       "    </tr>\n",
       "  </tbody>\n",
       "</table>\n",
       "</div>"
      ],
      "text/plain": [
       "  CATE  bedrooms  halls    AREA   floor  subway  school   price        LONG  \\\n",
       "0   朝阳         1      0   46.06  middle       1       0  4.8850  116.459653   \n",
       "1   朝阳         1      1   59.09  middle       1       0  4.6540  116.459653   \n",
       "2   海淀         5      2  278.95    high       1       1  7.1662  116.303556   \n",
       "3   海淀         3      2  207.00    high       1       1  5.7972  116.303556   \n",
       "4   丰台         2      1   53.32     low       1       1  7.1268  116.418826   \n",
       "\n",
       "         LAT     NAME DISTRICT style_new  \n",
       "0  39.928347  10AM新坐标       方庄        无厅  \n",
       "1  39.928347  10AM新坐标       方庄        有厅  \n",
       "2  39.954807    10号名邸      紫竹桥        有厅  \n",
       "3  39.954807    10号名邸      紫竹桥        有厅  \n",
       "4  39.943813    17号旁门      蒲黄榆        有厅  "
      ]
     },
     "execution_count": 36,
     "metadata": {},
     "output_type": "execute_result"
    }
   ],
   "source": [
    "###厅数做因子化处理，变成二分变量，使得建模有更好的解读\n",
    "###将是否有厅bind到已有数据集\n",
    "dat0['style_new'] = dat0.halls\n",
    "dat0.style_new[dat0.style_new > 0] = '有厅'\n",
    "dat0.style_new[dat0.style_new == 0] = '无厅'\n",
    "dat0.head()"
   ]
  },
  {
   "cell_type": "code",
   "execution_count": 37,
   "metadata": {
    "collapsed": false
   },
   "outputs": [
    {
     "data": {
      "text/html": [
       "<div>\n",
       "<style scoped>\n",
       "    .dataframe tbody tr th:only-of-type {\n",
       "        vertical-align: middle;\n",
       "    }\n",
       "\n",
       "    .dataframe tbody tr th {\n",
       "        vertical-align: top;\n",
       "    }\n",
       "\n",
       "    .dataframe thead th {\n",
       "        text-align: right;\n",
       "    }\n",
       "</style>\n",
       "<table border=\"1\" class=\"dataframe\">\n",
       "  <thead>\n",
       "    <tr style=\"text-align: right;\">\n",
       "      <th></th>\n",
       "      <th>CATE_东城</th>\n",
       "      <th>CATE_丰台</th>\n",
       "      <th>CATE_朝阳</th>\n",
       "      <th>CATE_海淀</th>\n",
       "      <th>CATE_石景山</th>\n",
       "      <th>CATE_西城</th>\n",
       "      <th>floor_high</th>\n",
       "      <th>floor_low</th>\n",
       "      <th>floor_middle</th>\n",
       "    </tr>\n",
       "  </thead>\n",
       "  <tbody>\n",
       "    <tr>\n",
       "      <th>0</th>\n",
       "      <td>0</td>\n",
       "      <td>0</td>\n",
       "      <td>1</td>\n",
       "      <td>0</td>\n",
       "      <td>0</td>\n",
       "      <td>0</td>\n",
       "      <td>0</td>\n",
       "      <td>0</td>\n",
       "      <td>1</td>\n",
       "    </tr>\n",
       "    <tr>\n",
       "      <th>1</th>\n",
       "      <td>0</td>\n",
       "      <td>0</td>\n",
       "      <td>1</td>\n",
       "      <td>0</td>\n",
       "      <td>0</td>\n",
       "      <td>0</td>\n",
       "      <td>0</td>\n",
       "      <td>0</td>\n",
       "      <td>1</td>\n",
       "    </tr>\n",
       "    <tr>\n",
       "      <th>2</th>\n",
       "      <td>0</td>\n",
       "      <td>0</td>\n",
       "      <td>0</td>\n",
       "      <td>1</td>\n",
       "      <td>0</td>\n",
       "      <td>0</td>\n",
       "      <td>1</td>\n",
       "      <td>0</td>\n",
       "      <td>0</td>\n",
       "    </tr>\n",
       "    <tr>\n",
       "      <th>3</th>\n",
       "      <td>0</td>\n",
       "      <td>0</td>\n",
       "      <td>0</td>\n",
       "      <td>1</td>\n",
       "      <td>0</td>\n",
       "      <td>0</td>\n",
       "      <td>1</td>\n",
       "      <td>0</td>\n",
       "      <td>0</td>\n",
       "    </tr>\n",
       "    <tr>\n",
       "      <th>4</th>\n",
       "      <td>0</td>\n",
       "      <td>1</td>\n",
       "      <td>0</td>\n",
       "      <td>0</td>\n",
       "      <td>0</td>\n",
       "      <td>0</td>\n",
       "      <td>0</td>\n",
       "      <td>1</td>\n",
       "      <td>0</td>\n",
       "    </tr>\n",
       "  </tbody>\n",
       "</table>\n",
       "</div>"
      ],
      "text/plain": [
       "   CATE_东城  CATE_丰台  CATE_朝阳  CATE_海淀  CATE_石景山  CATE_西城  floor_high  \\\n",
       "0        0        0        1        0         0        0           0   \n",
       "1        0        0        1        0         0        0           0   \n",
       "2        0        0        0        1         0        0           1   \n",
       "3        0        0        0        1         0        0           1   \n",
       "4        0        1        0        0         0        0           0   \n",
       "\n",
       "   floor_low  floor_middle  \n",
       "0          0             1  \n",
       "1          0             1  \n",
       "2          0             0  \n",
       "3          0             0  \n",
       "4          1             0  "
      ]
     },
     "execution_count": 37,
     "metadata": {},
     "output_type": "execute_result"
    }
   ],
   "source": [
    "#生成哑变量，并设置基准\n",
    "data = pd.get_dummies(dat0[['CATE','floor']])\n",
    "data.head()"
   ]
  },
  {
   "cell_type": "code",
   "execution_count": 38,
   "metadata": {
    "collapsed": false,
    "scrolled": true
   },
   "outputs": [
    {
     "data": {
      "text/html": [
       "<div>\n",
       "<style scoped>\n",
       "    .dataframe tbody tr th:only-of-type {\n",
       "        vertical-align: middle;\n",
       "    }\n",
       "\n",
       "    .dataframe tbody tr th {\n",
       "        vertical-align: top;\n",
       "    }\n",
       "\n",
       "    .dataframe thead th {\n",
       "        text-align: right;\n",
       "    }\n",
       "</style>\n",
       "<table border=\"1\" class=\"dataframe\">\n",
       "  <thead>\n",
       "    <tr style=\"text-align: right;\">\n",
       "      <th></th>\n",
       "      <th>CATE_东城</th>\n",
       "      <th>CATE_丰台</th>\n",
       "      <th>CATE_朝阳</th>\n",
       "      <th>CATE_海淀</th>\n",
       "      <th>CATE_西城</th>\n",
       "      <th>floor_low</th>\n",
       "      <th>floor_middle</th>\n",
       "    </tr>\n",
       "  </thead>\n",
       "  <tbody>\n",
       "    <tr>\n",
       "      <th>0</th>\n",
       "      <td>0</td>\n",
       "      <td>0</td>\n",
       "      <td>1</td>\n",
       "      <td>0</td>\n",
       "      <td>0</td>\n",
       "      <td>0</td>\n",
       "      <td>1</td>\n",
       "    </tr>\n",
       "    <tr>\n",
       "      <th>1</th>\n",
       "      <td>0</td>\n",
       "      <td>0</td>\n",
       "      <td>1</td>\n",
       "      <td>0</td>\n",
       "      <td>0</td>\n",
       "      <td>0</td>\n",
       "      <td>1</td>\n",
       "    </tr>\n",
       "    <tr>\n",
       "      <th>2</th>\n",
       "      <td>0</td>\n",
       "      <td>0</td>\n",
       "      <td>0</td>\n",
       "      <td>1</td>\n",
       "      <td>0</td>\n",
       "      <td>0</td>\n",
       "      <td>0</td>\n",
       "    </tr>\n",
       "    <tr>\n",
       "      <th>3</th>\n",
       "      <td>0</td>\n",
       "      <td>0</td>\n",
       "      <td>0</td>\n",
       "      <td>1</td>\n",
       "      <td>0</td>\n",
       "      <td>0</td>\n",
       "      <td>0</td>\n",
       "    </tr>\n",
       "    <tr>\n",
       "      <th>4</th>\n",
       "      <td>0</td>\n",
       "      <td>1</td>\n",
       "      <td>0</td>\n",
       "      <td>0</td>\n",
       "      <td>0</td>\n",
       "      <td>1</td>\n",
       "      <td>0</td>\n",
       "    </tr>\n",
       "  </tbody>\n",
       "</table>\n",
       "</div>"
      ],
      "text/plain": [
       "   CATE_东城  CATE_丰台  CATE_朝阳  CATE_海淀  CATE_西城  floor_low  floor_middle\n",
       "0        0        0        1        0        0          0             1\n",
       "1        0        0        1        0        0          0             1\n",
       "2        0        0        0        1        0          0             0\n",
       "3        0        0        0        1        0          0             0\n",
       "4        0        1        0        0        0          1             0"
      ]
     },
     "execution_count": 38,
     "metadata": {},
     "output_type": "execute_result"
    }
   ],
   "source": [
    "data.drop(['CATE_石景山','floor_high'], axis=1, inplace=True)\n",
    "data.head()"
   ]
  },
  {
   "cell_type": "code",
   "execution_count": 39,
   "metadata": {
    "collapsed": false
   },
   "outputs": [
    {
     "data": {
      "text/html": [
       "<div>\n",
       "<style scoped>\n",
       "    .dataframe tbody tr th:only-of-type {\n",
       "        vertical-align: middle;\n",
       "    }\n",
       "\n",
       "    .dataframe tbody tr th {\n",
       "        vertical-align: top;\n",
       "    }\n",
       "\n",
       "    .dataframe thead th {\n",
       "        text-align: right;\n",
       "    }\n",
       "</style>\n",
       "<table border=\"1\" class=\"dataframe\">\n",
       "  <thead>\n",
       "    <tr style=\"text-align: right;\">\n",
       "      <th></th>\n",
       "      <th>CATE_东城</th>\n",
       "      <th>CATE_丰台</th>\n",
       "      <th>CATE_朝阳</th>\n",
       "      <th>CATE_海淀</th>\n",
       "      <th>CATE_西城</th>\n",
       "      <th>floor_low</th>\n",
       "      <th>floor_middle</th>\n",
       "      <th>school</th>\n",
       "      <th>subway</th>\n",
       "      <th>style_new</th>\n",
       "      <th>bedrooms</th>\n",
       "      <th>AREA</th>\n",
       "      <th>price</th>\n",
       "    </tr>\n",
       "  </thead>\n",
       "  <tbody>\n",
       "    <tr>\n",
       "      <th>0</th>\n",
       "      <td>0</td>\n",
       "      <td>0</td>\n",
       "      <td>1</td>\n",
       "      <td>0</td>\n",
       "      <td>0</td>\n",
       "      <td>0</td>\n",
       "      <td>1</td>\n",
       "      <td>0</td>\n",
       "      <td>1</td>\n",
       "      <td>无厅</td>\n",
       "      <td>1</td>\n",
       "      <td>46.06</td>\n",
       "      <td>4.8850</td>\n",
       "    </tr>\n",
       "    <tr>\n",
       "      <th>1</th>\n",
       "      <td>0</td>\n",
       "      <td>0</td>\n",
       "      <td>1</td>\n",
       "      <td>0</td>\n",
       "      <td>0</td>\n",
       "      <td>0</td>\n",
       "      <td>1</td>\n",
       "      <td>0</td>\n",
       "      <td>1</td>\n",
       "      <td>有厅</td>\n",
       "      <td>1</td>\n",
       "      <td>59.09</td>\n",
       "      <td>4.6540</td>\n",
       "    </tr>\n",
       "    <tr>\n",
       "      <th>2</th>\n",
       "      <td>0</td>\n",
       "      <td>0</td>\n",
       "      <td>0</td>\n",
       "      <td>1</td>\n",
       "      <td>0</td>\n",
       "      <td>0</td>\n",
       "      <td>0</td>\n",
       "      <td>1</td>\n",
       "      <td>1</td>\n",
       "      <td>有厅</td>\n",
       "      <td>5</td>\n",
       "      <td>278.95</td>\n",
       "      <td>7.1662</td>\n",
       "    </tr>\n",
       "    <tr>\n",
       "      <th>3</th>\n",
       "      <td>0</td>\n",
       "      <td>0</td>\n",
       "      <td>0</td>\n",
       "      <td>1</td>\n",
       "      <td>0</td>\n",
       "      <td>0</td>\n",
       "      <td>0</td>\n",
       "      <td>1</td>\n",
       "      <td>1</td>\n",
       "      <td>有厅</td>\n",
       "      <td>3</td>\n",
       "      <td>207.00</td>\n",
       "      <td>5.7972</td>\n",
       "    </tr>\n",
       "    <tr>\n",
       "      <th>4</th>\n",
       "      <td>0</td>\n",
       "      <td>1</td>\n",
       "      <td>0</td>\n",
       "      <td>0</td>\n",
       "      <td>0</td>\n",
       "      <td>1</td>\n",
       "      <td>0</td>\n",
       "      <td>1</td>\n",
       "      <td>1</td>\n",
       "      <td>有厅</td>\n",
       "      <td>2</td>\n",
       "      <td>53.32</td>\n",
       "      <td>7.1268</td>\n",
       "    </tr>\n",
       "  </tbody>\n",
       "</table>\n",
       "</div>"
      ],
      "text/plain": [
       "   CATE_东城  CATE_丰台  CATE_朝阳  CATE_海淀  CATE_西城  floor_low  floor_middle  \\\n",
       "0        0        0        1        0        0          0             1   \n",
       "1        0        0        1        0        0          0             1   \n",
       "2        0        0        0        1        0          0             0   \n",
       "3        0        0        0        1        0          0             0   \n",
       "4        0        1        0        0        0          1             0   \n",
       "\n",
       "   school  subway style_new  bedrooms    AREA   price  \n",
       "0       0       1        无厅         1   46.06  4.8850  \n",
       "1       0       1        有厅         1   59.09  4.6540  \n",
       "2       1       1        有厅         5  278.95  7.1662  \n",
       "3       1       1        有厅         3  207.00  5.7972  \n",
       "4       1       1        有厅         2   53.32  7.1268  "
      ]
     },
     "execution_count": 39,
     "metadata": {},
     "output_type": "execute_result"
    }
   ],
   "source": [
    "#生成的哑变量与其他所需变量合并成新的数据框\n",
    "dat1 = pd.concat([data, dat0[['school', 'subway', 'style_new', 'bedrooms', 'AREA', 'price']]], axis=1)\n",
    "dat1.head()"
   ]
  },
  {
   "cell_type": "markdown",
   "metadata": {},
   "source": [
    "3.1 线性回归模型"
   ]
  },
  {
   "cell_type": "code",
   "execution_count": 40,
   "metadata": {
    "collapsed": false
   },
   "outputs": [
    {
     "data": {
      "text/html": [
       "<table class=\"simpletable\">\n",
       "<caption>OLS Regression Results</caption>\n",
       "<tr>\n",
       "  <th>Dep. Variable:</th>          <td>price</td>      <th>  R-squared:         </th> <td>   0.590</td> \n",
       "</tr>\n",
       "<tr>\n",
       "  <th>Model:</th>                   <td>OLS</td>       <th style=\"background-color:#aec7e8;\">  Adj. R-squared:    </th> <td>   0.590</td> \n",
       "</tr>\n",
       "<tr>\n",
       "  <th>Method:</th>             <td>Least Squares</td>  <th>  F-statistic:       </th> <td>   1945.</td> \n",
       "</tr>\n",
       "<tr>\n",
       "  <th>Date:</th>             <td>Wed, 31 Oct 2018</td> <th>  Prob (F-statistic):</th>  <td>  0.00</td>  \n",
       "</tr>\n",
       "<tr>\n",
       "  <th>Time:</th>                 <td>13:37:00</td>     <th>  Log-Likelihood:    </th> <td> -28762.</td> \n",
       "</tr>\n",
       "<tr>\n",
       "  <th>No. Observations:</th>      <td> 16210</td>      <th>  AIC:               </th> <td>5.755e+04</td>\n",
       "</tr>\n",
       "<tr>\n",
       "  <th>Df Residuals:</th>          <td> 16197</td>      <th>  BIC:               </th> <td>5.765e+04</td>\n",
       "</tr>\n",
       "<tr>\n",
       "  <th>Df Model:</th>              <td>    12</td>      <th>                     </th>     <td> </td>    \n",
       "</tr>\n",
       "<tr>\n",
       "  <th>Covariance Type:</th>      <td>nonrobust</td>    <th>                     </th>     <td> </td>    \n",
       "</tr>\n",
       "</table>\n",
       "<table class=\"simpletable\">\n",
       "<tr>\n",
       "         <td></td>            <th style=\"background-color:#ffbb78;\">coef</th>     <th style=\"background-color:#c7e9c0;\">std err</th>      <th>t</th>      <th style=\"background-color:#bcbddc;\">P>|t|</th>  <th>[0.025</th>    <th>0.975]</th>  \n",
       "</tr>\n",
       "<tr>\n",
       "  <th>Intercept</th>       <td>    3.3155</td> <td>    0.068</td> <td>   48.522</td> <td> 0.000</td> <td>    3.182</td> <td>    3.449</td>\n",
       "</tr>\n",
       "<tr>\n",
       "  <th>style_new[T.有厅]</th> <td>    0.1719</td> <td>    0.053</td> <td>    3.260</td> <td> 0.001</td> <td>    0.069</td> <td>    0.275</td>\n",
       "</tr>\n",
       "<tr>\n",
       "  <th>CATE_丰台</th>         <td>    0.1313</td> <td>    0.042</td> <td>    3.124</td> <td> 0.002</td> <td>    0.049</td> <td>    0.214</td>\n",
       "</tr>\n",
       "<tr>\n",
       "  <th>CATE_朝阳</th>         <td>    0.8751</td> <td>    0.044</td> <td>   20.042</td> <td> 0.000</td> <td>    0.790</td> <td>    0.961</td>\n",
       "</tr>\n",
       "<tr>\n",
       "  <th>CATE_东城</th>         <td>    2.4430</td> <td>    0.045</td> <td>   54.039</td> <td> 0.000</td> <td>    2.354</td> <td>    2.532</td>\n",
       "</tr>\n",
       "<tr>\n",
       "  <th>CATE_海淀</th>         <td>    2.1913</td> <td>    0.044</td> <td>   49.632</td> <td> 0.000</td> <td>    2.105</td> <td>    2.278</td>\n",
       "</tr>\n",
       "<tr>\n",
       "  <th>CATE_西城</th>         <td>    3.7056</td> <td>    0.046</td> <td>   81.386</td> <td> 0.000</td> <td>    3.616</td> <td>    3.795</td>\n",
       "</tr>\n",
       "<tr>\n",
       "  <th>school</th>          <td>    1.1831</td> <td>    0.028</td> <td>   42.607</td> <td> 0.000</td> <td>    1.129</td> <td>    1.238</td>\n",
       "</tr>\n",
       "<tr>\n",
       "  <th>subway</th>          <td>    0.6721</td> <td>    0.031</td> <td>   21.741</td> <td> 0.000</td> <td>    0.612</td> <td>    0.733</td>\n",
       "</tr>\n",
       "<tr>\n",
       "  <th>floor_middle</th>    <td>    0.1521</td> <td>    0.027</td> <td>    5.605</td> <td> 0.000</td> <td>    0.099</td> <td>    0.205</td>\n",
       "</tr>\n",
       "<tr>\n",
       "  <th>floor_low</th>       <td>    0.1985</td> <td>    0.028</td> <td>    7.137</td> <td> 0.000</td> <td>    0.144</td> <td>    0.253</td>\n",
       "</tr>\n",
       "<tr>\n",
       "  <th>bedrooms</th>        <td>    0.1111</td> <td>    0.020</td> <td>    5.500</td> <td> 0.000</td> <td>    0.072</td> <td>    0.151</td>\n",
       "</tr>\n",
       "<tr>\n",
       "  <th>AREA</th>            <td>   -0.0028</td> <td>    0.000</td> <td>   -7.393</td> <td> 0.000</td> <td>   -0.004</td> <td>   -0.002</td>\n",
       "</tr>\n",
       "</table>\n",
       "<table class=\"simpletable\">\n",
       "<tr>\n",
       "  <th>Omnibus:</th>       <td>1279.281</td> <th>  Durbin-Watson:     </th> <td>   0.508</td>\n",
       "</tr>\n",
       "<tr>\n",
       "  <th>Prob(Omnibus):</th>  <td> 0.000</td>  <th>  Jarque-Bera (JB):  </th> <td>2206.275</td>\n",
       "</tr>\n",
       "<tr>\n",
       "  <th>Skew:</th>           <td> 0.583</td>  <th>  Prob(JB):          </th> <td>    0.00</td>\n",
       "</tr>\n",
       "<tr>\n",
       "  <th>Kurtosis:</th>       <td> 4.380</td>  <th>  Cond. No.          </th> <td>    837.</td>\n",
       "</tr>\n",
       "</table><br/><br/>Warnings:<br/>[1] Standard Errors assume that the covariance matrix of the errors is correctly specified."
      ],
      "text/plain": [
       "<IPython.core.display.HTML object>"
      ]
     },
     "execution_count": 40,
     "metadata": {},
     "output_type": "execute_result"
    }
   ],
   "source": [
    "###线性回归模型\n",
    "lm1 = ols(\"price ~ CATE_丰台+CATE_朝阳+CATE_东城+CATE_海淀+CATE_西城+school+subway+floor_middle+floor_low+style_new+bedrooms+AREA\", data=dat1).fit()\n",
    "lm1_summary = lm1.summary()\n",
    "lm1_summary  #回归结果展示\n",
    "HTML(\n",
    "    lm1_summary\\\n",
    "        .as_html()\\\n",
    "        .replace('<th>  Adj. R-squared:    </th>', '<th style=\"background-color:#aec7e8;\">  Adj. R-squared:    </th>')\\\n",
    "        .replace('<th>coef</th>', '<th style=\"background-color:#ffbb78;\">coef</th>')\\\n",
    "        .replace('<th>std err</th>', '<th style=\"background-color:#c7e9c0;\">std err</th>')\\\n",
    "        .replace('<th>P>|t|</th>', '<th style=\"background-color:#bcbddc;\">P>|t|</th>')\\\n",
    "        .replace('<th>[95.0% Conf. Int.]</th>', '<th style=\"background-color:#ff9896;\">[95.0% Conf. Int.]</th>')\n",
    ")"
   ]
  },
  {
   "cell_type": "code",
   "execution_count": 41,
   "metadata": {
    "collapsed": false
   },
   "outputs": [
    {
     "data": {
      "text/plain": [
       "<matplotlib.axes._subplots.AxesSubplot at 0xcfd8550>"
      ]
     },
     "execution_count": 41,
     "metadata": {},
     "output_type": "execute_result"
    },
    {
     "data": {
      "image/png": "[encoded data removed]",
      "text/plain": [
       "<matplotlib.figure.Figure at 0xcf76c50>"
      ]
     },
     "metadata": {},
     "output_type": "display_data"
    }
   ],
   "source": [
    "dat1['pred1'] = lm1.predict(dat1)\n",
    "dat1['resid1'] = lm1.resid\n",
    "dat1.plot('pred1', 'resid1', kind='scatter')  #模型诊断图，存在异方差现象，对因变量取对数"
   ]
  },
  {
   "cell_type": "markdown",
   "metadata": {},
   "source": [
    "3.2 对数线性模型"
   ]
  },
  {
   "cell_type": "code",
   "execution_count": 42,
   "metadata": {
    "collapsed": true
   },
   "outputs": [],
   "source": [
    "###对数线性模型\n",
    "dat1['price_ln'] = np.log(dat1['price'])  #对price取对数"
   ]
  },
  {
   "cell_type": "code",
   "execution_count": 43,
   "metadata": {
    "collapsed": false
   },
   "outputs": [
    {
     "data": {
      "text/html": [
       "<table class=\"simpletable\">\n",
       "<caption>OLS Regression Results</caption>\n",
       "<tr>\n",
       "  <th>Dep. Variable:</th>        <td>price_ln</td>     <th>  R-squared:         </th> <td>   0.608</td>\n",
       "</tr>\n",
       "<tr>\n",
       "  <th>Model:</th>                   <td>OLS</td>       <th style=\"background-color:#aec7e8;\">  Adj. R-squared:    </th> <td>   0.608</td>\n",
       "</tr>\n",
       "<tr>\n",
       "  <th>Method:</th>             <td>Least Squares</td>  <th>  F-statistic:       </th> <td>   2095.</td>\n",
       "</tr>\n",
       "<tr>\n",
       "  <th>Date:</th>             <td>Wed, 31 Oct 2018</td> <th>  Prob (F-statistic):</th>  <td>  0.00</td> \n",
       "</tr>\n",
       "<tr>\n",
       "  <th>Time:</th>                 <td>13:37:01</td>     <th>  Log-Likelihood:    </th> <td>  977.77</td>\n",
       "</tr>\n",
       "<tr>\n",
       "  <th>No. Observations:</th>      <td> 16210</td>      <th>  AIC:               </th> <td>  -1930.</td>\n",
       "</tr>\n",
       "<tr>\n",
       "  <th>Df Residuals:</th>          <td> 16197</td>      <th>  BIC:               </th> <td>  -1830.</td>\n",
       "</tr>\n",
       "<tr>\n",
       "  <th>Df Model:</th>              <td>    12</td>      <th>                     </th>     <td> </td>   \n",
       "</tr>\n",
       "<tr>\n",
       "  <th>Covariance Type:</th>      <td>nonrobust</td>    <th>                     </th>     <td> </td>   \n",
       "</tr>\n",
       "</table>\n",
       "<table class=\"simpletable\">\n",
       "<tr>\n",
       "         <td></td>            <th style=\"background-color:#ffbb78;\">coef</th>     <th style=\"background-color:#c7e9c0;\">std err</th>      <th>t</th>      <th style=\"background-color:#bcbddc;\">P>|t|</th>  <th>[0.025</th>    <th>0.975]</th>  \n",
       "</tr>\n",
       "<tr>\n",
       "  <th>Intercept</th>       <td>    1.2360</td> <td>    0.011</td> <td>  113.285</td> <td> 0.000</td> <td>    1.215</td> <td>    1.257</td>\n",
       "</tr>\n",
       "<tr>\n",
       "  <th>style_new[T.有厅]</th> <td>    0.0275</td> <td>    0.008</td> <td>    3.266</td> <td> 0.001</td> <td>    0.011</td> <td>    0.044</td>\n",
       "</tr>\n",
       "<tr>\n",
       "  <th>CATE_丰台</th>         <td>    0.0441</td> <td>    0.007</td> <td>    6.574</td> <td> 0.000</td> <td>    0.031</td> <td>    0.057</td>\n",
       "</tr>\n",
       "<tr>\n",
       "  <th>CATE_朝阳</th>         <td>    0.2057</td> <td>    0.007</td> <td>   29.497</td> <td> 0.000</td> <td>    0.192</td> <td>    0.219</td>\n",
       "</tr>\n",
       "<tr>\n",
       "  <th>CATE_东城</th>         <td>    0.4577</td> <td>    0.007</td> <td>   63.408</td> <td> 0.000</td> <td>    0.444</td> <td>    0.472</td>\n",
       "</tr>\n",
       "<tr>\n",
       "  <th>CATE_海淀</th>         <td>    0.4320</td> <td>    0.007</td> <td>   61.279</td> <td> 0.000</td> <td>    0.418</td> <td>    0.446</td>\n",
       "</tr>\n",
       "<tr>\n",
       "  <th>CATE_西城</th>         <td>    0.6270</td> <td>    0.007</td> <td>   86.244</td> <td> 0.000</td> <td>    0.613</td> <td>    0.641</td>\n",
       "</tr>\n",
       "<tr>\n",
       "  <th>school</th>          <td>    0.1719</td> <td>    0.004</td> <td>   38.772</td> <td> 0.000</td> <td>    0.163</td> <td>    0.181</td>\n",
       "</tr>\n",
       "<tr>\n",
       "  <th>subway</th>          <td>    0.1282</td> <td>    0.005</td> <td>   25.963</td> <td> 0.000</td> <td>    0.118</td> <td>    0.138</td>\n",
       "</tr>\n",
       "<tr>\n",
       "  <th>floor_middle</th>    <td>    0.0260</td> <td>    0.004</td> <td>    5.993</td> <td> 0.000</td> <td>    0.017</td> <td>    0.034</td>\n",
       "</tr>\n",
       "<tr>\n",
       "  <th>floor_low</th>       <td>    0.0339</td> <td>    0.004</td> <td>    7.630</td> <td> 0.000</td> <td>    0.025</td> <td>    0.043</td>\n",
       "</tr>\n",
       "<tr>\n",
       "  <th>bedrooms</th>        <td>    0.0141</td> <td>    0.003</td> <td>    4.358</td> <td> 0.000</td> <td>    0.008</td> <td>    0.020</td>\n",
       "</tr>\n",
       "<tr>\n",
       "  <th>AREA</th>            <td>   -0.0004</td> <td>    6e-05</td> <td>   -5.842</td> <td> 0.000</td> <td>   -0.000</td> <td>   -0.000</td>\n",
       "</tr>\n",
       "</table>\n",
       "<table class=\"simpletable\">\n",
       "<tr>\n",
       "  <th>Omnibus:</th>       <td>143.569</td> <th>  Durbin-Watson:     </th> <td>   0.485</td>\n",
       "</tr>\n",
       "<tr>\n",
       "  <th>Prob(Omnibus):</th> <td> 0.000</td>  <th>  Jarque-Bera (JB):  </th> <td> 225.271</td>\n",
       "</tr>\n",
       "<tr>\n",
       "  <th>Skew:</th>          <td>-0.057</td>  <th>  Prob(JB):          </th> <td>1.21e-49</td>\n",
       "</tr>\n",
       "<tr>\n",
       "  <th>Kurtosis:</th>      <td> 3.566</td>  <th>  Cond. No.          </th> <td>    837.</td>\n",
       "</tr>\n",
       "</table><br/><br/>Warnings:<br/>[1] Standard Errors assume that the covariance matrix of the errors is correctly specified."
      ],
      "text/plain": [
       "<IPython.core.display.HTML object>"
      ]
     },
     "execution_count": 43,
     "metadata": {},
     "output_type": "execute_result"
    }
   ],
   "source": [
    "lm2 = ols(\"price_ln ~ CATE_丰台+CATE_朝阳+CATE_东城+CATE_海淀+CATE_西城+school+subway+floor_middle+floor_low+style_new+bedrooms+AREA\", data=dat1).fit()\n",
    "lm2_summary = lm2.summary()\n",
    "lm2_summary  #回归结果展示\n",
    "HTML(\n",
    "    lm2_summary\\\n",
    "        .as_html()\\\n",
    "        .replace('<th>  Adj. R-squared:    </th>', '<th style=\"background-color:#aec7e8;\">  Adj. R-squared:    </th>')\\\n",
    "        .replace('<th>coef</th>', '<th style=\"background-color:#ffbb78;\">coef</th>')\\\n",
    "        .replace('<th>std err</th>', '<th style=\"background-color:#c7e9c0;\">std err</th>')\\\n",
    "        .replace('<th>P>|t|</th>', '<th style=\"background-color:#bcbddc;\">P>|t|</th>')\\\n",
    "        .replace('<th>[95.0% Conf. Int.]</th>', '<th style=\"background-color:#ff9896;\">[95.0% Conf. Int.]</th>')\n",
    ")"
   ]
  },
  {
   "cell_type": "code",
   "execution_count": 44,
   "metadata": {
    "collapsed": false
   },
   "outputs": [
    {
     "data": {
      "image/png": "[encoded data removed]",
      "text/plain": [
       "<matplotlib.figure.Figure at 0xd39ec88>"
      ]
     },
     "metadata": {},
     "output_type": "display_data"
    }
   ],
   "source": [
    "dat1['pred2']=lm2.predict(dat1)\n",
    "dat1['resid2']=lm2.resid\n",
    "dat1.plot('pred2','resid2',kind='scatter')  #模型诊断图，异方差现象得到消除\n",
    "plt.show()"
   ]
  },
  {
   "cell_type": "markdown",
   "metadata": {},
   "source": [
    "3.3 有交互项的对数线性模型，城区和学区之间的交互作用"
   ]
  },
  {
   "cell_type": "code",
   "execution_count": 45,
   "metadata": {
    "collapsed": false
   },
   "outputs": [
    {
     "data": {
      "text/html": [
       "<table class=\"simpletable\">\n",
       "<caption>OLS Regression Results</caption>\n",
       "<tr>\n",
       "  <th>Dep. Variable:</th>        <td>price_ln</td>     <th>  R-squared:         </th> <td>   0.611</td>\n",
       "</tr>\n",
       "<tr>\n",
       "  <th>Model:</th>                   <td>OLS</td>       <th style=\"background-color:#aec7e8;\">  Adj. R-squared:    </th> <td>   0.611</td>\n",
       "</tr>\n",
       "<tr>\n",
       "  <th>Method:</th>             <td>Least Squares</td>  <th>  F-statistic:       </th> <td>   1497.</td>\n",
       "</tr>\n",
       "<tr>\n",
       "  <th>Date:</th>             <td>Wed, 31 Oct 2018</td> <th>  Prob (F-statistic):</th>  <td>  0.00</td> \n",
       "</tr>\n",
       "<tr>\n",
       "  <th>Time:</th>                 <td>13:37:01</td>     <th>  Log-Likelihood:    </th> <td>  1039.1</td>\n",
       "</tr>\n",
       "<tr>\n",
       "  <th>No. Observations:</th>      <td> 16210</td>      <th>  AIC:               </th> <td>  -2042.</td>\n",
       "</tr>\n",
       "<tr>\n",
       "  <th>Df Residuals:</th>          <td> 16192</td>      <th>  BIC:               </th> <td>  -1904.</td>\n",
       "</tr>\n",
       "<tr>\n",
       "  <th>Df Model:</th>              <td>    17</td>      <th>                     </th>     <td> </td>   \n",
       "</tr>\n",
       "<tr>\n",
       "  <th>Covariance Type:</th>      <td>nonrobust</td>    <th>                     </th>     <td> </td>   \n",
       "</tr>\n",
       "</table>\n",
       "<table class=\"simpletable\">\n",
       "<tr>\n",
       "         <td></td>            <th style=\"background-color:#ffbb78;\">coef</th>     <th style=\"background-color:#c7e9c0;\">std err</th>      <th>t</th>      <th style=\"background-color:#bcbddc;\">P>|t|</th>  <th>[0.025</th>    <th>0.975]</th>  \n",
       "</tr>\n",
       "<tr>\n",
       "  <th>Intercept</th>       <td>    1.2406</td> <td>    0.011</td> <td>  113.933</td> <td> 0.000</td> <td>    1.219</td> <td>    1.262</td>\n",
       "</tr>\n",
       "<tr>\n",
       "  <th>style_new[T.有厅]</th> <td>    0.0271</td> <td>    0.008</td> <td>    3.225</td> <td> 0.001</td> <td>    0.011</td> <td>    0.044</td>\n",
       "</tr>\n",
       "<tr>\n",
       "  <th>CATE_丰台</th>         <td>    0.0430</td> <td>    0.007</td> <td>    6.374</td> <td> 0.000</td> <td>    0.030</td> <td>    0.056</td>\n",
       "</tr>\n",
       "<tr>\n",
       "  <th>CATE_朝阳</th>         <td>    0.2184</td> <td>    0.007</td> <td>   30.132</td> <td> 0.000</td> <td>    0.204</td> <td>    0.233</td>\n",
       "</tr>\n",
       "<tr>\n",
       "  <th>CATE_东城</th>         <td>    0.4467</td> <td>    0.008</td> <td>   55.915</td> <td> 0.000</td> <td>    0.431</td> <td>    0.462</td>\n",
       "</tr>\n",
       "<tr>\n",
       "  <th>CATE_海淀</th>         <td>    0.4121</td> <td>    0.008</td> <td>   52.760</td> <td> 0.000</td> <td>    0.397</td> <td>    0.427</td>\n",
       "</tr>\n",
       "<tr>\n",
       "  <th>CATE_西城</th>         <td>    0.6177</td> <td>    0.008</td> <td>   73.109</td> <td> 0.000</td> <td>    0.601</td> <td>    0.634</td>\n",
       "</tr>\n",
       "<tr>\n",
       "  <th>school</th>          <td>   -0.1800</td> <td>    0.054</td> <td>   -3.347</td> <td> 0.001</td> <td>   -0.285</td> <td>   -0.075</td>\n",
       "</tr>\n",
       "<tr>\n",
       "  <th>CATE_丰台:school</th>  <td>    0.2948</td> <td>    0.059</td> <td>    5.009</td> <td> 0.000</td> <td>    0.179</td> <td>    0.410</td>\n",
       "</tr>\n",
       "<tr>\n",
       "  <th>CATE_朝阳:school</th>  <td>    0.2780</td> <td>    0.055</td> <td>    5.073</td> <td> 0.000</td> <td>    0.171</td> <td>    0.385</td>\n",
       "</tr>\n",
       "<tr>\n",
       "  <th>CATE_东城:school</th>  <td>    0.3706</td> <td>    0.054</td> <td>    6.802</td> <td> 0.000</td> <td>    0.264</td> <td>    0.477</td>\n",
       "</tr>\n",
       "<tr>\n",
       "  <th>CATE_海淀:school</th>  <td>    0.3876</td> <td>    0.054</td> <td>    7.116</td> <td> 0.000</td> <td>    0.281</td> <td>    0.494</td>\n",
       "</tr>\n",
       "<tr>\n",
       "  <th>CATE_西城:school</th>  <td>    0.3638</td> <td>    0.054</td> <td>    6.675</td> <td> 0.000</td> <td>    0.257</td> <td>    0.471</td>\n",
       "</tr>\n",
       "<tr>\n",
       "  <th>subway</th>          <td>    0.1257</td> <td>    0.005</td> <td>   25.475</td> <td> 0.000</td> <td>    0.116</td> <td>    0.135</td>\n",
       "</tr>\n",
       "<tr>\n",
       "  <th>floor_middle</th>    <td>    0.0264</td> <td>    0.004</td> <td>    6.110</td> <td> 0.000</td> <td>    0.018</td> <td>    0.035</td>\n",
       "</tr>\n",
       "<tr>\n",
       "  <th>floor_low</th>       <td>    0.0343</td> <td>    0.004</td> <td>    7.757</td> <td> 0.000</td> <td>    0.026</td> <td>    0.043</td>\n",
       "</tr>\n",
       "<tr>\n",
       "  <th>bedrooms</th>        <td>    0.0143</td> <td>    0.003</td> <td>    4.437</td> <td> 0.000</td> <td>    0.008</td> <td>    0.021</td>\n",
       "</tr>\n",
       "<tr>\n",
       "  <th>AREA</th>            <td>   -0.0004</td> <td> 5.99e-05</td> <td>   -5.888</td> <td> 0.000</td> <td>   -0.000</td> <td>   -0.000</td>\n",
       "</tr>\n",
       "</table>\n",
       "<table class=\"simpletable\">\n",
       "<tr>\n",
       "  <th>Omnibus:</th>       <td>120.144</td> <th>  Durbin-Watson:     </th> <td>   0.493</td>\n",
       "</tr>\n",
       "<tr>\n",
       "  <th>Prob(Omnibus):</th> <td> 0.000</td>  <th>  Jarque-Bera (JB):  </th> <td> 185.301</td>\n",
       "</tr>\n",
       "<tr>\n",
       "  <th>Skew:</th>          <td>-0.029</td>  <th>  Prob(JB):          </th> <td>5.79e-41</td>\n",
       "</tr>\n",
       "<tr>\n",
       "  <th>Kurtosis:</th>      <td> 3.520</td>  <th>  Cond. No.          </th> <td>7.55e+03</td>\n",
       "</tr>\n",
       "</table><br/><br/>Warnings:<br/>[1] Standard Errors assume that the covariance matrix of the errors is correctly specified.<br/>[2] The condition number is large, 7.55e+03. This might indicate that there are<br/>strong multicollinearity or other numerical problems."
      ],
      "text/plain": [
       "<IPython.core.display.HTML object>"
      ]
     },
     "execution_count": 45,
     "metadata": {},
     "output_type": "execute_result"
    }
   ],
   "source": [
    "###有交互项的对数线性模型，城区和学区之间的交互作用\n",
    "lm3 = ols(\"price_ln ~ (CATE_丰台+CATE_朝阳+CATE_东城+CATE_海淀+CATE_西城)*school+subway+floor_middle+floor_low+style_new+bedrooms+AREA\", data=dat1).fit()\n",
    "lm3_summary = lm3.summary()\n",
    "lm3_summary  #回归结果展示\n",
    "HTML(\n",
    "    lm3_summary\\\n",
    "        .as_html()\\\n",
    "        .replace('<th>  Adj. R-squared:    </th>', '<th style=\"background-color:#aec7e8;\">  Adj. R-squared:    </th>')\\\n",
    "        .replace('<th>coef</th>', '<th style=\"background-color:#ffbb78;\">coef</th>')\\\n",
    "        .replace('<th>std err</th>', '<th style=\"background-color:#c7e9c0;\">std err</th>')\\\n",
    "        .replace('<th>P>|t|</th>', '<th style=\"background-color:#bcbddc;\">P>|t|</th>')\\\n",
    "        .replace('<th>[95.0% Conf. Int.]</th>', '<th style=\"background-color:#ff9896;\">[95.0% Conf. Int.]</th>')\n",
    ")"
   ]
  },
  {
   "cell_type": "code",
   "execution_count": 46,
   "metadata": {
    "collapsed": true
   },
   "outputs": [],
   "source": [
    "#导出lm3的建模数据，用SPSS的示意图来讲解交互作用项\n",
    "dat1.to_excel(\"dat1.xlsx\")"
   ]
  },
  {
   "cell_type": "code",
   "execution_count": 47,
   "metadata": {
    "collapsed": false,
    "scrolled": true
   },
   "outputs": [
    {
     "name": "stdout",
     "output_type": "stream",
     "text": [
      "石景山非学区房\t 4.04 万元/平方米\t 石景山学区房\t 3.31 万元/平方米\n",
      "-------------------------------------------------------------------------\n",
      "丰台非学区房\t 4.23 万元/平方米\t 丰台学区房\t 4.89 万元/平方米\n",
      "朝阳非学区房\t 5.16 万元/平方米\t 朝阳学区房\t 5.74 万元/平方米\n",
      "东城非学区房\t 6.63 万元/平方米\t 东城学区房\t 7.85 万元/平方米\n",
      "海淀非学区房\t 6.14 万元/平方米\t 海淀学区房\t 7.69 万元/平方米\n",
      "西城非学区房\t 7.7 万元/平方米\t 西城学区房\t 9.25 万元/平方米\n"
     ]
    }
   ],
   "source": [
    "###交互作用的解释\n",
    "schools=['丰台','朝阳','东城','海淀','西城']\n",
    "print('石景山非学区房\\t',round(dat0[(dat0['CATE']=='石景山')&(dat0['school']==0)]['price'].mean(),2),'万元/平方米\\t',\n",
    "     '石景山学区房\\t',round(dat0[(dat0['CATE']=='石景山')&(dat0['school']==1)]['price'].mean(),2),'万元/平方米')\n",
    "print('-------------------------------------------------------------------------')\n",
    "for i in schools:\n",
    "    print(i+'非学区房\\t',round(dat1[(dat1['CATE_'+i]==1)&(dat1['school']==0)]['price'].mean(),2),'万元/平方米\\t',i+'学区房\\t',round(dat1[(dat1['CATE_'+i]==1)&(dat1['school']==1)]['price'].mean(),2),'万元/平方米')"
   ]
  },
  {
   "cell_type": "code",
   "execution_count": 48,
   "metadata": {
    "collapsed": false
   },
   "outputs": [
    {
     "name": "stdout",
     "output_type": "stream",
     "text": [
      "石景山非学区房\t 1929 \t 石景山学区房\t 18 \t 石景山学区房仅占石景山所有二手房的0.92%\n"
     ]
    }
   ],
   "source": [
    "###探索石景山学区房价格比较低的原因，是否是样本量的问题？\n",
    "print('石景山非学区房\\t', dat0[(dat0['CATE'] == '石景山') & (dat0['school'] == 0)].shape[0], '\\t',\n",
    "     '石景山学区房\\t', dat0[(dat0['CATE'] == '石景山') & (dat0['school'] == 1)].shape[0], '\\t','石景山学区房仅占石景山所有二手房的0.92%')"
   ]
  },
  {
   "cell_type": "code",
   "execution_count": 49,
   "metadata": {
    "collapsed": false
   },
   "outputs": [
    {
     "data": {
      "text/html": [
       "<div>\n",
       "<style scoped>\n",
       "    .dataframe tbody tr th:only-of-type {\n",
       "        vertical-align: middle;\n",
       "    }\n",
       "\n",
       "    .dataframe tbody tr th {\n",
       "        vertical-align: top;\n",
       "    }\n",
       "\n",
       "    .dataframe thead th {\n",
       "        text-align: right;\n",
       "    }\n",
       "</style>\n",
       "<table border=\"1\" class=\"dataframe\">\n",
       "  <thead>\n",
       "    <tr style=\"text-align: right;\">\n",
       "      <th></th>\n",
       "      <th>CATE</th>\n",
       "      <th>Noschool</th>\n",
       "      <th>school</th>\n",
       "    </tr>\n",
       "  </thead>\n",
       "  <tbody>\n",
       "    <tr>\n",
       "      <th>0</th>\n",
       "      <td>石景山</td>\n",
       "      <td>4.035388</td>\n",
       "      <td>3.310733</td>\n",
       "    </tr>\n",
       "    <tr>\n",
       "      <th>1</th>\n",
       "      <td>丰台</td>\n",
       "      <td>4.229100</td>\n",
       "      <td>4.887162</td>\n",
       "    </tr>\n",
       "    <tr>\n",
       "      <th>2</th>\n",
       "      <td>朝阳</td>\n",
       "      <td>5.158851</td>\n",
       "      <td>5.740341</td>\n",
       "    </tr>\n",
       "    <tr>\n",
       "      <th>3</th>\n",
       "      <td>东城</td>\n",
       "      <td>6.627689</td>\n",
       "      <td>7.851490</td>\n",
       "    </tr>\n",
       "    <tr>\n",
       "      <th>4</th>\n",
       "      <td>海淀</td>\n",
       "      <td>6.138580</td>\n",
       "      <td>7.691126</td>\n",
       "    </tr>\n",
       "    <tr>\n",
       "      <th>5</th>\n",
       "      <td>西城</td>\n",
       "      <td>7.698937</td>\n",
       "      <td>9.246887</td>\n",
       "    </tr>\n",
       "  </tbody>\n",
       "</table>\n",
       "</div>"
      ],
      "text/plain": [
       "  CATE  Noschool    school\n",
       "0  石景山  4.035388  3.310733\n",
       "1   丰台  4.229100  4.887162\n",
       "2   朝阳  5.158851  5.740341\n",
       "3   东城  6.627689  7.851490\n",
       "4   海淀  6.138580  7.691126\n",
       "5   西城  7.698937  9.246887"
      ]
     },
     "execution_count": 49,
     "metadata": {},
     "output_type": "execute_result"
    }
   ],
   "source": [
    "###构造图形揭示不同城区是否学区房的价格问题\n",
    "df = pd.DataFrame()\n",
    "CATE = ['石景山','丰台','朝阳','东城','海淀','西城']\n",
    "Noschool = []\n",
    "school = []\n",
    "for i in CATE:\n",
    "    Noschool.append(dat0[(dat0['CATE'] == i) & (dat0['school'] == 0)]['price'].mean())\n",
    "    school.append(dat0[(dat0['CATE'] == i) & (dat0['school'] == 1)]['price'].mean())\n",
    "\n",
    "df['CATE'] = pd.Series(CATE)\n",
    "df['Noschool'] = pd.Series(Noschool)\n",
    "df['school'] = pd.Series(school)\n",
    "df"
   ]
  },
  {
   "cell_type": "code",
   "execution_count": 50,
   "metadata": {
    "collapsed": false
   },
   "outputs": [
    {
     "data": {
      "image/png": "[encoded data removed]",
      "text/plain": [
       "<matplotlib.figure.Figure at 0xd3de080>"
      ]
     },
     "metadata": {},
     "output_type": "display_data"
    }
   ],
   "source": [
    "df1 = df['Noschool'].T.values\n",
    "df2 = df['school'].T.values\n",
    "plt.figure(figsize=(10,6))\n",
    "x1 = range(0,len(df))\n",
    "x2 = [i + 0.3 for i in x1]\n",
    "plt.bar(x1, df1, color='b', width=0.3, alpha=0.6, label='非学区房')\n",
    "plt.bar(x2, df2, color='r', width=0.3, alpha=0.6, label='学区房')\n",
    "plt.xlabel('城区')\n",
    "plt.ylabel('单位面积价格')\n",
    "plt.title('分城区、是否学区的房屋价格')\n",
    "plt.legend(loc='upper left')\n",
    "plt.xticks(range(0,6),CATE)\n",
    "plt.show()"
   ]
  },
  {
   "cell_type": "code",
   "execution_count": 51,
   "metadata": {
    "collapsed": false,
    "scrolled": true
   },
   "outputs": [
    {
     "data": {
      "image/png": "[encoded data removed]",
      "text/plain": [
       "<matplotlib.figure.Figure at 0xd3cc898>"
      ]
     },
     "metadata": {},
     "output_type": "display_data"
    },
    {
     "data": {
      "image/png": "[encoded data removed]",
      "text/plain": [
       "<matplotlib.figure.Figure at 0x1269c898>"
      ]
     },
     "metadata": {},
     "output_type": "display_data"
    },
    {
     "data": {
      "image/png": "[encoded data removed]",
      "text/plain": [
       "<matplotlib.figure.Figure at 0x126560b8>"
      ]
     },
     "metadata": {},
     "output_type": "display_data"
    },
    {
     "data": {
      "image/png": "[encoded data removed]",
      "text/plain": [
       "<matplotlib.figure.Figure at 0xf18fe10>"
      ]
     },
     "metadata": {},
     "output_type": "display_data"
    },
    {
     "data": {
      "image/png": "[encoded data removed]",
      "text/plain": [
       "<matplotlib.figure.Figure at 0xd7d82b0>"
      ]
     },
     "metadata": {},
     "output_type": "display_data"
    },
    {
     "data": {
      "image/png": "[encoded data removed]",
      "text/plain": [
       "<matplotlib.figure.Figure at 0x123c2470>"
      ]
     },
     "metadata": {},
     "output_type": "display_data"
    }
   ],
   "source": [
    "###分城区的学区房分组箱线图\n",
    "school=['石景山', '丰台', '朝阳', '东城', '海淀', '西城']\n",
    "for i in school:\n",
    "    dat0[dat0.CATE==i][['school', 'price']].boxplot(by='school', patch_artist=True)\n",
    "    plt.xlabel(i + '学区房')"
   ]
  },
  {
   "cell_type": "code",
   "execution_count": 52,
   "metadata": {
    "collapsed": false
   },
   "outputs": [
    {
     "data": {
      "text/html": [
       "<div>\n",
       "<style scoped>\n",
       "    .dataframe tbody tr th:only-of-type {\n",
       "        vertical-align: middle;\n",
       "    }\n",
       "\n",
       "    .dataframe tbody tr th {\n",
       "        vertical-align: top;\n",
       "    }\n",
       "\n",
       "    .dataframe thead th {\n",
       "        text-align: right;\n",
       "    }\n",
       "</style>\n",
       "<table border=\"1\" class=\"dataframe\">\n",
       "  <thead>\n",
       "    <tr style=\"text-align: right;\">\n",
       "      <th></th>\n",
       "      <th>CATE_东城</th>\n",
       "      <th>CATE_丰台</th>\n",
       "      <th>CATE_朝阳</th>\n",
       "      <th>CATE_海淀</th>\n",
       "      <th>CATE_西城</th>\n",
       "      <th>floor_low</th>\n",
       "      <th>floor_middle</th>\n",
       "      <th>school</th>\n",
       "      <th>subway</th>\n",
       "      <th>style_new</th>\n",
       "      <th>bedrooms</th>\n",
       "      <th>AREA</th>\n",
       "      <th>price</th>\n",
       "      <th>pred1</th>\n",
       "      <th>resid1</th>\n",
       "      <th>price_ln</th>\n",
       "      <th>pred2</th>\n",
       "      <th>resid2</th>\n",
       "    </tr>\n",
       "  </thead>\n",
       "  <tbody>\n",
       "    <tr>\n",
       "      <th>0</th>\n",
       "      <td>0</td>\n",
       "      <td>0</td>\n",
       "      <td>1</td>\n",
       "      <td>0</td>\n",
       "      <td>0</td>\n",
       "      <td>0</td>\n",
       "      <td>1</td>\n",
       "      <td>0</td>\n",
       "      <td>1</td>\n",
       "      <td>无厅</td>\n",
       "      <td>1</td>\n",
       "      <td>46.06</td>\n",
       "      <td>4.885</td>\n",
       "      <td>4.997947</td>\n",
       "      <td>-0.112947</td>\n",
       "      <td>1.586169</td>\n",
       "      <td>1.593629</td>\n",
       "      <td>-0.007459</td>\n",
       "    </tr>\n",
       "  </tbody>\n",
       "</table>\n",
       "</div>"
      ],
      "text/plain": [
       "   CATE_东城  CATE_丰台  CATE_朝阳  CATE_海淀  CATE_西城  floor_low  floor_middle  \\\n",
       "0        0        0        1        0        0          0             1   \n",
       "\n",
       "   school  subway style_new  bedrooms   AREA  price     pred1    resid1  \\\n",
       "0       0       1        无厅         1  46.06  4.885  4.997947 -0.112947   \n",
       "\n",
       "   price_ln     pred2    resid2  \n",
       "0  1.586169  1.593629 -0.007459  "
      ]
     },
     "execution_count": 52,
     "metadata": {},
     "output_type": "execute_result"
    }
   ],
   "source": [
    "### 假想情形，做预测，x_new是新的自变量\n",
    "x_new = dat1.head(1).copy()\n",
    "x_new"
   ]
  },
  {
   "cell_type": "code",
   "execution_count": 53,
   "metadata": {
    "collapsed": false
   },
   "outputs": [
    {
     "name": "stdout",
     "output_type": "stream",
     "text": [
      "单位面积房价： 9.28 万元/平方米\n",
      "总价： 788.67 万元\n"
     ]
    }
   ],
   "source": [
    "x_new['CATE_朝阳'] = 0\n",
    "x_new['floor_middle'] = 0\n",
    "x_new['CATE_西城'] = 1\n",
    "x_new['bedrooms'] = 2\n",
    "x_new['halls'] = 1\n",
    "x_new['AREA'] = 85\n",
    "x_new['floor_low'] = 1\n",
    "x_new['subway'] = 1\n",
    "x_new['school'] = 1\n",
    "x_new['style_new'] = \"有厅\"\n",
    "\n",
    "# 预测值\n",
    "print(\"单位面积房价：\", round(math.exp(lm3.predict(x_new)),2), \"万元/平方米\")\n",
    "print(\"总价：\", round(math.exp(lm3.predict(x_new)) * 85, 2), \"万元\")"
   ]
  },
  {
   "cell_type": "code",
   "execution_count": 55,
   "metadata": {
    "collapsed": false
   },
   "outputs": [
    {
     "name": "stdout",
     "output_type": "stream",
     "text": [
      "单位面积房价： 7.85 万元/平方米\n",
      "总价： 549.69 万元\n"
     ]
    }
   ],
   "source": [
    "x_new1 = dat1.head(1).copy()\n",
    "\n",
    "x_new1['CATE_朝阳'] = 0\n",
    "x_new1.loc[0, 'CATE_东城'] = 1\n",
    "x_new1.loc[:, 'bedrooms'] = 2\n",
    "x_new1.loc[:, 'halls'] = 1\n",
    "x_new1.loc[:, 'AREA'] = 70\n",
    "x_new1.loc[:, 'subway'] = 1\n",
    "x_new1.loc[:, 'school'] = 1\n",
    "x_new1.loc[:, 'style_new'] = \"有厅\"\n",
    "\n",
    "# 预测值\n",
    "print(\"单位面积房价：\", round(math.exp(lm3.predict(x_new1)), 2), \"万元/平方米\")\n",
    "print(\"总价：\", round(math.exp(lm3.predict(x_new1)) * 70, 2), \"万元\")"
   ]
  }
 ],
 "metadata": {
  "kernelspec": {
   "display_name": "Python [default]",
   "language": "python",
   "name": "python3"
  },
  "language_info": {
   "codemirror_mode": {
    "name": "ipython",
    "version": 3
   },
   "file_extension": ".py",
   "mimetype": "text/x-python",
   "name": "python",
   "nbconvert_exporter": "python",
   "pygments_lexer": "ipython3",
   "version": "3.5.2"
  }
 },
 "nbformat": 4,
 "nbformat_minor": 2
}
