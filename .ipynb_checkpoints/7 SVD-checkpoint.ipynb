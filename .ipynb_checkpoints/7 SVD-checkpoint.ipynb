{
 "cells": [
  {
   "cell_type": "code",
   "execution_count": 2,
   "metadata": {},
   "outputs": [],
   "source": [
    "%matplotlib inline\n",
    "\n",
    "import pandas as pd\n",
    "import numpy as np\n",
    "import matplotlib.pyplot as plt"
   ]
  },
  {
   "cell_type": "markdown",
   "metadata": {},
   "source": [
    "### 奇异值分解"
   ]
  },
  {
   "cell_type": "code",
   "execution_count": 3,
   "metadata": {},
   "outputs": [],
   "source": [
    "A = np.matrix(\n",
    "    [[5, 5, 0, 5],\n",
    "     [5, 0, 3, 4],\n",
    "     [3, 4, 0, 3],\n",
    "     [0, 0, 5, 3],\n",
    "     [5, 4, 4, 5],\n",
    "     [5, 4, 5, 5]])"
   ]
  },
  {
   "cell_type": "code",
   "execution_count": 6,
   "metadata": {},
   "outputs": [
    {
     "name": "stdout",
     "output_type": "stream",
     "text": [
      "(6, 6) (4,) (4, 4)\n",
      "[[-0.44721867  0.53728743  0.00643789 -0.50369332 -0.38572204 -0.32982993]\n",
      " [-0.35861531 -0.24605053 -0.86223083 -0.14584826  0.07797125  0.20015231]\n",
      " [-0.29246336  0.40329582  0.22754042 -0.10376096  0.4360044   0.70652449]\n",
      " [-0.20779151 -0.67004393  0.3950621  -0.58878098  0.02599042  0.06671744]\n",
      " [-0.50993331 -0.05969518  0.10968053  0.28687443  0.59460659 -0.53714128]\n",
      " [-0.53164501 -0.18870999  0.19141061  0.53413013 -0.54845844  0.24290419]]\n",
      "[17.71392084  6.39167145  3.09796097  1.32897797]\n",
      "[[-0.57098887 -0.4274751  -0.38459931 -0.58593526]\n",
      " [ 0.22279713  0.51723555 -0.82462029 -0.05319973]\n",
      " [-0.67492385  0.69294472  0.2531966  -0.01403201]\n",
      " [ 0.41086611  0.26374238  0.32859738 -0.80848795]]\n"
     ]
    }
   ],
   "source": [
    "U, s, VH = np.linalg.svd(A)\n",
    "print(U.shape, s.shape, VH.shape)\n",
    "print(U)\n",
    "print(s)\n",
    "print(VH)"
   ]
  },
  {
   "cell_type": "code",
   "execution_count": 4,
   "metadata": {},
   "outputs": [
    {
     "data": {
      "image/png": "[encoded data removed]",
      "text/plain": [
       "<matplotlib.figure.Figure at 0x8704c50>"
      ]
     },
     "metadata": {},
     "output_type": "display_data"
    }
   ],
   "source": [
    "plt.figure(figsize=[3, 2])\n",
    "plt.plot(s)\n",
    "plt.show()"
   ]
  },
  {
   "cell_type": "code",
   "execution_count": 7,
   "metadata": {},
   "outputs": [
    {
     "name": "stdout",
     "output_type": "stream",
     "text": [
      "[[17.71392084  0.        ]\n",
      " [ 0.          6.39167145]]\n"
     ]
    }
   ],
   "source": [
    "#向量 变化为对角矩阵\n",
    "S = np.diag(s[:2])\n",
    "print(S)\n",
    "#左奇异矩阵取前面两列\n",
    "UU = U[:, :2]\n"
   ]
  },
  {
   "cell_type": "code",
   "execution_count": 6,
   "metadata": {},
   "outputs": [],
   "source": [
    "bob_T = np.matrix([5, 5, 0, 0, 0, 5])"
   ]
  },
  {
   "cell_type": "code",
   "execution_count": 7,
   "metadata": {},
   "outputs": [
    {
     "data": {
      "text/plain": [
       "matrix([[-0.37752201,  0.08020351]])"
      ]
     },
     "execution_count": 7,
     "metadata": {},
     "output_type": "execute_result"
    }
   ],
   "source": [
    "bob_T.dot(UU).dot(np.linalg.inv(S))"
   ]
  }
 ],
 "metadata": {
  "anaconda-cloud": {},
  "celltoolbar": "Raw Cell Format",
  "kernelspec": {
   "display_name": "Python 3",
   "language": "python",
   "name": "python3"
  },
  "language_info": {
   "codemirror_mode": {
    "name": "ipython",
    "version": 3
   },
   "file_extension": ".py",
   "mimetype": "text/x-python",
   "name": "python",
   "nbconvert_exporter": "python",
   "pygments_lexer": "ipython3",
   "version": "3.6.4"
  }
 },
 "nbformat": 4,
 "nbformat_minor": 1
}
