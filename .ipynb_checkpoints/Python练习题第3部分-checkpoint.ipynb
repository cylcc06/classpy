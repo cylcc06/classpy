{
 "cells": [
  {
   "cell_type": "markdown",
   "metadata": {
    "toc": true
   },
   "source": [
    "<h1>Table of Contents<span class=\"tocSkip\"></span></h1>\n",
    "<div class=\"toc\"><ul class=\"toc-item\"><li><span><a href=\"#判断语句练习\" data-toc-modified-id=\"判断语句练习-1\"><span class=\"toc-item-num\">1&nbsp;&nbsp;</span>判断语句练习</a></span><ul class=\"toc-item\"><li><span><a href=\"#先试着写一个:\" data-toc-modified-id=\"先试着写一个:-1.1\"><span class=\"toc-item-num\">1.1&nbsp;&nbsp;</span>先试着写一个:</a></span></li><li><span><a href=\"#if语句练习:\" data-toc-modified-id=\"if语句练习:-1.2\"><span class=\"toc-item-num\">1.2&nbsp;&nbsp;</span>if语句练习:</a></span></li><li><span><a href=\"#if语句练习:\" data-toc-modified-id=\"if语句练习:-1.3\"><span class=\"toc-item-num\">1.3&nbsp;&nbsp;</span>if语句练习:</a></span></li><li><span><a href=\"#if嵌套\" data-toc-modified-id=\"if嵌套-1.4\"><span class=\"toc-item-num\">1.4&nbsp;&nbsp;</span>if嵌套</a></span></li><li><span><a href=\"#练一练\" data-toc-modified-id=\"练一练-1.5\"><span class=\"toc-item-num\">1.5&nbsp;&nbsp;</span>练一练</a></span></li></ul></li><li><span><a href=\"#循环语句练习\" data-toc-modified-id=\"循环语句练习-2\"><span class=\"toc-item-num\">2&nbsp;&nbsp;</span>循环语句练习</a></span><ul class=\"toc-item\"><li><span><a href=\"#练习:-使用while循环和for循环分别计算1-1000的偶数累加和\" data-toc-modified-id=\"练习:-使用while循环和for循环分别计算1-1000的偶数累加和-2.1\"><span class=\"toc-item-num\">2.1&nbsp;&nbsp;</span>练习: 使用while循环和for循环分别计算1-1000的偶数累加和</a></span></li><li><span><a href=\"#Python-练习-寻找水仙花数\" data-toc-modified-id=\"Python-练习-寻找水仙花数-2.2\"><span class=\"toc-item-num\">2.2&nbsp;&nbsp;</span>Python 练习 寻找水仙花数</a></span></li></ul></li></ul></div>"
   ]
  },
  {
   "cell_type": "markdown",
   "metadata": {},
   "source": [
    "## 判断语句练习\n",
    "\n",
    "if语句的完整形式就是：\n",
    "\n",
    "```python\n",
    "if <条件判断1>:\n",
    "    <执行1>\n",
    "elif <条件判断2>:\n",
    "    <执行2>\n",
    "elif <条件判断3>:\n",
    "    <执行3>\n",
    "else:\n",
    "    <执行4>\n",
    "\n",
    "```"
   ]
  },
  {
   "cell_type": "markdown",
   "metadata": {},
   "source": [
    "### 先试着写一个:\n",
    "\n",
    "判断我的起床时间, 如果是7点之前, 我就可以去晨跑\n",
    "\n",
    "如果是 8点之前, 我就直接去吃早饭\n",
    "\n",
    "如果是 9点之前 我就做公交车\n",
    "\n",
    "九点以后多以后起床, 打出租去上班"
   ]
  },
  {
   "cell_type": "code",
   "execution_count": null,
   "metadata": {
    "collapsed": true
   },
   "outputs": [],
   "source": []
  },
  {
   "cell_type": "markdown",
   "metadata": {},
   "source": [
    "### if语句练习: \n",
    "\n",
    "要求： 如果 年龄 大于12岁, 可以旁观别人玩游戏\n",
    "\n",
    "从键盘获取自己的年龄，判断是否大于或者等于18岁，如果满足就输出“哥，已成年，网吧可以去了”\n",
    "\n",
    "如果年龄 大于 40岁, 可以把小于18岁的人捕获出网吧\n",
    "\n",
    "其他情况, 则自由行动"
   ]
  },
  {
   "cell_type": "code",
   "execution_count": null,
   "metadata": {
    "collapsed": true
   },
   "outputs": [],
   "source": []
  },
  {
   "cell_type": "code",
   "execution_count": null,
   "metadata": {
    "collapsed": true
   },
   "outputs": [],
   "source": []
  },
  {
   "cell_type": "markdown",
   "metadata": {},
   "source": [
    "### if语句练习:\n",
    "\n",
    "小明身高1.75，体重80.5kg。请根据BMI公式（体重除以身高的平方(米)）帮小明计算他的BMI指数，并根据BMI指数：\n",
    "\n",
    "低于18.5：过轻 18.5-25：正常 25-28：过重 28-32：肥胖 高于32：严重肥胖 用if-elif判断并打印结果："
   ]
  },
  {
   "cell_type": "code",
   "execution_count": null,
   "metadata": {
    "collapsed": true
   },
   "outputs": [],
   "source": []
  },
  {
   "cell_type": "code",
   "execution_count": null,
   "metadata": {
    "collapsed": true
   },
   "outputs": [],
   "source": []
  },
  {
   "cell_type": "markdown",
   "metadata": {},
   "source": [
    "### if嵌套\n",
    "\n",
    "通过学习if的基本用法，已经知道了\n",
    "\n",
    "当需要满足条件去做事情的这种情况需要使用if\n",
    "当满足条件时做事情A，不满足条件做事情B的这种情况使用if-else\n",
    "想一想：\n",
    "\n",
    "坐火车或者地铁的实际情况是：先进行安检如果安检通过才会判断是否有车票，或者是先检查是否有车票之后才会进行安检，即实际的情况某个判断是再另外一个判断成立的基础上进行的，这样的情况该怎样解决呢？\n",
    "\n",
    "答：\n",
    "\n",
    "if嵌套"
   ]
  },
  {
   "cell_type": "markdown",
   "metadata": {},
   "source": [
    "if嵌套的格式\n",
    "```python\n",
    " if 条件1:\n",
    "\n",
    "        满足条件1 做的事情1\n",
    "        满足条件1 做的事情2\n",
    "        ...(省略)...\n",
    "\n",
    "        if 条件2:\n",
    "            满足条件2 做的事情1\n",
    "            满足条件2 做的事情2\n",
    "            ...(省略)...\n",
    "\n",
    "```"
   ]
  },
  {
   "cell_type": "code",
   "execution_count": 1,
   "metadata": {},
   "outputs": [
    {
     "name": "stdout",
     "output_type": "stream",
     "text": [
      "没有车票，不能进站\n",
      "亲爱的，那就下次见了，一票难求啊~~~~(>_<)~~~~\n"
     ]
    }
   ],
   "source": [
    "chePiao = 0    # 用1代表有车票，0代表没有车票 1 有 True  0  False\n",
    "daoLenght = 11     # 刀子的长度，单位为cm\n",
    "\n",
    "if chePiao == 1:\n",
    "    print(\"有车票，可以进站\")\n",
    "    if daoLenght < 10:\n",
    "        print(\"通过安检\")\n",
    "        print(\"终于可以见到Ta了，美滋滋~~~\")\n",
    "    else:\n",
    "        print(\"没有通过安检\")\n",
    "        print(\"刀子的长度超过规定，等待警察处理...\")\n",
    "else:\n",
    "    print(\"没有车票，不能进站\")\n",
    "    print(\"亲爱的，那就下次见了，一票难求啊~~~~(>_<)~~~~\")"
   ]
  },
  {
   "cell_type": "code",
   "execution_count": null,
   "metadata": {
    "collapsed": true
   },
   "outputs": [],
   "source": []
  },
  {
   "cell_type": "markdown",
   "metadata": {},
   "source": [
    "### 练一练\n",
    "\n",
    "情节描述：上公交车，并且可以有座位坐下\n",
    "\n",
    "要求：输入公交卡当前的余额，只要超过2元，就可以上公交车；如果空座位的数量大于0，就可以坐下"
   ]
  },
  {
   "cell_type": "code",
   "execution_count": null,
   "metadata": {
    "collapsed": true
   },
   "outputs": [],
   "source": []
  },
  {
   "cell_type": "code",
   "execution_count": null,
   "metadata": {
    "collapsed": true
   },
   "outputs": [],
   "source": []
  },
  {
   "cell_type": "markdown",
   "metadata": {},
   "source": [
    "## 循环语句练习"
   ]
  },
  {
   "cell_type": "markdown",
   "metadata": {},
   "source": [
    "```python\n",
    "while 条件:\n",
    "        条件满足时，做的事情1\n",
    "        条件满足时，做的事情2\n",
    "        条件满足时，做的事情3\n",
    "        ...(省略)...\n",
    "```"
   ]
  },
  {
   "cell_type": "code",
   "execution_count": 2,
   "metadata": {
    "collapsed": true
   },
   "outputs": [
    {
     "name": "stdout",
     "output_type": "stream",
     "text": [
      "当前是第1次执行循环\n",
      "i=0\n",
      "当前是第2次执行循环\n",
      "i=1\n",
      "当前是第3次执行循环\n",
      "i=2\n",
      "当前是第4次执行循环\n",
      "i=3\n",
      "当前是第5次执行循环\n",
      "i=4\n"
     ]
    }
   ],
   "source": [
    "i = 0\n",
    "while i<5:\n",
    "    print(\"当前是第%d次执行循环\"%(i+1))\n",
    "    print(\"i=%d\"%i)\n",
    "    i+=1\n"
   ]
  },
  {
   "cell_type": "markdown",
   "metadata": {},
   "source": [
    "使用while循环计算1至100的累加和"
   ]
  },
  {
   "cell_type": "code",
   "execution_count": null,
   "metadata": {
    "collapsed": true
   },
   "outputs": [],
   "source": []
  },
  {
   "cell_type": "markdown",
   "metadata": {},
   "source": [
    "for循环\n",
    "\n",
    "像while循环一样，for可以完成循环的功能。\n",
    "\n",
    "在Python中 for循环可以遍历任何序列的项目，如一个列表或者一个字符串等。\n",
    "\n",
    "for循环的格式\n",
    "\n",
    "```python\n",
    "    for 临时变量 in 列表或者字符串等:\n",
    "        循环满足条件时执行的代码\n",
    "\n",
    "```"
   ]
  },
  {
   "cell_type": "markdown",
   "metadata": {},
   "source": [
    "使用for循环计算1至100的累加和"
   ]
  },
  {
   "cell_type": "code",
   "execution_count": null,
   "metadata": {
    "collapsed": true
   },
   "outputs": [],
   "source": []
  },
  {
   "cell_type": "markdown",
   "metadata": {},
   "source": [
    "### 练习: 使用while循环和for循环分别计算1-1000的偶数累加和"
   ]
  },
  {
   "cell_type": "code",
   "execution_count": null,
   "metadata": {
    "collapsed": true
   },
   "outputs": [],
   "source": []
  },
  {
   "cell_type": "markdown",
   "metadata": {
    "collapsed": true
   },
   "source": [
    "### Python 练习 寻找水仙花数\n",
    "\n",
    "题目：打印出所有的\"水仙花数\"，所谓\"水仙花数\"是指一个三位数，其各位数字立方和等于该数本身。例如：153是一个\"水仙花数\"，因为153=1的三次方＋5的三次方＋3的三次方。"
   ]
  },
  {
   "cell_type": "code",
   "execution_count": null,
   "metadata": {
    "collapsed": true
   },
   "outputs": [],
   "source": []
  },
  {
   "cell_type": "code",
   "execution_count": null,
   "metadata": {
    "collapsed": true
   },
   "outputs": [],
   "source": []
  },
  {
   "cell_type": "code",
   "execution_count": null,
   "metadata": {
    "collapsed": true
   },
   "outputs": [],
   "source": []
  },
  {
   "cell_type": "code",
   "execution_count": null,
   "metadata": {
    "collapsed": true
   },
   "outputs": [],
   "source": []
  }
 ],
 "metadata": {
  "kernelspec": {
   "display_name": "Python 3",
   "language": "python",
   "name": "python3"
  },
  "language_info": {
   "codemirror_mode": {
    "name": "ipython",
    "version": 3
   },
   "file_extension": ".py",
   "mimetype": "text/x-python",
   "name": "python",
   "nbconvert_exporter": "python",
   "pygments_lexer": "ipython3",
   "version": "3.6.4"
  },
  "toc": {
   "base_numbering": 1,
   "nav_menu": {},
   "number_sections": true,
   "sideBar": true,
   "skip_h1_title": false,
   "title_cell": "Table of Contents",
   "title_sidebar": "Contents",
   "toc_cell": true,
   "toc_position": {},
   "toc_section_display": true,
   "toc_window_display": true
  },
  "varInspector": {
   "cols": {
    "lenName": 16,
    "lenType": 16,
    "lenVar": 40
   },
   "kernels_config": {
    "python": {
     "delete_cmd_postfix": "",
     "delete_cmd_prefix": "del ",
     "library": "var_list.py",
     "varRefreshCmd": "print(var_dic_list())"
    },
    "r": {
     "delete_cmd_postfix": ") ",
     "delete_cmd_prefix": "rm(",
     "library": "var_list.r",
     "varRefreshCmd": "cat(var_dic_list()) "
    }
   },
   "types_to_exclude": [
    "module",
    "function",
    "builtin_function_or_method",
    "instance",
    "_Feature"
   ],
   "window_display": false
  }
 },
 "nbformat": 4,
 "nbformat_minor": 2
}
