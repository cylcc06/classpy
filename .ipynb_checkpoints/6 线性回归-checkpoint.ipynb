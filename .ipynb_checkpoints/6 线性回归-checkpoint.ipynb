{
 "cells": [
  {
   "cell_type": "markdown",
   "metadata": {},
   "source": [
    "# 线性回归模型与诊断\n",
    "数据说明：本数据是一份汽车贷款数据"
   ]
  },
  {
   "cell_type": "markdown",
   "metadata": {},
   "source": [
    "|字段名|中文含义|\n",
    "|:--:|:--:|\n",
    "|id|id|\n",
    "|Acc|是否开卡(1=已开通)|\n",
    "|avg_exp|月均信用卡支出（元）|\n",
    "|avg_exp_ln|月均信用卡支出的自然对数|\n",
    "|gender|性别(男=1)|\n",
    "|Age|年龄|\n",
    "|Income|年收入（万元）|\n",
    "|Ownrent|是否自有住房（有=1；无=0)|\n",
    "|Selfempl|是否自谋职业(1=yes, 0=no)|\n",
    "|dist_home_val|所住小区房屋均价(万元)|\n",
    "|dist_avg_income|当地人均收入|\n",
    "|high_avg|高出当地平均收入|\n",
    "|edu_class|教育等级：小学及以下开通=0，中学=1，本科=2，研究生=3|"
   ]
  },
  {
   "cell_type": "code",
   "execution_count": 62,
   "metadata": {},
   "outputs": [],
   "source": [
    "%matplotlib inline\n",
    "\n",
    "import matplotlib.pyplot as plt\n",
    "import os\n",
    "import numpy as np\n",
    "import pandas as pd\n",
    "import statsmodels.api as sm\n",
    "from statsmodels.formula.api import ols\n",
    "\n",
    "# os.chdir('E:/data')\n",
    "#pd.set_option('display.max_columns', 8)\n",
    "pd.set_option('display.max_columns', 8)"
   ]
  },
  {
   "cell_type": "markdown",
   "metadata": {},
   "source": [
    "导入数据和数据清洗"
   ]
  },
  {
   "cell_type": "code",
   "execution_count": 63,
   "metadata": {},
   "outputs": [
    {
     "data": {
      "text/html": [
       "<div>\n",
       "<style scoped>\n",
       "    .dataframe tbody tr th:only-of-type {\n",
       "        vertical-align: middle;\n",
       "    }\n",
       "\n",
       "    .dataframe tbody tr th {\n",
       "        vertical-align: top;\n",
       "    }\n",
       "\n",
       "    .dataframe thead th {\n",
       "        text-align: right;\n",
       "    }\n",
       "</style>\n",
       "<table border=\"1\" class=\"dataframe\">\n",
       "  <thead>\n",
       "    <tr style=\"text-align: right;\">\n",
       "      <th></th>\n",
       "      <th>id</th>\n",
       "      <th>Acc</th>\n",
       "      <th>avg_exp</th>\n",
       "      <th>avg_exp_ln</th>\n",
       "      <th>...</th>\n",
       "      <th>dist_avg_income</th>\n",
       "      <th>age2</th>\n",
       "      <th>high_avg</th>\n",
       "      <th>edu_class</th>\n",
       "    </tr>\n",
       "  </thead>\n",
       "  <tbody>\n",
       "    <tr>\n",
       "      <th>0</th>\n",
       "      <td>19</td>\n",
       "      <td>1</td>\n",
       "      <td>1217.03</td>\n",
       "      <td>7.104169</td>\n",
       "      <td>...</td>\n",
       "      <td>15.932789</td>\n",
       "      <td>1600</td>\n",
       "      <td>0.102361</td>\n",
       "      <td>3</td>\n",
       "    </tr>\n",
       "    <tr>\n",
       "      <th>1</th>\n",
       "      <td>5</td>\n",
       "      <td>1</td>\n",
       "      <td>1251.50</td>\n",
       "      <td>7.132098</td>\n",
       "      <td>...</td>\n",
       "      <td>15.796316</td>\n",
       "      <td>1024</td>\n",
       "      <td>0.051184</td>\n",
       "      <td>2</td>\n",
       "    </tr>\n",
       "    <tr>\n",
       "      <th>2</th>\n",
       "      <td>95</td>\n",
       "      <td>0</td>\n",
       "      <td>NaN</td>\n",
       "      <td>NaN</td>\n",
       "      <td>...</td>\n",
       "      <td>7.490000</td>\n",
       "      <td>1296</td>\n",
       "      <td>0.910000</td>\n",
       "      <td>1</td>\n",
       "    </tr>\n",
       "    <tr>\n",
       "      <th>3</th>\n",
       "      <td>86</td>\n",
       "      <td>1</td>\n",
       "      <td>856.57</td>\n",
       "      <td>6.752936</td>\n",
       "      <td>...</td>\n",
       "      <td>11.275632</td>\n",
       "      <td>1681</td>\n",
       "      <td>0.197218</td>\n",
       "      <td>3</td>\n",
       "    </tr>\n",
       "    <tr>\n",
       "      <th>4</th>\n",
       "      <td>50</td>\n",
       "      <td>1</td>\n",
       "      <td>1321.83</td>\n",
       "      <td>7.186772</td>\n",
       "      <td>...</td>\n",
       "      <td>13.346474</td>\n",
       "      <td>784</td>\n",
       "      <td>0.062676</td>\n",
       "      <td>2</td>\n",
       "    </tr>\n",
       "  </tbody>\n",
       "</table>\n",
       "<p>5 rows × 14 columns</p>\n",
       "</div>"
      ],
      "text/plain": [
       "   id  Acc  avg_exp  avg_exp_ln    ...      dist_avg_income  age2  high_avg  \\\n",
       "0  19    1  1217.03    7.104169    ...            15.932789  1600  0.102361   \n",
       "1   5    1  1251.50    7.132098    ...            15.796316  1024  0.051184   \n",
       "2  95    0      NaN         NaN    ...             7.490000  1296  0.910000   \n",
       "3  86    1   856.57    6.752936    ...            11.275632  1681  0.197218   \n",
       "4  50    1  1321.83    7.186772    ...            13.346474   784  0.062676   \n",
       "\n",
       "   edu_class  \n",
       "0          3  \n",
       "1          2  \n",
       "2          1  \n",
       "3          3  \n",
       "4          2  \n",
       "\n",
       "[5 rows x 14 columns]"
      ]
     },
     "execution_count": 63,
     "metadata": {},
     "output_type": "execute_result"
    }
   ],
   "source": [
    "raw = pd.read_csv('creditcard_exp.csv', skipinitialspace=True)\n",
    "raw.head()"
   ]
  },
  {
   "cell_type": "code",
   "execution_count": 64,
   "metadata": {},
   "outputs": [
    {
     "data": {
      "text/html": [
       "<div>\n",
       "<style scoped>\n",
       "    .dataframe tbody tr th:only-of-type {\n",
       "        vertical-align: middle;\n",
       "    }\n",
       "\n",
       "    .dataframe tbody tr th {\n",
       "        vertical-align: top;\n",
       "    }\n",
       "\n",
       "    .dataframe thead th {\n",
       "        text-align: right;\n",
       "    }\n",
       "</style>\n",
       "<table border=\"1\" class=\"dataframe\">\n",
       "  <thead>\n",
       "    <tr style=\"text-align: right;\">\n",
       "      <th></th>\n",
       "      <th>avg_exp</th>\n",
       "      <th>avg_exp_ln</th>\n",
       "      <th>gender</th>\n",
       "      <th>Age</th>\n",
       "      <th>...</th>\n",
       "      <th>dist_home_val</th>\n",
       "      <th>dist_avg_income</th>\n",
       "      <th>high_avg</th>\n",
       "      <th>edu_class</th>\n",
       "    </tr>\n",
       "  </thead>\n",
       "  <tbody>\n",
       "    <tr>\n",
       "      <th>count</th>\n",
       "      <td>70.000000</td>\n",
       "      <td>70.000000</td>\n",
       "      <td>70.000000</td>\n",
       "      <td>70.000000</td>\n",
       "      <td>...</td>\n",
       "      <td>70.000000</td>\n",
       "      <td>70.000000</td>\n",
       "      <td>70.000000</td>\n",
       "      <td>70.000000</td>\n",
       "    </tr>\n",
       "    <tr>\n",
       "      <th>mean</th>\n",
       "      <td>983.655429</td>\n",
       "      <td>6.787787</td>\n",
       "      <td>0.285714</td>\n",
       "      <td>31.157143</td>\n",
       "      <td>...</td>\n",
       "      <td>74.540857</td>\n",
       "      <td>8.005472</td>\n",
       "      <td>-0.580766</td>\n",
       "      <td>1.928571</td>\n",
       "    </tr>\n",
       "    <tr>\n",
       "      <th>std</th>\n",
       "      <td>446.294237</td>\n",
       "      <td>0.476035</td>\n",
       "      <td>0.455016</td>\n",
       "      <td>7.206349</td>\n",
       "      <td>...</td>\n",
       "      <td>36.949228</td>\n",
       "      <td>3.070744</td>\n",
       "      <td>0.432808</td>\n",
       "      <td>0.873464</td>\n",
       "    </tr>\n",
       "    <tr>\n",
       "      <th>min</th>\n",
       "      <td>163.180000</td>\n",
       "      <td>5.094854</td>\n",
       "      <td>0.000000</td>\n",
       "      <td>20.000000</td>\n",
       "      <td>...</td>\n",
       "      <td>13.130000</td>\n",
       "      <td>3.828842</td>\n",
       "      <td>-1.526850</td>\n",
       "      <td>0.000000</td>\n",
       "    </tr>\n",
       "    <tr>\n",
       "      <th>25%</th>\n",
       "      <td>697.155000</td>\n",
       "      <td>6.547003</td>\n",
       "      <td>0.000000</td>\n",
       "      <td>26.000000</td>\n",
       "      <td>...</td>\n",
       "      <td>49.302500</td>\n",
       "      <td>5.915553</td>\n",
       "      <td>-0.887981</td>\n",
       "      <td>1.000000</td>\n",
       "    </tr>\n",
       "    <tr>\n",
       "      <th>50%</th>\n",
       "      <td>884.150000</td>\n",
       "      <td>6.784627</td>\n",
       "      <td>0.000000</td>\n",
       "      <td>30.000000</td>\n",
       "      <td>...</td>\n",
       "      <td>65.660000</td>\n",
       "      <td>7.084184</td>\n",
       "      <td>-0.612068</td>\n",
       "      <td>2.000000</td>\n",
       "    </tr>\n",
       "    <tr>\n",
       "      <th>75%</th>\n",
       "      <td>1229.585000</td>\n",
       "      <td>7.114415</td>\n",
       "      <td>1.000000</td>\n",
       "      <td>36.000000</td>\n",
       "      <td>...</td>\n",
       "      <td>105.067500</td>\n",
       "      <td>9.123105</td>\n",
       "      <td>-0.302082</td>\n",
       "      <td>3.000000</td>\n",
       "    </tr>\n",
       "    <tr>\n",
       "      <th>max</th>\n",
       "      <td>2430.030000</td>\n",
       "      <td>7.795659</td>\n",
       "      <td>1.000000</td>\n",
       "      <td>55.000000</td>\n",
       "      <td>...</td>\n",
       "      <td>157.900000</td>\n",
       "      <td>18.427000</td>\n",
       "      <td>0.259337</td>\n",
       "      <td>3.000000</td>\n",
       "    </tr>\n",
       "  </tbody>\n",
       "</table>\n",
       "<p>8 rows × 11 columns</p>\n",
       "</div>"
      ],
      "text/plain": [
       "           avg_exp  avg_exp_ln     gender        Age    ...      \\\n",
       "count    70.000000   70.000000  70.000000  70.000000    ...       \n",
       "mean    983.655429    6.787787   0.285714  31.157143    ...       \n",
       "std     446.294237    0.476035   0.455016   7.206349    ...       \n",
       "min     163.180000    5.094854   0.000000  20.000000    ...       \n",
       "25%     697.155000    6.547003   0.000000  26.000000    ...       \n",
       "50%     884.150000    6.784627   0.000000  30.000000    ...       \n",
       "75%    1229.585000    7.114415   1.000000  36.000000    ...       \n",
       "max    2430.030000    7.795659   1.000000  55.000000    ...       \n",
       "\n",
       "       dist_home_val  dist_avg_income   high_avg  edu_class  \n",
       "count      70.000000        70.000000  70.000000  70.000000  \n",
       "mean       74.540857         8.005472  -0.580766   1.928571  \n",
       "std        36.949228         3.070744   0.432808   0.873464  \n",
       "min        13.130000         3.828842  -1.526850   0.000000  \n",
       "25%        49.302500         5.915553  -0.887981   1.000000  \n",
       "50%        65.660000         7.084184  -0.612068   2.000000  \n",
       "75%       105.067500         9.123105  -0.302082   3.000000  \n",
       "max       157.900000        18.427000   0.259337   3.000000  \n",
       "\n",
       "[8 rows x 11 columns]"
      ]
     },
     "execution_count": 64,
     "metadata": {},
     "output_type": "execute_result"
    }
   ],
   "source": [
    "exp = raw[raw['avg_exp'].notnull()].copy().iloc[:, 2:]\\\n",
    ".drop('age2',axis=1)\n",
    "\n",
    "exp_new = raw[raw['avg_exp'].isnull()].copy().iloc[:, 2:]\\\n",
    ".drop('age2',axis=1)\n",
    "\n",
    "exp.describe(include='all')"
   ]
  },
  {
   "cell_type": "markdown",
   "metadata": {},
   "source": [
    "### 相关性分析\n",
    "散点图"
   ]
  },
  {
   "cell_type": "code",
   "execution_count": 65,
   "metadata": {},
   "outputs": [
    {
     "data": {
      "image/png": "[encoded data removed]",
      "text/plain": [
       "<Figure size 432x288 with 1 Axes>"
      ]
     },
     "metadata": {
      "needs_background": "light"
     },
     "output_type": "display_data"
    }
   ],
   "source": [
    "exp.plot('Income', 'avg_exp', kind='scatter')\n",
    "plt.show()"
   ]
  },
  {
   "cell_type": "code",
   "execution_count": 66,
   "metadata": {},
   "outputs": [
    {
     "data": {
      "text/html": [
       "<div>\n",
       "<style scoped>\n",
       "    .dataframe tbody tr th:only-of-type {\n",
       "        vertical-align: middle;\n",
       "    }\n",
       "\n",
       "    .dataframe tbody tr th {\n",
       "        vertical-align: top;\n",
       "    }\n",
       "\n",
       "    .dataframe thead th {\n",
       "        text-align: right;\n",
       "    }\n",
       "</style>\n",
       "<table border=\"1\" class=\"dataframe\">\n",
       "  <thead>\n",
       "    <tr style=\"text-align: right;\">\n",
       "      <th></th>\n",
       "      <th>Income</th>\n",
       "      <th>avg_exp</th>\n",
       "      <th>Age</th>\n",
       "      <th>dist_home_val</th>\n",
       "    </tr>\n",
       "  </thead>\n",
       "  <tbody>\n",
       "    <tr>\n",
       "      <th>Income</th>\n",
       "      <td>1.000000</td>\n",
       "      <td>0.674011</td>\n",
       "      <td>0.369129</td>\n",
       "      <td>0.249153</td>\n",
       "    </tr>\n",
       "    <tr>\n",
       "      <th>avg_exp</th>\n",
       "      <td>0.674011</td>\n",
       "      <td>1.000000</td>\n",
       "      <td>0.258478</td>\n",
       "      <td>0.319499</td>\n",
       "    </tr>\n",
       "    <tr>\n",
       "      <th>Age</th>\n",
       "      <td>0.369129</td>\n",
       "      <td>0.258478</td>\n",
       "      <td>1.000000</td>\n",
       "      <td>0.109323</td>\n",
       "    </tr>\n",
       "    <tr>\n",
       "      <th>dist_home_val</th>\n",
       "      <td>0.249153</td>\n",
       "      <td>0.319499</td>\n",
       "      <td>0.109323</td>\n",
       "      <td>1.000000</td>\n",
       "    </tr>\n",
       "  </tbody>\n",
       "</table>\n",
       "</div>"
      ],
      "text/plain": [
       "                 Income   avg_exp       Age  dist_home_val\n",
       "Income         1.000000  0.674011  0.369129       0.249153\n",
       "avg_exp        0.674011  1.000000  0.258478       0.319499\n",
       "Age            0.369129  0.258478  1.000000       0.109323\n",
       "dist_home_val  0.249153  0.319499  0.109323       1.000000"
      ]
     },
     "execution_count": 66,
     "metadata": {},
     "output_type": "execute_result"
    }
   ],
   "source": [
    "exp[['Income', 'avg_exp', 'Age', 'dist_home_val']].corr(method='pearson')"
   ]
  },
  {
   "cell_type": "markdown",
   "metadata": {},
   "source": [
    "## 线性回归算法\n",
    "### 简单线性回归"
   ]
  },
  {
   "cell_type": "code",
   "execution_count": 67,
   "metadata": {},
   "outputs": [
    {
     "name": "stdout",
     "output_type": "stream",
     "text": [
      "Intercept    258.049498\n",
      "Income        97.728578\n",
      "dtype: float64\n"
     ]
    }
   ],
   "source": [
    "#普通最小二乘回归    Intercept(截距)\n",
    "lm_s = ols('avg_exp ~ Income', data=exp).fit()\n",
    "print(lm_s.params)"
   ]
  },
  {
   "cell_type": "markdown",
   "metadata": {},
   "source": [
    "Predict-在原始数据集上得到预测值和残差"
   ]
  },
  {
   "cell_type": "code",
   "execution_count": 68,
   "metadata": {
    "scrolled": false
   },
   "outputs": [
    {
     "data": {
      "text/html": [
       "<table class=\"simpletable\">\n",
       "<caption>OLS Regression Results</caption>\n",
       "<tr>\n",
       "  <th>Dep. Variable:</th>         <td>avg_exp</td>     <th>  R-squared:         </th> <td>   0.454</td>\n",
       "</tr>\n",
       "<tr>\n",
       "  <th>Model:</th>                   <td>OLS</td>       <th>  Adj. R-squared:    </th> <td>   0.446</td>\n",
       "</tr>\n",
       "<tr>\n",
       "  <th>Method:</th>             <td>Least Squares</td>  <th>  F-statistic:       </th> <td>   56.61</td>\n",
       "</tr>\n",
       "<tr>\n",
       "  <th>Date:</th>             <td>Thu, 08 Nov 2018</td> <th>  Prob (F-statistic):</th> <td>1.60e-10</td>\n",
       "</tr>\n",
       "<tr>\n",
       "  <th>Time:</th>                 <td>15:27:55</td>     <th>  Log-Likelihood:    </th> <td> -504.69</td>\n",
       "</tr>\n",
       "<tr>\n",
       "  <th>No. Observations:</th>      <td>    70</td>      <th>  AIC:               </th> <td>   1013.</td>\n",
       "</tr>\n",
       "<tr>\n",
       "  <th>Df Residuals:</th>          <td>    68</td>      <th>  BIC:               </th> <td>   1018.</td>\n",
       "</tr>\n",
       "<tr>\n",
       "  <th>Df Model:</th>              <td>     1</td>      <th>                     </th>     <td> </td>   \n",
       "</tr>\n",
       "<tr>\n",
       "  <th>Covariance Type:</th>      <td>nonrobust</td>    <th>                     </th>     <td> </td>   \n",
       "</tr>\n",
       "</table>\n",
       "<table class=\"simpletable\">\n",
       "<tr>\n",
       "      <td></td>         <th>coef</th>     <th>std err</th>      <th>t</th>      <th>P>|t|</th>  <th>[0.025</th>    <th>0.975]</th>  \n",
       "</tr>\n",
       "<tr>\n",
       "  <th>Intercept</th> <td>  258.0495</td> <td>  104.290</td> <td>    2.474</td> <td> 0.016</td> <td>   49.942</td> <td>  466.157</td>\n",
       "</tr>\n",
       "<tr>\n",
       "  <th>Income</th>    <td>   97.7286</td> <td>   12.989</td> <td>    7.524</td> <td> 0.000</td> <td>   71.809</td> <td>  123.648</td>\n",
       "</tr>\n",
       "</table>\n",
       "<table class=\"simpletable\">\n",
       "<tr>\n",
       "  <th>Omnibus:</th>       <td> 3.714</td> <th>  Durbin-Watson:     </th> <td>   1.424</td>\n",
       "</tr>\n",
       "<tr>\n",
       "  <th>Prob(Omnibus):</th> <td> 0.156</td> <th>  Jarque-Bera (JB):  </th> <td>   3.507</td>\n",
       "</tr>\n",
       "<tr>\n",
       "  <th>Skew:</th>          <td> 0.485</td> <th>  Prob(JB):          </th> <td>   0.173</td>\n",
       "</tr>\n",
       "<tr>\n",
       "  <th>Kurtosis:</th>      <td> 2.490</td> <th>  Cond. No.          </th> <td>    21.4</td>\n",
       "</tr>\n",
       "</table>"
      ],
      "text/plain": [
       "<class 'statsmodels.iolib.summary.Summary'>\n",
       "\"\"\"\n",
       "                            OLS Regression Results                            \n",
       "==============================================================================\n",
       "Dep. Variable:                avg_exp   R-squared:                       0.454\n",
       "Model:                            OLS   Adj. R-squared:                  0.446\n",
       "Method:                 Least Squares   F-statistic:                     56.61\n",
       "Date:                Thu, 08 Nov 2018   Prob (F-statistic):           1.60e-10\n",
       "Time:                        15:27:55   Log-Likelihood:                -504.69\n",
       "No. Observations:                  70   AIC:                             1013.\n",
       "Df Residuals:                      68   BIC:                             1018.\n",
       "Df Model:                           1                                         \n",
       "Covariance Type:            nonrobust                                         \n",
       "==============================================================================\n",
       "                 coef    std err          t      P>|t|      [0.025      0.975]\n",
       "------------------------------------------------------------------------------\n",
       "Intercept    258.0495    104.290      2.474      0.016      49.942     466.157\n",
       "Income        97.7286     12.989      7.524      0.000      71.809     123.648\n",
       "==============================================================================\n",
       "Omnibus:                        3.714   Durbin-Watson:                   1.424\n",
       "Prob(Omnibus):                  0.156   Jarque-Bera (JB):                3.507\n",
       "Skew:                           0.485   Prob(JB):                        0.173\n",
       "Kurtosis:                       2.490   Cond. No.                         21.4\n",
       "==============================================================================\n",
       "\n",
       "Warnings:\n",
       "[1] Standard Errors assume that the covariance matrix of the errors is correctly specified.\n",
       "\"\"\""
      ]
     },
     "execution_count": 68,
     "metadata": {},
     "output_type": "execute_result"
    }
   ],
   "source": [
    "lm_s.summary()\n",
    "#Dep. Variable:\tavg_exp\t    是y\n",
    "#R-squared:\t0.454拟合优度   接近于1最好\n",
    "#[0.025\t0.975]       置信区间"
   ]
  },
  {
   "cell_type": "code",
   "execution_count": 69,
   "metadata": {},
   "outputs": [
    {
     "data": {
      "text/html": [
       "<div>\n",
       "<style scoped>\n",
       "    .dataframe tbody tr th:only-of-type {\n",
       "        vertical-align: middle;\n",
       "    }\n",
       "\n",
       "    .dataframe tbody tr th {\n",
       "        vertical-align: top;\n",
       "    }\n",
       "\n",
       "    .dataframe thead th {\n",
       "        text-align: right;\n",
       "    }\n",
       "</style>\n",
       "<table border=\"1\" class=\"dataframe\">\n",
       "  <thead>\n",
       "    <tr style=\"text-align: right;\">\n",
       "      <th></th>\n",
       "      <th>predict</th>\n",
       "      <th>resid</th>\n",
       "    </tr>\n",
       "  </thead>\n",
       "  <tbody>\n",
       "    <tr>\n",
       "      <th>0</th>\n",
       "      <td>1825.141904</td>\n",
       "      <td>-608.111904</td>\n",
       "    </tr>\n",
       "    <tr>\n",
       "      <th>1</th>\n",
       "      <td>1806.803136</td>\n",
       "      <td>-555.303136</td>\n",
       "    </tr>\n",
       "    <tr>\n",
       "      <th>3</th>\n",
       "      <td>1379.274813</td>\n",
       "      <td>-522.704813</td>\n",
       "    </tr>\n",
       "    <tr>\n",
       "      <th>4</th>\n",
       "      <td>1568.506658</td>\n",
       "      <td>-246.676658</td>\n",
       "    </tr>\n",
       "    <tr>\n",
       "      <th>5</th>\n",
       "      <td>1238.281793</td>\n",
       "      <td>-422.251793</td>\n",
       "    </tr>\n",
       "  </tbody>\n",
       "</table>\n",
       "</div>"
      ],
      "text/plain": [
       "       predict       resid\n",
       "0  1825.141904 -608.111904\n",
       "1  1806.803136 -555.303136\n",
       "3  1379.274813 -522.704813\n",
       "4  1568.506658 -246.676658\n",
       "5  1238.281793 -422.251793"
      ]
     },
     "execution_count": 69,
     "metadata": {},
     "output_type": "execute_result"
    }
   ],
   "source": [
    "#lm_s.predict(exp)预测值\n",
    "#lm_s.resid残差\n",
    "pd.DataFrame([lm_s.predict(exp), lm_s.resid], index=['predict', 'resid']\n",
    "            ).T.head()"
   ]
  },
  {
   "cell_type": "markdown",
   "metadata": {},
   "source": [
    "在待预测数据集上得到预测值"
   ]
  },
  {
   "cell_type": "code",
   "execution_count": 70,
   "metadata": {},
   "outputs": [
    {
     "data": {
      "text/plain": [
       "2     1078.969552\n",
       "11     756.465245\n",
       "13     736.919530\n",
       "19     687.077955\n",
       "20     666.554953\n",
       "dtype: float64"
      ]
     },
     "execution_count": 70,
     "metadata": {},
     "output_type": "execute_result"
    }
   ],
   "source": [
    "lm_s.predict(exp_new)[:5]"
   ]
  },
  {
   "cell_type": "markdown",
   "metadata": {},
   "source": [
    "### 多元线性回归"
   ]
  },
  {
   "cell_type": "code",
   "execution_count": 71,
   "metadata": {
    "scrolled": false
   },
   "outputs": [
    {
     "data": {
      "text/html": [
       "<table class=\"simpletable\">\n",
       "<caption>OLS Regression Results</caption>\n",
       "<tr>\n",
       "  <th>Dep. Variable:</th>         <td>avg_exp</td>     <th>  R-squared:         </th> <td>   0.541</td>\n",
       "</tr>\n",
       "<tr>\n",
       "  <th>Model:</th>                   <td>OLS</td>       <th>  Adj. R-squared:    </th> <td>   0.520</td>\n",
       "</tr>\n",
       "<tr>\n",
       "  <th>Method:</th>             <td>Least Squares</td>  <th>  F-statistic:       </th> <td>   25.95</td>\n",
       "</tr>\n",
       "<tr>\n",
       "  <th>Date:</th>             <td>Thu, 08 Nov 2018</td> <th>  Prob (F-statistic):</th> <td>3.34e-11</td>\n",
       "</tr>\n",
       "<tr>\n",
       "  <th>Time:</th>                 <td>15:27:55</td>     <th>  Log-Likelihood:    </th> <td> -498.62</td>\n",
       "</tr>\n",
       "<tr>\n",
       "  <th>No. Observations:</th>      <td>    70</td>      <th>  AIC:               </th> <td>   1005.</td>\n",
       "</tr>\n",
       "<tr>\n",
       "  <th>Df Residuals:</th>          <td>    66</td>      <th>  BIC:               </th> <td>   1014.</td>\n",
       "</tr>\n",
       "<tr>\n",
       "  <th>Df Model:</th>              <td>     3</td>      <th>                     </th>     <td> </td>   \n",
       "</tr>\n",
       "<tr>\n",
       "  <th>Covariance Type:</th>      <td>nonrobust</td>    <th>                     </th>     <td> </td>   \n",
       "</tr>\n",
       "</table>\n",
       "<table class=\"simpletable\">\n",
       "<tr>\n",
       "         <td></td>            <th>coef</th>     <th>std err</th>      <th>t</th>      <th>P>|t|</th>  <th>[0.025</th>    <th>0.975]</th>  \n",
       "</tr>\n",
       "<tr>\n",
       "  <th>Intercept</th>       <td>    2.3507</td> <td>  122.525</td> <td>    0.019</td> <td> 0.985</td> <td> -242.278</td> <td>  246.980</td>\n",
       "</tr>\n",
       "<tr>\n",
       "  <th>Income</th>          <td> -164.4378</td> <td>   86.487</td> <td>   -1.901</td> <td> 0.062</td> <td> -337.115</td> <td>    8.239</td>\n",
       "</tr>\n",
       "<tr>\n",
       "  <th>dist_home_val</th>   <td>    1.5396</td> <td>    1.049</td> <td>    1.468</td> <td> 0.147</td> <td>   -0.555</td> <td>    3.634</td>\n",
       "</tr>\n",
       "<tr>\n",
       "  <th>dist_avg_income</th> <td>  260.7522</td> <td>   87.058</td> <td>    2.995</td> <td> 0.004</td> <td>   86.934</td> <td>  434.570</td>\n",
       "</tr>\n",
       "</table>\n",
       "<table class=\"simpletable\">\n",
       "<tr>\n",
       "  <th>Omnibus:</th>       <td> 5.379</td> <th>  Durbin-Watson:     </th> <td>   1.593</td>\n",
       "</tr>\n",
       "<tr>\n",
       "  <th>Prob(Omnibus):</th> <td> 0.068</td> <th>  Jarque-Bera (JB):  </th> <td>   5.367</td>\n",
       "</tr>\n",
       "<tr>\n",
       "  <th>Skew:</th>          <td> 0.642</td> <th>  Prob(JB):          </th> <td>  0.0683</td>\n",
       "</tr>\n",
       "<tr>\n",
       "  <th>Kurtosis:</th>      <td> 2.563</td> <th>  Cond. No.          </th> <td>    325.</td>\n",
       "</tr>\n",
       "</table>"
      ],
      "text/plain": [
       "<class 'statsmodels.iolib.summary.Summary'>\n",
       "\"\"\"\n",
       "                            OLS Regression Results                            \n",
       "==============================================================================\n",
       "Dep. Variable:                avg_exp   R-squared:                       0.541\n",
       "Model:                            OLS   Adj. R-squared:                  0.520\n",
       "Method:                 Least Squares   F-statistic:                     25.95\n",
       "Date:                Thu, 08 Nov 2018   Prob (F-statistic):           3.34e-11\n",
       "Time:                        15:27:55   Log-Likelihood:                -498.62\n",
       "No. Observations:                  70   AIC:                             1005.\n",
       "Df Residuals:                      66   BIC:                             1014.\n",
       "Df Model:                           3                                         \n",
       "Covariance Type:            nonrobust                                         \n",
       "===================================================================================\n",
       "                      coef    std err          t      P>|t|      [0.025      0.975]\n",
       "-----------------------------------------------------------------------------------\n",
       "Intercept           2.3507    122.525      0.019      0.985    -242.278     246.980\n",
       "Income           -164.4378     86.487     -1.901      0.062    -337.115       8.239\n",
       "dist_home_val       1.5396      1.049      1.468      0.147      -0.555       3.634\n",
       "dist_avg_income   260.7522     87.058      2.995      0.004      86.934     434.570\n",
       "==============================================================================\n",
       "Omnibus:                        5.379   Durbin-Watson:                   1.593\n",
       "Prob(Omnibus):                  0.068   Jarque-Bera (JB):                5.367\n",
       "Skew:                           0.642   Prob(JB):                       0.0683\n",
       "Kurtosis:                       2.563   Cond. No.                         325.\n",
       "==============================================================================\n",
       "\n",
       "Warnings:\n",
       "[1] Standard Errors assume that the covariance matrix of the errors is correctly specified.\n",
       "\"\"\""
      ]
     },
     "execution_count": 71,
     "metadata": {},
     "output_type": "execute_result"
    }
   ],
   "source": [
    "#avg_exp ~Income + dist_home_val + dist_avg_income\n",
    "#~前是y ,~I后面是x\n",
    "lm_m = ols('avg_exp ~Income + dist_home_val + dist_avg_income',\n",
    "           data=exp).fit()\n",
    "lm_m.summary()"
   ]
  },
  {
   "cell_type": "code",
   "execution_count": 72,
   "metadata": {},
   "outputs": [
    {
     "data": {
      "text/plain": [
       "0     16.03515\n",
       "1     15.84750\n",
       "3     11.47285\n",
       "4     13.40915\n",
       "5     10.03015\n",
       "6     11.70575\n",
       "7     11.81885\n",
       "8      9.31260\n",
       "9     16.28885\n",
       "10     8.21290\n",
       "12    10.31100\n",
       "14    16.90015\n",
       "15     9.81175\n",
       "16     8.37990\n",
       "17     9.57100\n",
       "18     7.91000\n",
       "22     8.36860\n",
       "23     7.43320\n",
       "25     6.62415\n",
       "26     8.53830\n",
       "27     6.67270\n",
       "29    10.96410\n",
       "30     7.37330\n",
       "32     7.02025\n",
       "34     9.13150\n",
       "35     7.62235\n",
       "39     6.14075\n",
       "40     5.92290\n",
       "41     7.93215\n",
       "42     7.79915\n",
       "        ...   \n",
       "56     5.91685\n",
       "57     5.04755\n",
       "58     3.99125\n",
       "60     4.91825\n",
       "61     5.66840\n",
       "62     5.80935\n",
       "64     5.02000\n",
       "67     7.78860\n",
       "68     7.30525\n",
       "69     6.07935\n",
       "71     4.93595\n",
       "72     4.90190\n",
       "73     5.15780\n",
       "74     6.35895\n",
       "75     5.09540\n",
       "76     5.89170\n",
       "78     4.81890\n",
       "80     5.06555\n",
       "81     4.19345\n",
       "82     4.62600\n",
       "83     6.42760\n",
       "84     6.17745\n",
       "85     5.33175\n",
       "87     5.44810\n",
       "89     5.22925\n",
       "93     4.05520\n",
       "94     3.89305\n",
       "96     4.37960\n",
       "97     3.49390\n",
       "98     3.81590\n",
       "Name: Income, Length: 70, dtype: float64"
      ]
     },
     "execution_count": 72,
     "metadata": {},
     "output_type": "execute_result"
    }
   ],
   "source": [
    "exp.Income"
   ]
  },
  {
   "cell_type": "markdown",
   "metadata": {},
   "source": [
    "### 多元线性回归的变量筛选"
   ]
  },
  {
   "cell_type": "code",
   "execution_count": 73,
   "metadata": {},
   "outputs": [],
   "source": [
    "'''forward select'''\n",
    "def forward_select(data, response):\n",
    "    remaining = set(data.columns)\n",
    "    remaining.remove(response)\n",
    "    selected = []\n",
    "    current_score, best_new_score = float('inf'), float('inf')\n",
    "    while remaining:\n",
    "        aic_with_candidates=[]\n",
    "        for candidate in remaining:\n",
    "            formula = \"{} ~ {}\".format(\n",
    "                response,' + '.join(selected + [candidate]))\n",
    "            aic = ols(formula=formula, data=data).fit().aic\n",
    "            aic_with_candidates.append((aic, candidate))\n",
    "        aic_with_candidates.sort(reverse=True)\n",
    "        best_new_score, best_candidate=aic_with_candidates.pop()\n",
    "        if current_score > best_new_score: \n",
    "            remaining.remove(best_candidate)\n",
    "            selected.append(best_candidate)\n",
    "            current_score = best_new_score\n",
    "            print ('aic is {},continuing!'.format(current_score))\n",
    "        else:        \n",
    "            print ('forward selection over!')\n",
    "            break\n",
    "            \n",
    "    formula = \"{} ~ {} \".format(response,' + '.join(selected))\n",
    "    print('final formula is {}'.format(formula))\n",
    "    model = ols(formula=formula, data=data).fit()\n",
    "    return(model)"
   ]
  },
  {
   "cell_type": "code",
   "execution_count": 74,
   "metadata": {},
   "outputs": [
    {
     "name": "stdout",
     "output_type": "stream",
     "text": [
      "aic is 1007.6801413968115,continuing!\n",
      "aic is 1005.4969816306302,continuing!\n",
      "aic is 1005.2487355956046,continuing!\n",
      "forward selection over!\n",
      "final formula is avg_exp ~ dist_avg_income + Income + dist_home_val \n",
      "0.541151292841195\n"
     ]
    }
   ],
   "source": [
    "data_for_select = exp[['avg_exp', 'Income', 'Age', 'dist_home_val', \n",
    "                       'dist_avg_income']]\n",
    "lm_m = forward_select(data=data_for_select, response='avg_exp')\n",
    "print(lm_m.rsquared)"
   ]
  },
  {
   "cell_type": "markdown",
   "metadata": {},
   "source": [
    "# 线性回归的诊断\n",
    "### 残差分析"
   ]
  },
  {
   "cell_type": "code",
   "execution_count": 75,
   "metadata": {},
   "outputs": [],
   "source": [
    "ana1 = lm_s"
   ]
  },
  {
   "cell_type": "code",
   "execution_count": 76,
   "metadata": {},
   "outputs": [
    {
     "data": {
      "image/png": "[encoded data removed]",
      "text/plain": [
       "<Figure size 432x288 with 1 Axes>"
      ]
     },
     "metadata": {
      "needs_background": "light"
     },
     "output_type": "display_data"
    }
   ],
   "source": [
    "#预测值\n",
    "exp['Pred'] = ana1.predict(exp)\n",
    "#残差值\n",
    "exp['resid'] = ana1.resid\n",
    "exp.plot('Income', 'resid',kind='scatter')\n",
    "plt.show()\n",
    "#残差 异方差,x增大残差稀疏"
   ]
  },
  {
   "cell_type": "markdown",
   "metadata": {},
   "source": [
    "遇到异方差情况,教科书上会介绍使用加权最小二乘法，但是实际上最常用的是对被解释变量取对数"
   ]
  },
  {
   "cell_type": "code",
   "execution_count": 77,
   "metadata": {},
   "outputs": [
    {
     "data": {
      "image/png": "[encoded data removed]",
      "text/plain": [
       "<Figure size 432x288 with 1 Axes>"
      ]
     },
     "metadata": {
      "needs_background": "light"
     },
     "output_type": "display_data"
    }
   ],
   "source": [
    "#对y取对数,改善异方差\n",
    "ana2 = ols('avg_exp_ln ~ Income', exp).fit()\n",
    "exp['Pred'] = ana2.predict(exp)\n",
    "exp['resid'] = ana2.resid\n",
    "exp.plot('Income', 'resid',kind='scatter')\n",
    "plt.show()"
   ]
  },
  {
   "cell_type": "markdown",
   "metadata": {},
   "source": [
    "取对数会使模型更有解释意义"
   ]
  },
  {
   "cell_type": "code",
   "execution_count": 78,
   "metadata": {},
   "outputs": [],
   "source": [
    "exp['Income_ln'] = np.log(exp['Income'])"
   ]
  },
  {
   "cell_type": "code",
   "execution_count": 79,
   "metadata": {},
   "outputs": [
    {
     "data": {
      "image/png": "[encoded data removed]",
      "text/plain": [
       "<Figure size 432x288 with 1 Axes>"
      ]
     },
     "metadata": {
      "needs_background": "light"
     },
     "output_type": "display_data"
    }
   ],
   "source": [
    "#y和x取对数\n",
    "ana3 = ols('avg_exp_ln ~ Income_ln', exp).fit()\n",
    "exp['Pred'] = ana3.predict(exp)\n",
    "exp['resid'] = ana3.resid\n",
    "exp.plot('Income_ln', 'resid',kind='scatter')\n",
    "plt.show()"
   ]
  },
  {
   "cell_type": "markdown",
   "metadata": {},
   "source": [
    "寻找最优的模型"
   ]
  },
  {
   "cell_type": "code",
   "execution_count": 80,
   "metadata": {},
   "outputs": [
    {
     "name": "stdout",
     "output_type": "stream",
     "text": [
      "{'exp~Income': 0.45429062315565294, 'ln(exp)~Income': 0.4030855555329651, 'ln(exp)~ln(Income)': 0.480392799389311}\n"
     ]
    }
   ],
   "source": [
    "r_sq = {'exp~Income':ana1.rsquared, 'ln(exp)~Income':ana2.rsquared, \n",
    "        'ln(exp)~ln(Income)':ana3.rsquared}\n",
    "print(r_sq)"
   ]
  },
  {
   "cell_type": "markdown",
   "metadata": {},
   "source": [
    "### 强影响点分析"
   ]
  },
  {
   "cell_type": "code",
   "execution_count": 81,
   "metadata": {},
   "outputs": [],
   "source": [
    "exp['resid_t'] = \\\n",
    "(exp['resid'] - exp['resid'].mean()) / exp['resid'].std()"
   ]
  },
  {
   "cell_type": "markdown",
   "metadata": {},
   "source": [
    "Find outlier："
   ]
  },
  {
   "cell_type": "code",
   "execution_count": 82,
   "metadata": {},
   "outputs": [
    {
     "data": {
      "text/html": [
       "<div>\n",
       "<style scoped>\n",
       "    .dataframe tbody tr th:only-of-type {\n",
       "        vertical-align: middle;\n",
       "    }\n",
       "\n",
       "    .dataframe tbody tr th {\n",
       "        vertical-align: top;\n",
       "    }\n",
       "\n",
       "    .dataframe thead th {\n",
       "        text-align: right;\n",
       "    }\n",
       "</style>\n",
       "<table border=\"1\" class=\"dataframe\">\n",
       "  <thead>\n",
       "    <tr style=\"text-align: right;\">\n",
       "      <th></th>\n",
       "      <th>avg_exp</th>\n",
       "      <th>avg_exp_ln</th>\n",
       "      <th>gender</th>\n",
       "      <th>Age</th>\n",
       "      <th>...</th>\n",
       "      <th>Pred</th>\n",
       "      <th>resid</th>\n",
       "      <th>Income_ln</th>\n",
       "      <th>resid_t</th>\n",
       "    </tr>\n",
       "  </thead>\n",
       "  <tbody>\n",
       "    <tr>\n",
       "      <th>73</th>\n",
       "      <td>251.56</td>\n",
       "      <td>5.527682</td>\n",
       "      <td>0</td>\n",
       "      <td>29</td>\n",
       "      <td>...</td>\n",
       "      <td>6.526331</td>\n",
       "      <td>-0.998649</td>\n",
       "      <td>1.640510</td>\n",
       "      <td>-2.910292</td>\n",
       "    </tr>\n",
       "    <tr>\n",
       "      <th>98</th>\n",
       "      <td>163.18</td>\n",
       "      <td>5.094854</td>\n",
       "      <td>0</td>\n",
       "      <td>22</td>\n",
       "      <td>...</td>\n",
       "      <td>6.257191</td>\n",
       "      <td>-1.162337</td>\n",
       "      <td>1.339177</td>\n",
       "      <td>-3.387317</td>\n",
       "    </tr>\n",
       "  </tbody>\n",
       "</table>\n",
       "<p>2 rows × 15 columns</p>\n",
       "</div>"
      ],
      "text/plain": [
       "    avg_exp  avg_exp_ln  gender  Age    ...         Pred     resid  Income_ln  \\\n",
       "73   251.56    5.527682       0   29    ...     6.526331 -0.998649   1.640510   \n",
       "98   163.18    5.094854       0   22    ...     6.257191 -1.162337   1.339177   \n",
       "\n",
       "     resid_t  \n",
       "73 -2.910292  \n",
       "98 -3.387317  \n",
       "\n",
       "[2 rows x 15 columns]"
      ]
     },
     "execution_count": 82,
     "metadata": {},
     "output_type": "execute_result"
    }
   ],
   "source": [
    "exp[abs(exp['resid_t']) > 2]"
   ]
  },
  {
   "cell_type": "markdown",
   "metadata": {},
   "source": [
    "Drop outlier"
   ]
  },
  {
   "cell_type": "code",
   "execution_count": 83,
   "metadata": {},
   "outputs": [
    {
     "data": {
      "image/png": "[encoded data removed]",
      "text/plain": [
       "<Figure size 432x288 with 1 Axes>"
      ]
     },
     "metadata": {
      "needs_background": "light"
     },
     "output_type": "display_data"
    }
   ],
   "source": [
    "#学生化残差 离群值删除  >2认为是离群值\n",
    "exp2 = exp[abs(exp['resid_t']) <= 2].copy()\n",
    "ana4 = ols('avg_exp_ln ~ Income_ln', exp2).fit()\n",
    "exp2['Pred'] = ana4.predict(exp2)\n",
    "exp2['resid'] = ana4.resid\n",
    "exp2.plot('Income', 'resid', kind='scatter')\n",
    "plt.show()"
   ]
  },
  {
   "cell_type": "code",
   "execution_count": 84,
   "metadata": {},
   "outputs": [
    {
     "data": {
      "text/plain": [
       "0.4939719138517248"
      ]
     },
     "execution_count": 84,
     "metadata": {},
     "output_type": "execute_result"
    }
   ],
   "source": [
    "ana4.rsquared"
   ]
  },
  {
   "cell_type": "markdown",
   "metadata": {},
   "source": [
    "statemodels包提供了更多强影响点判断指标"
   ]
  },
  {
   "cell_type": "code",
   "execution_count": 85,
   "metadata": {},
   "outputs": [
    {
     "data": {
      "text/html": [
       "<div>\n",
       "<style scoped>\n",
       "    .dataframe tbody tr th:only-of-type {\n",
       "        vertical-align: middle;\n",
       "    }\n",
       "\n",
       "    .dataframe tbody tr th {\n",
       "        vertical-align: top;\n",
       "    }\n",
       "\n",
       "    .dataframe thead th {\n",
       "        text-align: right;\n",
       "    }\n",
       "</style>\n",
       "<table border=\"1\" class=\"dataframe\">\n",
       "  <thead>\n",
       "    <tr style=\"text-align: right;\">\n",
       "      <th></th>\n",
       "      <th>dfb_Intercept</th>\n",
       "      <th>dfb_Income_ln</th>\n",
       "      <th>cooks_d</th>\n",
       "      <th>dffits</th>\n",
       "      <th>dffits_internal</th>\n",
       "      <th>hat_diag</th>\n",
       "      <th>standard_resid</th>\n",
       "      <th>student_resid</th>\n",
       "    </tr>\n",
       "  </thead>\n",
       "  <tbody>\n",
       "    <tr>\n",
       "      <th>0</th>\n",
       "      <td>0.343729</td>\n",
       "      <td>-0.381393</td>\n",
       "      <td>0.085587</td>\n",
       "      <td>-0.416040</td>\n",
       "      <td>-0.413732</td>\n",
       "      <td>0.089498</td>\n",
       "      <td>-1.319633</td>\n",
       "      <td>-1.326996</td>\n",
       "    </tr>\n",
       "    <tr>\n",
       "      <th>1</th>\n",
       "      <td>0.307196</td>\n",
       "      <td>-0.341294</td>\n",
       "      <td>0.069157</td>\n",
       "      <td>-0.373146</td>\n",
       "      <td>-0.371907</td>\n",
       "      <td>0.087409</td>\n",
       "      <td>-1.201699</td>\n",
       "      <td>-1.205702</td>\n",
       "    </tr>\n",
       "    <tr>\n",
       "      <th>3</th>\n",
       "      <td>0.207619</td>\n",
       "      <td>-0.244956</td>\n",
       "      <td>0.044984</td>\n",
       "      <td>-0.302382</td>\n",
       "      <td>-0.299947</td>\n",
       "      <td>0.041557</td>\n",
       "      <td>-1.440468</td>\n",
       "      <td>-1.452165</td>\n",
       "    </tr>\n",
       "    <tr>\n",
       "      <th>4</th>\n",
       "      <td>0.112301</td>\n",
       "      <td>-0.127713</td>\n",
       "      <td>0.010759</td>\n",
       "      <td>-0.145967</td>\n",
       "      <td>-0.146693</td>\n",
       "      <td>0.060926</td>\n",
       "      <td>-0.575913</td>\n",
       "      <td>-0.573062</td>\n",
       "    </tr>\n",
       "    <tr>\n",
       "      <th>5</th>\n",
       "      <td>0.120572</td>\n",
       "      <td>-0.150924</td>\n",
       "      <td>0.022274</td>\n",
       "      <td>-0.211842</td>\n",
       "      <td>-0.211064</td>\n",
       "      <td>0.029011</td>\n",
       "      <td>-1.221080</td>\n",
       "      <td>-1.225579</td>\n",
       "    </tr>\n",
       "  </tbody>\n",
       "</table>\n",
       "</div>"
      ],
      "text/plain": [
       "   dfb_Intercept  dfb_Income_ln   cooks_d    dffits  dffits_internal  \\\n",
       "0       0.343729      -0.381393  0.085587 -0.416040        -0.413732   \n",
       "1       0.307196      -0.341294  0.069157 -0.373146        -0.371907   \n",
       "3       0.207619      -0.244956  0.044984 -0.302382        -0.299947   \n",
       "4       0.112301      -0.127713  0.010759 -0.145967        -0.146693   \n",
       "5       0.120572      -0.150924  0.022274 -0.211842        -0.211064   \n",
       "\n",
       "   hat_diag  standard_resid  student_resid  \n",
       "0  0.089498       -1.319633      -1.326996  \n",
       "1  0.087409       -1.201699      -1.205702  \n",
       "3  0.041557       -1.440468      -1.452165  \n",
       "4  0.060926       -0.575913      -0.573062  \n",
       "5  0.029011       -1.221080      -1.225579  "
      ]
     },
     "execution_count": 85,
     "metadata": {},
     "output_type": "execute_result"
    }
   ],
   "source": [
    "from statsmodels.stats.outliers_influence import OLSInfluence\n",
    "\n",
    "OLSInfluence(ana3).summary_frame().head()"
   ]
  },
  {
   "cell_type": "code",
   "execution_count": 86,
   "metadata": {},
   "outputs": [
    {
     "data": {
      "text/plain": [
       "0    -1.268422\n",
       "1    -1.156390\n",
       "3    -1.420551\n",
       "4    -0.562182\n",
       "5    -1.212052\n",
       "6    -0.611471\n",
       "7    -0.434505\n",
       "8    -1.067499\n",
       "9     0.373061\n",
       "10   -1.334228\n",
       "12   -0.407880\n",
       "14    0.609985\n",
       "15   -0.413575\n",
       "16   -0.831339\n",
       "17    1.000710\n",
       "18    0.855774\n",
       "22   -0.508416\n",
       "23   -0.770237\n",
       "25   -1.266990\n",
       "26   -0.236612\n",
       "27    1.007705\n",
       "29    0.277014\n",
       "30   -0.677789\n",
       "32    1.170821\n",
       "34    1.302342\n",
       "35   -0.432414\n",
       "39   -0.606185\n",
       "40    0.394131\n",
       "41    1.372630\n",
       "42   -0.084224\n",
       "        ...   \n",
       "56    1.517375\n",
       "57    0.551946\n",
       "58    0.339652\n",
       "60   -0.869507\n",
       "61    0.758040\n",
       "62    0.784004\n",
       "64   -0.701315\n",
       "67    1.027070\n",
       "68    1.627675\n",
       "69   -0.170786\n",
       "71   -0.639679\n",
       "72   -0.659551\n",
       "73   -2.910292\n",
       "74   -0.019559\n",
       "75    0.800620\n",
       "76    0.902861\n",
       "78    0.807223\n",
       "80   -0.363788\n",
       "81    0.898805\n",
       "82   -0.372982\n",
       "83    0.249463\n",
       "84    1.113198\n",
       "85    1.043669\n",
       "87    0.042377\n",
       "89    0.018987\n",
       "93   -0.335109\n",
       "94   -0.365148\n",
       "96    0.018922\n",
       "97   -0.411216\n",
       "98   -3.387317\n",
       "Name: resid, Length: 70, dtype: float64"
      ]
     },
     "execution_count": 86,
     "metadata": {},
     "output_type": "execute_result"
    }
   ],
   "source": [
    "(exp['resid'] - exp['resid'].mean()) / exp['resid'].std()"
   ]
  },
  {
   "cell_type": "markdown",
   "metadata": {},
   "source": [
    "### 增加变量\n",
    "经过单变量线性回归的处理，我们基本对模型的性质有了一定的了解，接下来可以放入更多的连续型解释变量。在加入变量之前，要注意变量的函数形式转变。比如当地房屋均价、当地平均收入，其性质和个人收入一样，都需要取对数"
   ]
  },
  {
   "cell_type": "code",
   "execution_count": 87,
   "metadata": {},
   "outputs": [
    {
     "data": {
      "text/html": [
       "<table class=\"simpletable\">\n",
       "<caption>OLS Regression Results</caption>\n",
       "<tr>\n",
       "  <th>Dep. Variable:</th>       <td>avg_exp_ln</td>    <th>  R-squared:         </th> <td>   0.553</td>\n",
       "</tr>\n",
       "<tr>\n",
       "  <th>Model:</th>                   <td>OLS</td>       <th>  Adj. R-squared:    </th> <td>   0.525</td>\n",
       "</tr>\n",
       "<tr>\n",
       "  <th>Method:</th>             <td>Least Squares</td>  <th>  F-statistic:       </th> <td>   19.48</td>\n",
       "</tr>\n",
       "<tr>\n",
       "  <th>Date:</th>             <td>Thu, 08 Nov 2018</td> <th>  Prob (F-statistic):</th> <td>1.79e-10</td>\n",
       "</tr>\n",
       "<tr>\n",
       "  <th>Time:</th>                 <td>15:27:56</td>     <th>  Log-Likelihood:    </th> <td> -7.3496</td>\n",
       "</tr>\n",
       "<tr>\n",
       "  <th>No. Observations:</th>      <td>    68</td>      <th>  AIC:               </th> <td>   24.70</td>\n",
       "</tr>\n",
       "<tr>\n",
       "  <th>Df Residuals:</th>          <td>    63</td>      <th>  BIC:               </th> <td>   35.80</td>\n",
       "</tr>\n",
       "<tr>\n",
       "  <th>Df Model:</th>              <td>     4</td>      <th>                     </th>     <td> </td>   \n",
       "</tr>\n",
       "<tr>\n",
       "  <th>Covariance Type:</th>      <td>nonrobust</td>    <th>                     </th>     <td> </td>   \n",
       "</tr>\n",
       "</table>\n",
       "<table class=\"simpletable\">\n",
       "<tr>\n",
       "           <td></td>             <th>coef</th>     <th>std err</th>      <th>t</th>      <th>P>|t|</th>  <th>[0.025</th>    <th>0.975]</th>  \n",
       "</tr>\n",
       "<tr>\n",
       "  <th>Intercept</th>          <td>    4.6265</td> <td>    0.317</td> <td>   14.574</td> <td> 0.000</td> <td>    3.992</td> <td>    5.261</td>\n",
       "</tr>\n",
       "<tr>\n",
       "  <th>Age</th>                <td>   -0.0006</td> <td>    0.005</td> <td>   -0.117</td> <td> 0.907</td> <td>   -0.011</td> <td>    0.010</td>\n",
       "</tr>\n",
       "<tr>\n",
       "  <th>Income_ln</th>          <td>   -0.1802</td> <td>    0.569</td> <td>   -0.317</td> <td> 0.752</td> <td>   -1.317</td> <td>    0.957</td>\n",
       "</tr>\n",
       "<tr>\n",
       "  <th>dist_home_val_ln</th>   <td>    0.1258</td> <td>    0.058</td> <td>    2.160</td> <td> 0.035</td> <td>    0.009</td> <td>    0.242</td>\n",
       "</tr>\n",
       "<tr>\n",
       "  <th>dist_avg_income_ln</th> <td>    1.0093</td> <td>    0.612</td> <td>    1.649</td> <td> 0.104</td> <td>   -0.214</td> <td>    2.233</td>\n",
       "</tr>\n",
       "</table>\n",
       "<table class=\"simpletable\">\n",
       "<tr>\n",
       "  <th>Omnibus:</th>       <td> 4.111</td> <th>  Durbin-Watson:     </th> <td>   1.609</td>\n",
       "</tr>\n",
       "<tr>\n",
       "  <th>Prob(Omnibus):</th> <td> 0.128</td> <th>  Jarque-Bera (JB):  </th> <td>   2.466</td>\n",
       "</tr>\n",
       "<tr>\n",
       "  <th>Skew:</th>          <td> 0.248</td> <th>  Prob(JB):          </th> <td>   0.291</td>\n",
       "</tr>\n",
       "<tr>\n",
       "  <th>Kurtosis:</th>      <td> 2.210</td> <th>  Cond. No.          </th> <td>    807.</td>\n",
       "</tr>\n",
       "</table>"
      ],
      "text/plain": [
       "<class 'statsmodels.iolib.summary.Summary'>\n",
       "\"\"\"\n",
       "                            OLS Regression Results                            \n",
       "==============================================================================\n",
       "Dep. Variable:             avg_exp_ln   R-squared:                       0.553\n",
       "Model:                            OLS   Adj. R-squared:                  0.525\n",
       "Method:                 Least Squares   F-statistic:                     19.48\n",
       "Date:                Thu, 08 Nov 2018   Prob (F-statistic):           1.79e-10\n",
       "Time:                        15:27:56   Log-Likelihood:                -7.3496\n",
       "No. Observations:                  68   AIC:                             24.70\n",
       "Df Residuals:                      63   BIC:                             35.80\n",
       "Df Model:                           4                                         \n",
       "Covariance Type:            nonrobust                                         \n",
       "======================================================================================\n",
       "                         coef    std err          t      P>|t|      [0.025      0.975]\n",
       "--------------------------------------------------------------------------------------\n",
       "Intercept              4.6265      0.317     14.574      0.000       3.992       5.261\n",
       "Age                   -0.0006      0.005     -0.117      0.907      -0.011       0.010\n",
       "Income_ln             -0.1802      0.569     -0.317      0.752      -1.317       0.957\n",
       "dist_home_val_ln       0.1258      0.058      2.160      0.035       0.009       0.242\n",
       "dist_avg_income_ln     1.0093      0.612      1.649      0.104      -0.214       2.233\n",
       "==============================================================================\n",
       "Omnibus:                        4.111   Durbin-Watson:                   1.609\n",
       "Prob(Omnibus):                  0.128   Jarque-Bera (JB):                2.466\n",
       "Skew:                           0.248   Prob(JB):                        0.291\n",
       "Kurtosis:                       2.210   Cond. No.                         807.\n",
       "==============================================================================\n",
       "\n",
       "Warnings:\n",
       "[1] Standard Errors assume that the covariance matrix of the errors is correctly specified.\n",
       "\"\"\""
      ]
     },
     "execution_count": 87,
     "metadata": {},
     "output_type": "execute_result"
    }
   ],
   "source": [
    "exp2['dist_home_val_ln'] = np.log(exp2['dist_home_val'])\n",
    "exp2['dist_avg_income_ln'] = np.log(exp2['dist_avg_income'])\n",
    "\n",
    "ana5 = ols('''avg_exp_ln ~ Age + Income_ln + \n",
    "           dist_home_val_ln + dist_avg_income_ln''', exp2).fit()\n",
    "ana5.summary()"
   ]
  },
  {
   "cell_type": "markdown",
   "metadata": {},
   "source": [
    "### 多重共线性分析"
   ]
  },
  {
   "cell_type": "code",
   "execution_count": 88,
   "metadata": {},
   "outputs": [],
   "source": [
    "# Step regression is not always work."
   ]
  },
  {
   "cell_type": "code",
   "execution_count": 89,
   "metadata": {},
   "outputs": [
    {
     "data": {
      "text/plain": [
       "Intercept             0.317453\n",
       "Age                   0.005124\n",
       "Income_ln             0.568848\n",
       "dist_home_val_ln      0.058210\n",
       "dist_avg_income_ln    0.612197\n",
       "dtype: float64"
      ]
     },
     "execution_count": 89,
     "metadata": {},
     "output_type": "execute_result"
    }
   ],
   "source": [
    "ana5.bse # The standard errors of the parameter estimates"
   ]
  },
  {
   "cell_type": "markdown",
   "metadata": {},
   "source": [
    "The function \"statsmodels.stats.outliers_influence.variance_inflation_factor\" uses \"OLS\" to fit data, and it will generates a wrong rsquared. So define it ourselves!"
   ]
  },
  {
   "cell_type": "code",
   "execution_count": 90,
   "metadata": {},
   "outputs": [],
   "source": [
    "#方差膨胀因子\n",
    "def vif(df, col_i):\n",
    "    cols = list(df.columns)\n",
    "    cols.remove(col_i)\n",
    "    cols_noti = cols\n",
    "    formula = col_i + '~' + '+'.join(cols_noti)\n",
    "    r2 = ols(formula, df).fit().rsquared\n",
    "    return 1. / (1. - r2)"
   ]
  },
  {
   "cell_type": "code",
   "execution_count": 118,
   "metadata": {},
   "outputs": [
    {
     "name": "stdout",
     "output_type": "stream",
     "text": [
      "    Age  Income_ln  dist_home_val_ln  dist_avg_income_ln\n",
      "0    40   2.774783          4.604470            2.768379\n",
      "1    32   2.763012          3.909620            2.759777\n",
      "3    41   2.439983          2.778819            2.422644\n",
      "4    28   2.595937          4.609063            2.591252\n",
      "5    41   2.305596          4.785490            2.335271\n",
      "6    33   2.460080          3.660994            2.444610\n",
      "7    37   2.469696          4.111693            2.525000\n",
      "8    46   2.231368          4.073121            2.203125\n",
      "9    40   2.790481          5.061962            2.836542\n",
      "10   43   2.105706          4.667675            2.148808\n",
      "12   26   2.333211          4.841743            2.376813\n",
      "14   34   2.827322          4.951805            2.913817\n",
      "15   28   2.283581          4.803037            2.397536\n",
      "16   38   2.125836          3.894063            2.208610\n",
      "17   30   2.258738          4.550925            2.326045\n",
      "18   34   2.068128          4.076181            2.047625\n",
      "22   40   2.124487          4.736374            2.226624\n",
      "23   36   2.005956          4.871067            2.084913\n",
      "25   28   1.890722          4.328758            2.052118\n",
      "26   31   2.144562          3.510650            2.211543\n",
      "27   42   1.898025          4.381026            1.863868\n",
      "29   37   2.394626          4.544039            2.501531\n",
      "30   24   1.997865          3.123246            2.131085\n",
      "32   25   1.948799          4.913022            1.958722\n",
      "34   43   2.211730          3.502851            2.272723\n",
      "35   27   2.031085          3.722798            2.162094\n",
      "39   33   1.814947          3.349553            1.944895\n",
      "40   28   1.778826          3.949126            1.938196\n",
      "41   41   2.070924          4.455626            2.170334\n",
      "42   29   2.054015          4.070564            2.129565\n",
      "..  ...        ...               ...                 ...\n",
      "54   26   1.825412          4.816403            1.901298\n",
      "55   24   1.635232          4.726768            1.768715\n",
      "56   37   1.777804          4.777189            1.787602\n",
      "57   22   1.618903          4.594311            1.758048\n",
      "58   55   1.384104          4.761575            1.595819\n",
      "60   23   1.592953          3.915019            1.699423\n",
      "61   33   1.734907          4.614328            1.823343\n",
      "62   31   1.759469          4.200355            1.810159\n",
      "64   23   1.613430          2.691921            1.658729\n",
      "67   21   2.052661          4.891702            2.072987\n",
      "68   31   1.988593          4.168369            2.117491\n",
      "69   29   1.804898          4.569647            1.948816\n",
      "71   26   1.596545          3.216874            1.750837\n",
      "72   43   1.589623          2.574900            1.658910\n",
      "74   29   1.849863          3.793014            1.843544\n",
      "75   26   1.628338          3.929470            1.776628\n",
      "76   35   1.773545          4.211683            1.957006\n",
      "78   27   1.572546          4.055084            1.783816\n",
      "80   27   1.622463          3.639164            1.714945\n",
      "81   22   1.433524          4.131801            1.655809\n",
      "82   24   1.531693          4.782395            1.493850\n",
      "83   34   1.860601          3.325755            1.940270\n",
      "84   36   1.820906          4.691898            1.991609\n",
      "85   27   1.673680          4.892302            1.880549\n",
      "87   35   1.695267          3.495901            1.779065\n",
      "89   30   1.654268          4.299867            1.786262\n",
      "93   21   1.400000          3.605770            1.469982\n",
      "94   20   1.359193          4.200954            1.515370\n",
      "96   30   1.476957          4.822135            1.617531\n",
      "97   21   1.251019          3.539799            1.342562\n",
      "\n",
      "[68 rows x 4 columns]\n",
      "Age \t 1.1691185387170273\n",
      "    Age  Income_ln  dist_home_val_ln  dist_avg_income_ln\n",
      "0    40   2.774783          4.604470            2.768379\n",
      "1    32   2.763012          3.909620            2.759777\n",
      "3    41   2.439983          2.778819            2.422644\n",
      "4    28   2.595937          4.609063            2.591252\n",
      "5    41   2.305596          4.785490            2.335271\n",
      "6    33   2.460080          3.660994            2.444610\n",
      "7    37   2.469696          4.111693            2.525000\n",
      "8    46   2.231368          4.073121            2.203125\n",
      "9    40   2.790481          5.061962            2.836542\n",
      "10   43   2.105706          4.667675            2.148808\n",
      "12   26   2.333211          4.841743            2.376813\n",
      "14   34   2.827322          4.951805            2.913817\n",
      "15   28   2.283581          4.803037            2.397536\n",
      "16   38   2.125836          3.894063            2.208610\n",
      "17   30   2.258738          4.550925            2.326045\n",
      "18   34   2.068128          4.076181            2.047625\n",
      "22   40   2.124487          4.736374            2.226624\n",
      "23   36   2.005956          4.871067            2.084913\n",
      "25   28   1.890722          4.328758            2.052118\n",
      "26   31   2.144562          3.510650            2.211543\n",
      "27   42   1.898025          4.381026            1.863868\n",
      "29   37   2.394626          4.544039            2.501531\n",
      "30   24   1.997865          3.123246            2.131085\n",
      "32   25   1.948799          4.913022            1.958722\n",
      "34   43   2.211730          3.502851            2.272723\n",
      "35   27   2.031085          3.722798            2.162094\n",
      "39   33   1.814947          3.349553            1.944895\n",
      "40   28   1.778826          3.949126            1.938196\n",
      "41   41   2.070924          4.455626            2.170334\n",
      "42   29   2.054015          4.070564            2.129565\n",
      "..  ...        ...               ...                 ...\n",
      "54   26   1.825412          4.816403            1.901298\n",
      "55   24   1.635232          4.726768            1.768715\n",
      "56   37   1.777804          4.777189            1.787602\n",
      "57   22   1.618903          4.594311            1.758048\n",
      "58   55   1.384104          4.761575            1.595819\n",
      "60   23   1.592953          3.915019            1.699423\n",
      "61   33   1.734907          4.614328            1.823343\n",
      "62   31   1.759469          4.200355            1.810159\n",
      "64   23   1.613430          2.691921            1.658729\n",
      "67   21   2.052661          4.891702            2.072987\n",
      "68   31   1.988593          4.168369            2.117491\n",
      "69   29   1.804898          4.569647            1.948816\n",
      "71   26   1.596545          3.216874            1.750837\n",
      "72   43   1.589623          2.574900            1.658910\n",
      "74   29   1.849863          3.793014            1.843544\n",
      "75   26   1.628338          3.929470            1.776628\n",
      "76   35   1.773545          4.211683            1.957006\n",
      "78   27   1.572546          4.055084            1.783816\n",
      "80   27   1.622463          3.639164            1.714945\n",
      "81   22   1.433524          4.131801            1.655809\n",
      "82   24   1.531693          4.782395            1.493850\n",
      "83   34   1.860601          3.325755            1.940270\n",
      "84   36   1.820906          4.691898            1.991609\n",
      "85   27   1.673680          4.892302            1.880549\n",
      "87   35   1.695267          3.495901            1.779065\n",
      "89   30   1.654268          4.299867            1.786262\n",
      "93   21   1.400000          3.605770            1.469982\n",
      "94   20   1.359193          4.200954            1.515370\n",
      "96   30   1.476957          4.822135            1.617531\n",
      "97   21   1.251019          3.539799            1.342562\n",
      "\n",
      "[68 rows x 4 columns]\n",
      "Income_ln \t 36.98331414029262\n",
      "    Age  Income_ln  dist_home_val_ln  dist_avg_income_ln\n",
      "0    40   2.774783          4.604470            2.768379\n",
      "1    32   2.763012          3.909620            2.759777\n",
      "3    41   2.439983          2.778819            2.422644\n",
      "4    28   2.595937          4.609063            2.591252\n",
      "5    41   2.305596          4.785490            2.335271\n",
      "6    33   2.460080          3.660994            2.444610\n",
      "7    37   2.469696          4.111693            2.525000\n",
      "8    46   2.231368          4.073121            2.203125\n",
      "9    40   2.790481          5.061962            2.836542\n",
      "10   43   2.105706          4.667675            2.148808\n",
      "12   26   2.333211          4.841743            2.376813\n",
      "14   34   2.827322          4.951805            2.913817\n",
      "15   28   2.283581          4.803037            2.397536\n",
      "16   38   2.125836          3.894063            2.208610\n",
      "17   30   2.258738          4.550925            2.326045\n",
      "18   34   2.068128          4.076181            2.047625\n",
      "22   40   2.124487          4.736374            2.226624\n",
      "23   36   2.005956          4.871067            2.084913\n",
      "25   28   1.890722          4.328758            2.052118\n",
      "26   31   2.144562          3.510650            2.211543\n",
      "27   42   1.898025          4.381026            1.863868\n",
      "29   37   2.394626          4.544039            2.501531\n",
      "30   24   1.997865          3.123246            2.131085\n",
      "32   25   1.948799          4.913022            1.958722\n",
      "34   43   2.211730          3.502851            2.272723\n",
      "35   27   2.031085          3.722798            2.162094\n",
      "39   33   1.814947          3.349553            1.944895\n",
      "40   28   1.778826          3.949126            1.938196\n",
      "41   41   2.070924          4.455626            2.170334\n",
      "42   29   2.054015          4.070564            2.129565\n",
      "..  ...        ...               ...                 ...\n",
      "54   26   1.825412          4.816403            1.901298\n",
      "55   24   1.635232          4.726768            1.768715\n",
      "56   37   1.777804          4.777189            1.787602\n",
      "57   22   1.618903          4.594311            1.758048\n",
      "58   55   1.384104          4.761575            1.595819\n",
      "60   23   1.592953          3.915019            1.699423\n",
      "61   33   1.734907          4.614328            1.823343\n",
      "62   31   1.759469          4.200355            1.810159\n",
      "64   23   1.613430          2.691921            1.658729\n",
      "67   21   2.052661          4.891702            2.072987\n",
      "68   31   1.988593          4.168369            2.117491\n",
      "69   29   1.804898          4.569647            1.948816\n",
      "71   26   1.596545          3.216874            1.750837\n",
      "72   43   1.589623          2.574900            1.658910\n",
      "74   29   1.849863          3.793014            1.843544\n",
      "75   26   1.628338          3.929470            1.776628\n",
      "76   35   1.773545          4.211683            1.957006\n",
      "78   27   1.572546          4.055084            1.783816\n",
      "80   27   1.622463          3.639164            1.714945\n",
      "81   22   1.433524          4.131801            1.655809\n",
      "82   24   1.531693          4.782395            1.493850\n",
      "83   34   1.860601          3.325755            1.940270\n",
      "84   36   1.820906          4.691898            1.991609\n",
      "85   27   1.673680          4.892302            1.880549\n",
      "87   35   1.695267          3.495901            1.779065\n",
      "89   30   1.654268          4.299867            1.786262\n",
      "93   21   1.400000          3.605770            1.469982\n",
      "94   20   1.359193          4.200954            1.515370\n",
      "96   30   1.476957          4.822135            1.617531\n",
      "97   21   1.251019          3.539799            1.342562\n",
      "\n",
      "[68 rows x 4 columns]\n",
      "dist_home_val_ln \t 1.0536287165865763\n",
      "    Age  Income_ln  dist_home_val_ln  dist_avg_income_ln\n",
      "0    40   2.774783          4.604470            2.768379\n",
      "1    32   2.763012          3.909620            2.759777\n",
      "3    41   2.439983          2.778819            2.422644\n",
      "4    28   2.595937          4.609063            2.591252\n",
      "5    41   2.305596          4.785490            2.335271\n",
      "6    33   2.460080          3.660994            2.444610\n",
      "7    37   2.469696          4.111693            2.525000\n",
      "8    46   2.231368          4.073121            2.203125\n",
      "9    40   2.790481          5.061962            2.836542\n",
      "10   43   2.105706          4.667675            2.148808\n",
      "12   26   2.333211          4.841743            2.376813\n",
      "14   34   2.827322          4.951805            2.913817\n",
      "15   28   2.283581          4.803037            2.397536\n",
      "16   38   2.125836          3.894063            2.208610\n",
      "17   30   2.258738          4.550925            2.326045\n",
      "18   34   2.068128          4.076181            2.047625\n",
      "22   40   2.124487          4.736374            2.226624\n",
      "23   36   2.005956          4.871067            2.084913\n",
      "25   28   1.890722          4.328758            2.052118\n",
      "26   31   2.144562          3.510650            2.211543\n",
      "27   42   1.898025          4.381026            1.863868\n",
      "29   37   2.394626          4.544039            2.501531\n",
      "30   24   1.997865          3.123246            2.131085\n",
      "32   25   1.948799          4.913022            1.958722\n",
      "34   43   2.211730          3.502851            2.272723\n",
      "35   27   2.031085          3.722798            2.162094\n",
      "39   33   1.814947          3.349553            1.944895\n",
      "40   28   1.778826          3.949126            1.938196\n",
      "41   41   2.070924          4.455626            2.170334\n",
      "42   29   2.054015          4.070564            2.129565\n",
      "..  ...        ...               ...                 ...\n",
      "54   26   1.825412          4.816403            1.901298\n",
      "55   24   1.635232          4.726768            1.768715\n",
      "56   37   1.777804          4.777189            1.787602\n",
      "57   22   1.618903          4.594311            1.758048\n",
      "58   55   1.384104          4.761575            1.595819\n",
      "60   23   1.592953          3.915019            1.699423\n",
      "61   33   1.734907          4.614328            1.823343\n",
      "62   31   1.759469          4.200355            1.810159\n",
      "64   23   1.613430          2.691921            1.658729\n",
      "67   21   2.052661          4.891702            2.072987\n",
      "68   31   1.988593          4.168369            2.117491\n",
      "69   29   1.804898          4.569647            1.948816\n",
      "71   26   1.596545          3.216874            1.750837\n",
      "72   43   1.589623          2.574900            1.658910\n",
      "74   29   1.849863          3.793014            1.843544\n",
      "75   26   1.628338          3.929470            1.776628\n",
      "76   35   1.773545          4.211683            1.957006\n",
      "78   27   1.572546          4.055084            1.783816\n",
      "80   27   1.622463          3.639164            1.714945\n",
      "81   22   1.433524          4.131801            1.655809\n",
      "82   24   1.531693          4.782395            1.493850\n",
      "83   34   1.860601          3.325755            1.940270\n",
      "84   36   1.820906          4.691898            1.991609\n",
      "85   27   1.673680          4.892302            1.880549\n",
      "87   35   1.695267          3.495901            1.779065\n",
      "89   30   1.654268          4.299867            1.786262\n",
      "93   21   1.400000          3.605770            1.469982\n",
      "94   20   1.359193          4.200954            1.515370\n",
      "96   30   1.476957          4.822135            1.617531\n",
      "97   21   1.251019          3.539799            1.342562\n",
      "\n",
      "[68 rows x 4 columns]\n",
      "dist_avg_income_ln \t 36.92286614125582\n"
     ]
    }
   ],
   "source": [
    "exog = exp2[['Age', 'Income_ln', 'dist_home_val_ln',\n",
    "             'dist_avg_income_ln']]\n",
    "\n",
    "for i in exog.columns:\n",
    "    print(exog)\n",
    "    print(i, '\\t', vif(df=exog, col_i=i))\n",
    "    \n",
    "#Income_ln \t 36.98331414029262   和dist_avg_income_ln \t 36.92286614125582 多重共线性"
   ]
  },
  {
   "cell_type": "markdown",
   "metadata": {},
   "source": [
    "Income_ln与dist_avg_income_ln具有共线性，使用“高出平均收入的比率”代替其中一个"
   ]
  },
  {
   "cell_type": "code",
   "execution_count": 92,
   "metadata": {},
   "outputs": [],
   "source": [
    "exp2['high_avg_ratio'] = exp2['high_avg'] / exp2['dist_avg_income']"
   ]
  },
  {
   "cell_type": "code",
   "execution_count": 93,
   "metadata": {},
   "outputs": [
    {
     "name": "stdout",
     "output_type": "stream",
     "text": [
      "Age \t 1.1707655829292056\n",
      "high_avg_ratio \t 1.1347192500556706\n",
      "dist_home_val_ln \t 1.0527329388079927\n",
      "dist_avg_income_ln \t 1.308904149355328\n"
     ]
    }
   ],
   "source": [
    "exog1 = exp2[['Age', 'high_avg_ratio', 'dist_home_val_ln', \n",
    "              'dist_avg_income_ln']]\n",
    "\n",
    "for i in exog1.columns:\n",
    "    print(i, '\\t', vif(df=exog1, col_i=i))"
   ]
  },
  {
   "cell_type": "code",
   "execution_count": 94,
   "metadata": {},
   "outputs": [
    {
     "name": "stdout",
     "output_type": "stream",
     "text": [
      "aic is 23.816793700737392,continuing!\n",
      "aic is 20.83095227956072,continuing!\n",
      "forward selection over!\n",
      "final formula is avg_exp_ln ~ dist_avg_income_ln + dist_home_val_ln \n",
      "0.5520397736845983\n"
     ]
    }
   ],
   "source": [
    "var_select = exp2[['avg_exp_ln', 'Age', 'high_avg_ratio', \n",
    "                   'dist_home_val_ln', 'dist_avg_income_ln']]\n",
    "ana7 = forward_select(data=var_select, response='avg_exp_ln')\n",
    "print(ana7.rsquared)"
   ]
  },
  {
   "cell_type": "code",
   "execution_count": 95,
   "metadata": {},
   "outputs": [
    {
     "data": {
      "text/plain": [
       "0     1\n",
       "1     1\n",
       "3     1\n",
       "4     1\n",
       "5     0\n",
       "6     1\n",
       "7     1\n",
       "8     1\n",
       "9     1\n",
       "10    1\n",
       "12    1\n",
       "14    0\n",
       "15    1\n",
       "16    1\n",
       "17    0\n",
       "18    1\n",
       "22    1\n",
       "23    0\n",
       "25    0\n",
       "26    1\n",
       "27    0\n",
       "29    1\n",
       "30    0\n",
       "32    0\n",
       "34    1\n",
       "35    0\n",
       "39    0\n",
       "40    0\n",
       "41    1\n",
       "42    0\n",
       "     ..\n",
       "54    0\n",
       "55    0\n",
       "56    0\n",
       "57    0\n",
       "58    1\n",
       "60    0\n",
       "61    0\n",
       "62    0\n",
       "64    0\n",
       "67    1\n",
       "68    1\n",
       "69    1\n",
       "71    0\n",
       "72    0\n",
       "74    1\n",
       "75    0\n",
       "76    1\n",
       "78    0\n",
       "80    0\n",
       "81    0\n",
       "82    0\n",
       "83    1\n",
       "84    0\n",
       "85    0\n",
       "87    1\n",
       "89    0\n",
       "93    0\n",
       "94    0\n",
       "96    0\n",
       "97    0\n",
       "Name: Ownrent, Length: 68, dtype: int64"
      ]
     },
     "execution_count": 95,
     "metadata": {},
     "output_type": "execute_result"
    }
   ],
   "source": [
    "#租房还是买房,离散变量没有加入到上面模型中\n",
    "exp2.Ownrent"
   ]
  },
  {
   "cell_type": "code",
   "execution_count": 96,
   "metadata": {
    "scrolled": false
   },
   "outputs": [
    {
     "data": {
      "text/html": [
       "<table class=\"simpletable\">\n",
       "<caption>OLS Regression Results</caption>\n",
       "<tr>\n",
       "  <th>Dep. Variable:</th>       <td>avg_exp_ln</td>    <th>  R-squared:         </th> <td>   0.873</td>\n",
       "</tr>\n",
       "<tr>\n",
       "  <th>Model:</th>                   <td>OLS</td>       <th>  Adj. R-squared:    </th> <td>   0.858</td>\n",
       "</tr>\n",
       "<tr>\n",
       "  <th>Method:</th>             <td>Least Squares</td>  <th>  F-statistic:       </th> <td>   58.71</td>\n",
       "</tr>\n",
       "<tr>\n",
       "  <th>Date:</th>             <td>Thu, 08 Nov 2018</td> <th>  Prob (F-statistic):</th> <td>1.75e-24</td>\n",
       "</tr>\n",
       "<tr>\n",
       "  <th>Time:</th>                 <td>15:27:57</td>     <th>  Log-Likelihood:    </th> <td>  35.337</td>\n",
       "</tr>\n",
       "<tr>\n",
       "  <th>No. Observations:</th>      <td>    68</td>      <th>  AIC:               </th> <td>  -54.67</td>\n",
       "</tr>\n",
       "<tr>\n",
       "  <th>Df Residuals:</th>          <td>    60</td>      <th>  BIC:               </th> <td>  -36.92</td>\n",
       "</tr>\n",
       "<tr>\n",
       "  <th>Df Model:</th>              <td>     7</td>      <th>                     </th>     <td> </td>   \n",
       "</tr>\n",
       "<tr>\n",
       "  <th>Covariance Type:</th>      <td>nonrobust</td>    <th>                     </th>     <td> </td>   \n",
       "</tr>\n",
       "</table>\n",
       "<table class=\"simpletable\">\n",
       "<tr>\n",
       "           <td></td>             <th>coef</th>     <th>std err</th>      <th>t</th>      <th>P>|t|</th>  <th>[0.025</th>    <th>0.975]</th>  \n",
       "</tr>\n",
       "<tr>\n",
       "  <th>Intercept</th>          <td>    4.5520</td> <td>    0.212</td> <td>   21.471</td> <td> 0.000</td> <td>    4.128</td> <td>    4.976</td>\n",
       "</tr>\n",
       "<tr>\n",
       "  <th>C(gender)[T.1]</th>     <td>   -0.4301</td> <td>    0.060</td> <td>   -7.200</td> <td> 0.000</td> <td>   -0.550</td> <td>   -0.311</td>\n",
       "</tr>\n",
       "<tr>\n",
       "  <th>C(Ownrent)[T.1]</th>    <td>    0.0184</td> <td>    0.045</td> <td>    0.413</td> <td> 0.681</td> <td>   -0.071</td> <td>    0.107</td>\n",
       "</tr>\n",
       "<tr>\n",
       "  <th>C(Selfempl)[T.1]</th>   <td>   -0.3805</td> <td>    0.119</td> <td>   -3.210</td> <td> 0.002</td> <td>   -0.618</td> <td>   -0.143</td>\n",
       "</tr>\n",
       "<tr>\n",
       "  <th>C(edu_class)[T.2]</th>  <td>    0.2895</td> <td>    0.051</td> <td>    5.658</td> <td> 0.000</td> <td>    0.187</td> <td>    0.392</td>\n",
       "</tr>\n",
       "<tr>\n",
       "  <th>C(edu_class)[T.3]</th>  <td>    0.4686</td> <td>    0.060</td> <td>    7.867</td> <td> 0.000</td> <td>    0.349</td> <td>    0.588</td>\n",
       "</tr>\n",
       "<tr>\n",
       "  <th>dist_avg_income_ln</th> <td>    0.9563</td> <td>    0.098</td> <td>    9.722</td> <td> 0.000</td> <td>    0.760</td> <td>    1.153</td>\n",
       "</tr>\n",
       "<tr>\n",
       "  <th>dist_home_val_ln</th>   <td>    0.0522</td> <td>    0.034</td> <td>    1.518</td> <td> 0.134</td> <td>   -0.017</td> <td>    0.121</td>\n",
       "</tr>\n",
       "</table>\n",
       "<table class=\"simpletable\">\n",
       "<tr>\n",
       "  <th>Omnibus:</th>       <td> 3.788</td> <th>  Durbin-Watson:     </th> <td>   2.129</td>\n",
       "</tr>\n",
       "<tr>\n",
       "  <th>Prob(Omnibus):</th> <td> 0.150</td> <th>  Jarque-Bera (JB):  </th> <td>   4.142</td>\n",
       "</tr>\n",
       "<tr>\n",
       "  <th>Skew:</th>          <td> 0.020</td> <th>  Prob(JB):          </th> <td>   0.126</td>\n",
       "</tr>\n",
       "<tr>\n",
       "  <th>Kurtosis:</th>      <td> 4.208</td> <th>  Cond. No.          </th> <td>    60.2</td>\n",
       "</tr>\n",
       "</table>"
      ],
      "text/plain": [
       "<class 'statsmodels.iolib.summary.Summary'>\n",
       "\"\"\"\n",
       "                            OLS Regression Results                            \n",
       "==============================================================================\n",
       "Dep. Variable:             avg_exp_ln   R-squared:                       0.873\n",
       "Model:                            OLS   Adj. R-squared:                  0.858\n",
       "Method:                 Least Squares   F-statistic:                     58.71\n",
       "Date:                Thu, 08 Nov 2018   Prob (F-statistic):           1.75e-24\n",
       "Time:                        15:27:57   Log-Likelihood:                 35.337\n",
       "No. Observations:                  68   AIC:                            -54.67\n",
       "Df Residuals:                      60   BIC:                            -36.92\n",
       "Df Model:                           7                                         \n",
       "Covariance Type:            nonrobust                                         \n",
       "======================================================================================\n",
       "                         coef    std err          t      P>|t|      [0.025      0.975]\n",
       "--------------------------------------------------------------------------------------\n",
       "Intercept              4.5520      0.212     21.471      0.000       4.128       4.976\n",
       "C(gender)[T.1]        -0.4301      0.060     -7.200      0.000      -0.550      -0.311\n",
       "C(Ownrent)[T.1]        0.0184      0.045      0.413      0.681      -0.071       0.107\n",
       "C(Selfempl)[T.1]      -0.3805      0.119     -3.210      0.002      -0.618      -0.143\n",
       "C(edu_class)[T.2]      0.2895      0.051      5.658      0.000       0.187       0.392\n",
       "C(edu_class)[T.3]      0.4686      0.060      7.867      0.000       0.349       0.588\n",
       "dist_avg_income_ln     0.9563      0.098      9.722      0.000       0.760       1.153\n",
       "dist_home_val_ln       0.0522      0.034      1.518      0.134      -0.017       0.121\n",
       "==============================================================================\n",
       "Omnibus:                        3.788   Durbin-Watson:                   2.129\n",
       "Prob(Omnibus):                  0.150   Jarque-Bera (JB):                4.142\n",
       "Skew:                           0.020   Prob(JB):                        0.126\n",
       "Kurtosis:                       4.208   Cond. No.                         60.2\n",
       "==============================================================================\n",
       "\n",
       "Warnings:\n",
       "[1] Standard Errors assume that the covariance matrix of the errors is correctly specified.\n",
       "\"\"\""
      ]
     },
     "execution_count": 96,
     "metadata": {},
     "output_type": "execute_result"
    }
   ],
   "source": [
    "#C 离散\n",
    "formula8 = '''\n",
    "avg_exp_ln ~ dist_avg_income_ln + dist_home_val_ln + \n",
    "C(gender) + C(Ownrent) + C(Selfempl) + C(edu_class)\n",
    "'''\n",
    "ana8 = ols(formula8, exp2).fit()\n",
    "ana8.summary()\n",
    "\n",
    "# C(gender)[T.1] "
   ]
  },
  {
   "cell_type": "code",
   "execution_count": 97,
   "metadata": {},
   "outputs": [
    {
     "data": {
      "text/html": [
       "<table class=\"simpletable\">\n",
       "<caption>OLS Regression Results</caption>\n",
       "<tr>\n",
       "  <th>Dep. Variable:</th>       <td>avg_exp_ln</td>    <th>  R-squared:         </th> <td>   0.914</td>\n",
       "</tr>\n",
       "<tr>\n",
       "  <th>Model:</th>                   <td>OLS</td>       <th>  Adj. R-squared:    </th> <td>   0.902</td>\n",
       "</tr>\n",
       "<tr>\n",
       "  <th>Method:</th>             <td>Least Squares</td>  <th>  F-statistic:       </th> <td>   78.50</td>\n",
       "</tr>\n",
       "<tr>\n",
       "  <th>Date:</th>             <td>Thu, 08 Nov 2018</td> <th>  Prob (F-statistic):</th> <td>1.42e-28</td>\n",
       "</tr>\n",
       "<tr>\n",
       "  <th>Time:</th>                 <td>15:27:57</td>     <th>  Log-Likelihood:    </th> <td>  48.743</td>\n",
       "</tr>\n",
       "<tr>\n",
       "  <th>No. Observations:</th>      <td>    68</td>      <th>  AIC:               </th> <td>  -79.49</td>\n",
       "</tr>\n",
       "<tr>\n",
       "  <th>Df Residuals:</th>          <td>    59</td>      <th>  BIC:               </th> <td>  -59.51</td>\n",
       "</tr>\n",
       "<tr>\n",
       "  <th>Df Model:</th>              <td>     8</td>      <th>                     </th>     <td> </td>   \n",
       "</tr>\n",
       "<tr>\n",
       "  <th>Covariance Type:</th>      <td>nonrobust</td>    <th>                     </th>     <td> </td>   \n",
       "</tr>\n",
       "</table>\n",
       "<table class=\"simpletable\">\n",
       "<tr>\n",
       "                  <td></td>                    <th>coef</th>     <th>std err</th>      <th>t</th>      <th>P>|t|</th>  <th>[0.025</th>    <th>0.975]</th>  \n",
       "</tr>\n",
       "<tr>\n",
       "  <th>Intercept</th>                        <td>    4.4098</td> <td>    0.178</td> <td>   24.839</td> <td> 0.000</td> <td>    4.055</td> <td>    4.765</td>\n",
       "</tr>\n",
       "<tr>\n",
       "  <th>C(Selfempl)[T.1]</th>                 <td>   -0.2945</td> <td>    0.101</td> <td>   -2.908</td> <td> 0.005</td> <td>   -0.497</td> <td>   -0.092</td>\n",
       "</tr>\n",
       "<tr>\n",
       "  <th>C(gender)[T.1]</th>                   <td>   -0.0054</td> <td>    0.098</td> <td>   -0.055</td> <td> 0.956</td> <td>   -0.201</td> <td>    0.190</td>\n",
       "</tr>\n",
       "<tr>\n",
       "  <th>C(edu_class)[T.2]</th>                <td>    0.3164</td> <td>    0.045</td> <td>    7.012</td> <td> 0.000</td> <td>    0.226</td> <td>    0.407</td>\n",
       "</tr>\n",
       "<tr>\n",
       "  <th>C(edu_class)[T.3]</th>                <td>    0.5576</td> <td>    0.054</td> <td>   10.268</td> <td> 0.000</td> <td>    0.449</td> <td>    0.666</td>\n",
       "</tr>\n",
       "<tr>\n",
       "  <th>C(gender)[T.1]:C(edu_class)[T.2]</th> <td>   -0.4304</td> <td>    0.111</td> <td>   -3.865</td> <td> 0.000</td> <td>   -0.653</td> <td>   -0.208</td>\n",
       "</tr>\n",
       "<tr>\n",
       "  <th>C(gender)[T.1]:C(edu_class)[T.3]</th> <td>   -0.5948</td> <td>    0.111</td> <td>   -5.362</td> <td> 0.000</td> <td>   -0.817</td> <td>   -0.373</td>\n",
       "</tr>\n",
       "<tr>\n",
       "  <th>dist_avg_income_ln</th>               <td>    0.9893</td> <td>    0.078</td> <td>   12.700</td> <td> 0.000</td> <td>    0.833</td> <td>    1.145</td>\n",
       "</tr>\n",
       "<tr>\n",
       "  <th>dist_home_val_ln</th>                 <td>    0.0654</td> <td>    0.029</td> <td>    2.278</td> <td> 0.026</td> <td>    0.008</td> <td>    0.123</td>\n",
       "</tr>\n",
       "</table>\n",
       "<table class=\"simpletable\">\n",
       "<tr>\n",
       "  <th>Omnibus:</th>       <td> 5.023</td> <th>  Durbin-Watson:     </th> <td>   1.722</td>\n",
       "</tr>\n",
       "<tr>\n",
       "  <th>Prob(Omnibus):</th> <td> 0.081</td> <th>  Jarque-Bera (JB):  </th> <td>   5.070</td>\n",
       "</tr>\n",
       "<tr>\n",
       "  <th>Skew:</th>          <td>-0.328</td> <th>  Prob(JB):          </th> <td>  0.0793</td>\n",
       "</tr>\n",
       "<tr>\n",
       "  <th>Kurtosis:</th>      <td> 4.166</td> <th>  Cond. No.          </th> <td>    61.1</td>\n",
       "</tr>\n",
       "</table>"
      ],
      "text/plain": [
       "<class 'statsmodels.iolib.summary.Summary'>\n",
       "\"\"\"\n",
       "                            OLS Regression Results                            \n",
       "==============================================================================\n",
       "Dep. Variable:             avg_exp_ln   R-squared:                       0.914\n",
       "Model:                            OLS   Adj. R-squared:                  0.902\n",
       "Method:                 Least Squares   F-statistic:                     78.50\n",
       "Date:                Thu, 08 Nov 2018   Prob (F-statistic):           1.42e-28\n",
       "Time:                        15:27:57   Log-Likelihood:                 48.743\n",
       "No. Observations:                  68   AIC:                            -79.49\n",
       "Df Residuals:                      59   BIC:                            -59.51\n",
       "Df Model:                           8                                         \n",
       "Covariance Type:            nonrobust                                         \n",
       "====================================================================================================\n",
       "                                       coef    std err          t      P>|t|      [0.025      0.975]\n",
       "----------------------------------------------------------------------------------------------------\n",
       "Intercept                            4.4098      0.178     24.839      0.000       4.055       4.765\n",
       "C(Selfempl)[T.1]                    -0.2945      0.101     -2.908      0.005      -0.497      -0.092\n",
       "C(gender)[T.1]                      -0.0054      0.098     -0.055      0.956      -0.201       0.190\n",
       "C(edu_class)[T.2]                    0.3164      0.045      7.012      0.000       0.226       0.407\n",
       "C(edu_class)[T.3]                    0.5576      0.054     10.268      0.000       0.449       0.666\n",
       "C(gender)[T.1]:C(edu_class)[T.2]    -0.4304      0.111     -3.865      0.000      -0.653      -0.208\n",
       "C(gender)[T.1]:C(edu_class)[T.3]    -0.5948      0.111     -5.362      0.000      -0.817      -0.373\n",
       "dist_avg_income_ln                   0.9893      0.078     12.700      0.000       0.833       1.145\n",
       "dist_home_val_ln                     0.0654      0.029      2.278      0.026       0.008       0.123\n",
       "==============================================================================\n",
       "Omnibus:                        5.023   Durbin-Watson:                   1.722\n",
       "Prob(Omnibus):                  0.081   Jarque-Bera (JB):                5.070\n",
       "Skew:                          -0.328   Prob(JB):                       0.0793\n",
       "Kurtosis:                       4.166   Cond. No.                         61.1\n",
       "==============================================================================\n",
       "\n",
       "Warnings:\n",
       "[1] Standard Errors assume that the covariance matrix of the errors is correctly specified.\n",
       "\"\"\""
      ]
     },
     "execution_count": 97,
     "metadata": {},
     "output_type": "execute_result"
    }
   ],
   "source": [
    "#(gender)*C(edu_class) 离散变量交叉项C    男高中生\\女高中生\\男大学生\\等等...\n",
    "formula9 = '''\n",
    "avg_exp_ln ~ dist_avg_income_ln + dist_home_val_ln + \n",
    "C(Selfempl) + C(gender)*C(edu_class)\n",
    "'''\n",
    "ana9 = ols(formula9, exp2).fit()\n",
    "ana9.summary()"
   ]
  },
  {
   "cell_type": "markdown",
   "metadata": {},
   "source": [
    "## 正则算法\n",
    "### 岭回归"
   ]
  },
  {
   "cell_type": "code",
   "execution_count": 98,
   "metadata": {},
   "outputs": [
    {
     "data": {
      "text/plain": [
       "Index(['avg_exp', 'avg_exp_ln', 'gender', 'Age', 'Income', 'Ownrent',\n",
       "       'Selfempl', 'dist_home_val', 'dist_avg_income', 'high_avg', 'edu_class',\n",
       "       'Pred', 'resid', 'Income_ln', 'resid_t'],\n",
       "      dtype='object')"
      ]
     },
     "execution_count": 98,
     "metadata": {},
     "output_type": "execute_result"
    }
   ],
   "source": [
    "exp.columns"
   ]
  },
  {
   "cell_type": "code",
   "execution_count": 99,
   "metadata": {},
   "outputs": [],
   "source": [
    "#L1_wt=0 L1正则不是,那么是L2正则\n",
    "# fit_regularized 正则\n",
    "lmr = ols('avg_exp ~ Income + dist_home_val + dist_avg_income',\n",
    "          data=exp).fit_regularized(alpha=1, L1_wt=0)\n",
    "\n",
    "# print(lmr.summary2())\n",
    "# L1_wt参数为0则使用岭回归，为1使用lasso\n",
    "\n",
    "lmr.predict(exp_new)\n",
    "lmr.summary()"
   ]
  },
  {
   "cell_type": "markdown",
   "metadata": {},
   "source": [
    "### LASSO算法"
   ]
  },
  {
   "cell_type": "code",
   "execution_count": 100,
   "metadata": {},
   "outputs": [],
   "source": [
    "#L1_wt=1 L1正则\n",
    "lmr1 = ols('avg_exp ~ Age + Income + dist_home_val + dist_avg_income',\n",
    "           data=exp).fit_regularized(alpha=1, L1_wt=1)\n",
    "lmr1.summary()"
   ]
  },
  {
   "cell_type": "markdown",
   "metadata": {},
   "source": [
    "### 使用scikit-learn进行正则化参数调优"
   ]
  },
  {
   "cell_type": "code",
   "execution_count": 101,
   "metadata": {},
   "outputs": [],
   "source": [
    "#\n",
    "from sklearn.preprocessing import StandardScaler\n",
    "\n",
    "continuous_xcols = ['Age', 'Income', 'dist_home_val', \n",
    "                    'dist_avg_income']   #  抽取连续变量\n",
    "scaler = StandardScaler()  # 标准化\n",
    "#(x-u)/s\n",
    "X = scaler.fit_transform(exp[continuous_xcols])\n",
    "y = exp['avg_exp_ln']"
   ]
  },
  {
   "cell_type": "code",
   "execution_count": 102,
   "metadata": {},
   "outputs": [
    {
     "data": {
      "text/plain": [
       "RidgeCV(alphas=array([1.00000e-02, 1.12332e-02, ..., 8.90215e+02, 1.00000e+03]),\n",
       "    cv=None, fit_intercept=True, gcv_mode=None, normalize=False,\n",
       "    scoring=None, store_cv_values=True)"
      ]
     },
     "execution_count": 102,
     "metadata": {},
     "output_type": "execute_result"
    }
   ],
   "source": [
    "#交叉验证\n",
    "from sklearn.linear_model import RidgeCV\n",
    "\n",
    "alphas = np.logspace(-2, 3, 100, base=10)\n",
    "\n",
    "# Search the min MSE by CV\n",
    "rcv = RidgeCV(alphas=alphas, store_cv_values=True) \n",
    "rcv.fit(X, y)"
   ]
  },
  {
   "cell_type": "code",
   "execution_count": 103,
   "metadata": {},
   "outputs": [
    {
     "name": "stdout",
     "output_type": "stream",
     "text": [
      "The best alpha is 0.2915053062825176\n",
      "The r-square is 0.47568267770195016\n"
     ]
    }
   ],
   "source": [
    "#最优alpha\n",
    "#r-square\n",
    "print('The best alpha is {}'.format(rcv.alpha_))\n",
    "print('The r-square is {}'.format(rcv.score(X, y))) \n",
    "# Default score is rsquared"
   ]
  },
  {
   "cell_type": "code",
   "execution_count": 104,
   "metadata": {},
   "outputs": [
    {
     "data": {
      "text/plain": [
       "array([759.67677561, 606.74024213, 661.20654568, 681.888929  ,\n",
       "       641.06967182])"
      ]
     },
     "execution_count": 104,
     "metadata": {},
     "output_type": "execute_result"
    }
   ],
   "source": [
    "#新数据\n",
    "X_new = scaler.transform(exp_new[continuous_xcols])\n",
    "#预测\n",
    "#np.exp 还原(之前取对数)\n",
    "np.exp(rcv.predict(X_new)[:5])"
   ]
  },
  {
   "cell_type": "code",
   "execution_count": 105,
   "metadata": {},
   "outputs": [
    {
     "data": {
      "image/png": "[encoded data removed]",
      "text/plain": [
       "<Figure size 432x288 with 1 Axes>"
      ]
     },
     "metadata": {
      "needs_background": "light"
     },
     "output_type": "display_data"
    }
   ],
   "source": [
    "cv_values = rcv.cv_values_\n",
    "n_fold, n_alphas = cv_values.shape\n",
    "\n",
    "cv_mean = cv_values.mean(axis=0)\n",
    "cv_std = cv_values.std(axis=0)\n",
    "ub = cv_mean + cv_std / np.sqrt(n_fold)\n",
    "lb = cv_mean - cv_std / np.sqrt(n_fold)\n",
    "\n",
    "plt.semilogx(alphas, cv_mean, label='mean_score')\n",
    "plt.fill_between(alphas, lb, ub, alpha=0.2)\n",
    "plt.xlabel(\"$\\\\alpha$\")\n",
    "plt.ylabel(\"mean squared errors\")\n",
    "plt.legend(loc=\"best\")\n",
    "plt.show()\n",
    "#损失"
   ]
  },
  {
   "cell_type": "code",
   "execution_count": 106,
   "metadata": {},
   "outputs": [
    {
     "data": {
      "text/plain": [
       "array([ 0.03321449, -0.30956185,  0.05551208,  0.59067449])"
      ]
     },
     "execution_count": 106,
     "metadata": {},
     "output_type": "execute_result"
    }
   ],
   "source": [
    "rcv.coef_"
   ]
  },
  {
   "cell_type": "markdown",
   "metadata": {},
   "source": [
    "手动选择正则化系数——根据业务判断"
   ]
  },
  {
   "cell_type": "markdown",
   "metadata": {},
   "source": [
    "岭迹图"
   ]
  },
  {
   "cell_type": "code",
   "execution_count": 120,
   "metadata": {},
   "outputs": [
    {
     "name": "stdout",
     "output_type": "stream",
     "text": [
      "[1.00000000e-02 1.12332403e-02 1.26185688e-02 1.41747416e-02\n",
      " 1.59228279e-02 1.78864953e-02 2.00923300e-02 2.25701972e-02\n",
      " 2.53536449e-02 2.84803587e-02 3.19926714e-02 3.59381366e-02\n",
      " 4.03701726e-02 4.53487851e-02 5.09413801e-02 5.72236766e-02\n",
      " 6.42807312e-02 7.22080902e-02 8.11130831e-02 9.11162756e-02\n",
      " 1.02353102e-01 1.14975700e-01 1.29154967e-01 1.45082878e-01\n",
      " 1.62975083e-01 1.83073828e-01 2.05651231e-01 2.31012970e-01\n",
      " 2.59502421e-01 2.91505306e-01 3.27454916e-01 3.67837977e-01\n",
      " 4.13201240e-01 4.64158883e-01 5.21400829e-01 5.85702082e-01\n",
      " 6.57933225e-01 7.39072203e-01 8.30217568e-01 9.32603347e-01\n",
      " 1.04761575e+00 1.17681195e+00 1.32194115e+00 1.48496826e+00\n",
      " 1.66810054e+00 1.87381742e+00 2.10490414e+00 2.36448941e+00\n",
      " 2.65608778e+00 2.98364724e+00 3.35160265e+00 3.76493581e+00\n",
      " 4.22924287e+00 4.75081016e+00 5.33669923e+00 5.99484250e+00\n",
      " 6.73415066e+00 7.56463328e+00 8.49753436e+00 9.54548457e+00\n",
      " 1.07226722e+01 1.20450354e+01 1.35304777e+01 1.51991108e+01\n",
      " 1.70735265e+01 1.91791026e+01 2.15443469e+01 2.42012826e+01\n",
      " 2.71858824e+01 3.05385551e+01 3.43046929e+01 3.85352859e+01\n",
      " 4.32876128e+01 4.86260158e+01 5.46227722e+01 6.13590727e+01\n",
      " 6.89261210e+01 7.74263683e+01 8.69749003e+01 9.77009957e+01\n",
      " 1.09749877e+02 1.23284674e+02 1.38488637e+02 1.55567614e+02\n",
      " 1.74752840e+02 1.96304065e+02 2.20513074e+02 2.47707636e+02\n",
      " 2.78255940e+02 3.12571585e+02 3.51119173e+02 3.94420606e+02\n",
      " 4.43062146e+02 4.97702356e+02 5.59081018e+02 6.28029144e+02\n",
      " 7.05480231e+02 7.92482898e+02 8.90215085e+02 1.00000000e+03]\n"
     ]
    }
   ],
   "source": [
    "#查看岭迹图 选择参数\n",
    "#linear_model线性模型\n",
    "from sklearn.linear_model import Ridge\n",
    "#生成estimater\n",
    "ridge = Ridge()\n",
    "print(alphas)\n",
    "coefs = []\n",
    "for alpha in alphas:\n",
    "    ridge.set_params(alpha=alpha)\n",
    "    #传入数据 生成 transformer\n",
    "    ridge.fit(X, y)\n",
    "    coefs.append(ridge.coef_)"
   ]
  },
  {
   "cell_type": "code",
   "execution_count": 108,
   "metadata": {},
   "outputs": [
    {
     "data": {
      "image/png": "[encoded data removed]",
      "text/plain": [
       "<Figure size 432x288 with 1 Axes>"
      ]
     },
     "metadata": {
      "needs_background": "light"
     },
     "output_type": "display_data"
    }
   ],
   "source": [
    "ax = plt.gca()\n",
    "\n",
    "ax.plot(alphas, coefs)\n",
    "ax.set_xscale('log')\n",
    "plt.xlabel('alpha')\n",
    "plt.ylabel('weights')\n",
    "plt.title('Ridge coefficients as a function of the regularization')\n",
    "plt.axis('tight')\n",
    "plt.show()"
   ]
  },
  {
   "cell_type": "code",
   "execution_count": 109,
   "metadata": {},
   "outputs": [
    {
     "data": {
      "text/plain": [
       "array([ 0.03322236, -0.31025822,  0.05550095,  0.59137388])"
      ]
     },
     "execution_count": 109,
     "metadata": {},
     "output_type": "execute_result"
    }
   ],
   "source": [
    "ridge.set_params(alpha=0.29)\n",
    "ridge.fit(X, y)\n",
    "ridge.coef_"
   ]
  },
  {
   "cell_type": "code",
   "execution_count": 110,
   "metadata": {},
   "outputs": [
    {
     "data": {
      "text/plain": [
       "0.47570606320970166"
      ]
     },
     "execution_count": 110,
     "metadata": {},
     "output_type": "execute_result"
    }
   ],
   "source": [
    "ridge.score(X, y)"
   ]
  },
  {
   "cell_type": "markdown",
   "metadata": {},
   "source": [
    "预测"
   ]
  },
  {
   "cell_type": "code",
   "execution_count": 111,
   "metadata": {},
   "outputs": [
    {
     "data": {
      "text/plain": [
       "array([759.41895475, 606.60026138, 661.19740358, 681.83830832,\n",
       "       641.070022  ])"
      ]
     },
     "execution_count": 111,
     "metadata": {},
     "output_type": "execute_result"
    }
   ],
   "source": [
    "np.exp(ridge.predict(X_new)[:5])"
   ]
  },
  {
   "cell_type": "markdown",
   "metadata": {},
   "source": [
    "lasso"
   ]
  },
  {
   "cell_type": "code",
   "execution_count": 112,
   "metadata": {},
   "outputs": [
    {
     "name": "stdout",
     "output_type": "stream",
     "text": [
      "The best alpha is 0.04037017258596556\n",
      "The r-square is 0.4426451069862233\n"
     ]
    }
   ],
   "source": [
    "from sklearn.linear_model import LassoCV\n",
    "\n",
    "lasso_alphas = np.logspace(-3, 0, 100, base=10)\n",
    "#初始化\n",
    "lcv = LassoCV(alphas=lasso_alphas, cv=10) # Search the min MSE by CV\n",
    "lcv.fit(X, y)\n",
    "\n",
    "print('The best alpha is {}'.format(lcv.alpha_))\n",
    "print('The r-square is {}'.format(lcv.score(X, y))) \n",
    "# Default score is rsquared"
   ]
  },
  {
   "cell_type": "code",
   "execution_count": 113,
   "metadata": {},
   "outputs": [],
   "source": [
    "from sklearn.linear_model import Lasso\n",
    "\n",
    "lasso = Lasso()\n",
    "lasso_coefs = []\n",
    "for alpha in lasso_alphas:\n",
    "    lasso.set_params(alpha=alpha)\n",
    "    lasso.fit(X, y)\n",
    "    lasso_coefs.append(lasso.coef_)"
   ]
  },
  {
   "cell_type": "code",
   "execution_count": 114,
   "metadata": {},
   "outputs": [
    {
     "data": {
      "image/png": "[encoded data removed]",
      "text/plain": [
       "<Figure size 432x288 with 1 Axes>"
      ]
     },
     "metadata": {
      "needs_background": "light"
     },
     "output_type": "display_data"
    }
   ],
   "source": [
    "ax = plt.gca()\n",
    "\n",
    "ax.plot(lasso_alphas, lasso_coefs)\n",
    "ax.set_xscale('log')\n",
    "plt.xlabel('alpha')\n",
    "plt.ylabel('weights')\n",
    "plt.title('Lasso coefficients as a function of the regularization')\n",
    "plt.axis('tight')\n",
    "plt.show()"
   ]
  },
  {
   "cell_type": "code",
   "execution_count": 115,
   "metadata": {},
   "outputs": [
    {
     "data": {
      "text/plain": [
       "array([0.        , 0.        , 0.02789489, 0.26549855])"
      ]
     },
     "execution_count": 115,
     "metadata": {},
     "output_type": "execute_result"
    }
   ],
   "source": [
    "lcv.coef_"
   ]
  },
  {
   "cell_type": "markdown",
   "metadata": {},
   "source": [
    "弹性网络"
   ]
  },
  {
   "cell_type": "code",
   "execution_count": 116,
   "metadata": {},
   "outputs": [
    {
     "data": {
      "text/plain": [
       "ElasticNetCV(alphas=None, copy_X=True, cv=None, eps=0.001, fit_intercept=True,\n",
       "       l1_ratio=[0.01, 0.1, 0.5, 0.7, 0.9, 0.95, 0.99, 1], max_iter=1000,\n",
       "       n_alphas=100, n_jobs=1, normalize=False, positive=False,\n",
       "       precompute='auto', random_state=None, selection='cyclic',\n",
       "       tol=0.0001, verbose=0)"
      ]
     },
     "execution_count": 116,
     "metadata": {},
     "output_type": "execute_result"
    }
   ],
   "source": [
    "from sklearn.linear_model import ElasticNetCV\n",
    "\n",
    "l1_ratio = [0.01, .1, .5, .7, .9, .95, .99, 1]\n",
    "\n",
    "encv = ElasticNetCV(l1_ratio=l1_ratio)\n",
    "encv.fit(X, y)"
   ]
  },
  {
   "cell_type": "code",
   "execution_count": 117,
   "metadata": {},
   "outputs": [
    {
     "name": "stdout",
     "output_type": "stream",
     "text": [
      "The best l1_ratio is 0.01\n",
      "The best alpha is 1.0998728529638144\n"
     ]
    }
   ],
   "source": [
    "print('The best l1_ratio is {}'.format(encv.l1_ratio_))\n",
    "print('The best alpha is {}'.format(encv.alpha_))\n",
    "#L1 的系数占用的比例"
   ]
  }
 ],
 "metadata": {
  "anaconda-cloud": {},
  "kernelspec": {
   "display_name": "Python 3",
   "language": "python",
   "name": "python3"
  },
  "language_info": {
   "codemirror_mode": {
    "name": "ipython",
    "version": 3
   },
   "file_extension": ".py",
   "mimetype": "text/x-python",
   "name": "python",
   "nbconvert_exporter": "python",
   "pygments_lexer": "ipython3",
   "version": "3.6.4"
  }
 },
 "nbformat": 4,
 "nbformat_minor": 1
}
