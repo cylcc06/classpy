{
 "cells": [
  {
   "cell_type": "markdown",
   "metadata": {
    "nbpresent": {
     "id": "cbd0dcd0-7ef8-4d84-8cb3-f77a868c2f62"
    }
   },
   "source": [
    "# 统计推断基础\n",
    "- 数据说明：本数据是地区房价增长率数据\n",
    "- 名称-中文含义\n",
    "- dis_name-小区名称\n",
    "- rate-房价同比增长率"
   ]
  },
  {
   "cell_type": "code",
   "execution_count": 1,
   "metadata": {
    "collapsed": false,
    "nbpresent": {
     "id": "82f49028-8e97-4f64-b700-85ae88173c01"
    }
   },
   "outputs": [
    {
     "data": {
      "text/plain": [
       "'Q:\\\\data'"
      ]
     },
     "execution_count": 1,
     "metadata": {},
     "output_type": "execute_result"
    }
   ],
   "source": [
    "import os\n",
    "\n",
    "os.chdir('Q:/data')\n",
    "os.getcwd()"
   ]
  },
  {
   "cell_type": "code",
   "execution_count": 2,
   "metadata": {
    "collapsed": false,
    "nbpresent": {
     "id": "dea67a1a-a7f5-49db-973e-86699ceb6200"
    },
    "scrolled": true
   },
   "outputs": [
    {
     "data": {
      "text/html": [
       "<div>\n",
       "<style scoped>\n",
       "    .dataframe tbody tr th:only-of-type {\n",
       "        vertical-align: middle;\n",
       "    }\n",
       "\n",
       "    .dataframe tbody tr th {\n",
       "        vertical-align: top;\n",
       "    }\n",
       "\n",
       "    .dataframe thead th {\n",
       "        text-align: right;\n",
       "    }\n",
       "</style>\n",
       "<table border=\"1\" class=\"dataframe\">\n",
       "  <thead>\n",
       "    <tr style=\"text-align: right;\">\n",
       "      <th></th>\n",
       "      <th>dis_name</th>\n",
       "      <th>rate</th>\n",
       "    </tr>\n",
       "  </thead>\n",
       "  <tbody>\n",
       "    <tr>\n",
       "      <th>0</th>\n",
       "      <td>东城区甘南小区</td>\n",
       "      <td>0.169747</td>\n",
       "    </tr>\n",
       "    <tr>\n",
       "      <th>1</th>\n",
       "      <td>东城区察慈小区</td>\n",
       "      <td>0.165484</td>\n",
       "    </tr>\n",
       "    <tr>\n",
       "      <th>2</th>\n",
       "      <td>东城区胡家园小区</td>\n",
       "      <td>0.141358</td>\n",
       "    </tr>\n",
       "    <tr>\n",
       "      <th>3</th>\n",
       "      <td>东城区台基厂小区</td>\n",
       "      <td>0.063197</td>\n",
       "    </tr>\n",
       "    <tr>\n",
       "      <th>4</th>\n",
       "      <td>东城区青年湖小区</td>\n",
       "      <td>0.101528</td>\n",
       "    </tr>\n",
       "    <tr>\n",
       "      <th>5</th>\n",
       "      <td>东城区小黄庄小区</td>\n",
       "      <td>0.068467</td>\n",
       "    </tr>\n",
       "    <tr>\n",
       "      <th>6</th>\n",
       "      <td>东城区和平里六区</td>\n",
       "      <td>0.118572</td>\n",
       "    </tr>\n",
       "    <tr>\n",
       "      <th>7</th>\n",
       "      <td>东城区京香福苑小区</td>\n",
       "      <td>0.161386</td>\n",
       "    </tr>\n",
       "    <tr>\n",
       "      <th>8</th>\n",
       "      <td>东城区安贞苑50号院</td>\n",
       "      <td>0.085863</td>\n",
       "    </tr>\n",
       "    <tr>\n",
       "      <th>9</th>\n",
       "      <td>东城区安馨园小区</td>\n",
       "      <td>0.104397</td>\n",
       "    </tr>\n",
       "    <tr>\n",
       "      <th>10</th>\n",
       "      <td>东城区外交部街33号院</td>\n",
       "      <td>0.178980</td>\n",
       "    </tr>\n",
       "    <tr>\n",
       "      <th>11</th>\n",
       "      <td>西城区新文化街小区</td>\n",
       "      <td>0.057328</td>\n",
       "    </tr>\n",
       "    <tr>\n",
       "      <th>12</th>\n",
       "      <td>西城区新融苑小区</td>\n",
       "      <td>0.089179</td>\n",
       "    </tr>\n",
       "    <tr>\n",
       "      <th>13</th>\n",
       "      <td>西城区裕中西里小区</td>\n",
       "      <td>0.067066</td>\n",
       "    </tr>\n",
       "    <tr>\n",
       "      <th>14</th>\n",
       "      <td>西城区国英园小区</td>\n",
       "      <td>0.063661</td>\n",
       "    </tr>\n",
       "    <tr>\n",
       "      <th>15</th>\n",
       "      <td>西城区国家广电总局新302住宅小区</td>\n",
       "      <td>0.074919</td>\n",
       "    </tr>\n",
       "    <tr>\n",
       "      <th>16</th>\n",
       "      <td>崇文区东四块玉小区</td>\n",
       "      <td>0.108691</td>\n",
       "    </tr>\n",
       "    <tr>\n",
       "      <th>17</th>\n",
       "      <td>崇文区金鱼池危改小区</td>\n",
       "      <td>0.171723</td>\n",
       "    </tr>\n",
       "    <tr>\n",
       "      <th>18</th>\n",
       "      <td>崇文区新景家园</td>\n",
       "      <td>0.162617</td>\n",
       "    </tr>\n",
       "    <tr>\n",
       "      <th>19</th>\n",
       "      <td>宣武区法源寺小区</td>\n",
       "      <td>0.222625</td>\n",
       "    </tr>\n",
       "    <tr>\n",
       "      <th>20</th>\n",
       "      <td>宣武区建功南里小区</td>\n",
       "      <td>0.129224</td>\n",
       "    </tr>\n",
       "    <tr>\n",
       "      <th>21</th>\n",
       "      <td>宣武区椿树园小区</td>\n",
       "      <td>0.036800</td>\n",
       "    </tr>\n",
       "    <tr>\n",
       "      <th>22</th>\n",
       "      <td>宣武区恒昌花园</td>\n",
       "      <td>0.098843</td>\n",
       "    </tr>\n",
       "    <tr>\n",
       "      <th>23</th>\n",
       "      <td>宣武区康乐里小区</td>\n",
       "      <td>0.113615</td>\n",
       "    </tr>\n",
       "    <tr>\n",
       "      <th>24</th>\n",
       "      <td>宣武区小马厂电信住宅小区</td>\n",
       "      <td>0.109990</td>\n",
       "    </tr>\n",
       "    <tr>\n",
       "      <th>25</th>\n",
       "      <td>宣武区天桥小区</td>\n",
       "      <td>0.177385</td>\n",
       "    </tr>\n",
       "    <tr>\n",
       "      <th>26</th>\n",
       "      <td>宣武区牛街东里民族团结小区</td>\n",
       "      <td>0.067636</td>\n",
       "    </tr>\n",
       "    <tr>\n",
       "      <th>27</th>\n",
       "      <td>宣武区云河公寓</td>\n",
       "      <td>0.143818</td>\n",
       "    </tr>\n",
       "    <tr>\n",
       "      <th>28</th>\n",
       "      <td>朝阳区团结湖小区</td>\n",
       "      <td>0.106157</td>\n",
       "    </tr>\n",
       "    <tr>\n",
       "      <th>29</th>\n",
       "      <td>朝阳区西坝河东里</td>\n",
       "      <td>0.071425</td>\n",
       "    </tr>\n",
       "    <tr>\n",
       "      <th>...</th>\n",
       "      <td>...</td>\n",
       "      <td>...</td>\n",
       "    </tr>\n",
       "    <tr>\n",
       "      <th>120</th>\n",
       "      <td>通州区天赐良园小区</td>\n",
       "      <td>0.080639</td>\n",
       "    </tr>\n",
       "    <tr>\n",
       "      <th>121</th>\n",
       "      <td>通州区翠屏北里西区</td>\n",
       "      <td>0.083920</td>\n",
       "    </tr>\n",
       "    <tr>\n",
       "      <th>122</th>\n",
       "      <td>通州区京贸国际公寓</td>\n",
       "      <td>0.060896</td>\n",
       "    </tr>\n",
       "    <tr>\n",
       "      <th>123</th>\n",
       "      <td>大兴区义和庄北里小区</td>\n",
       "      <td>0.121176</td>\n",
       "    </tr>\n",
       "    <tr>\n",
       "      <th>124</th>\n",
       "      <td>大兴区清源西里小区</td>\n",
       "      <td>0.139761</td>\n",
       "    </tr>\n",
       "    <tr>\n",
       "      <th>125</th>\n",
       "      <td>大兴县宏福园小区</td>\n",
       "      <td>0.114332</td>\n",
       "    </tr>\n",
       "    <tr>\n",
       "      <th>126</th>\n",
       "      <td>大兴区菊源里小区</td>\n",
       "      <td>0.110707</td>\n",
       "    </tr>\n",
       "    <tr>\n",
       "      <th>127</th>\n",
       "      <td>怀柔区南华园一区</td>\n",
       "      <td>0.148249</td>\n",
       "    </tr>\n",
       "    <tr>\n",
       "      <th>128</th>\n",
       "      <td>怀柔县龙湖花园小区</td>\n",
       "      <td>0.120356</td>\n",
       "    </tr>\n",
       "    <tr>\n",
       "      <th>129</th>\n",
       "      <td>怀柔县梅苑花园小区</td>\n",
       "      <td>0.096335</td>\n",
       "    </tr>\n",
       "    <tr>\n",
       "      <th>130</th>\n",
       "      <td>怀柔县南华园四区</td>\n",
       "      <td>0.116468</td>\n",
       "    </tr>\n",
       "    <tr>\n",
       "      <th>131</th>\n",
       "      <td>怀柔县馥郁苑小区</td>\n",
       "      <td>0.086261</td>\n",
       "    </tr>\n",
       "    <tr>\n",
       "      <th>132</th>\n",
       "      <td>怀柔区迎宾北路12号院</td>\n",
       "      <td>0.113126</td>\n",
       "    </tr>\n",
       "    <tr>\n",
       "      <th>133</th>\n",
       "      <td>顺义区华中园别墅</td>\n",
       "      <td>0.112126</td>\n",
       "    </tr>\n",
       "    <tr>\n",
       "      <th>134</th>\n",
       "      <td>顺义区裕龙花园</td>\n",
       "      <td>0.112064</td>\n",
       "    </tr>\n",
       "    <tr>\n",
       "      <th>135</th>\n",
       "      <td>顺义区双裕小区</td>\n",
       "      <td>0.067941</td>\n",
       "    </tr>\n",
       "    <tr>\n",
       "      <th>136</th>\n",
       "      <td>顺义区西辛小区</td>\n",
       "      <td>0.097185</td>\n",
       "    </tr>\n",
       "    <tr>\n",
       "      <th>137</th>\n",
       "      <td>顺义区中央电视台影视培训中心</td>\n",
       "      <td>0.104725</td>\n",
       "    </tr>\n",
       "    <tr>\n",
       "      <th>138</th>\n",
       "      <td>顺义区裕祥花园</td>\n",
       "      <td>0.178573</td>\n",
       "    </tr>\n",
       "    <tr>\n",
       "      <th>139</th>\n",
       "      <td>房山区桥梁厂生活区</td>\n",
       "      <td>0.126083</td>\n",
       "    </tr>\n",
       "    <tr>\n",
       "      <th>140</th>\n",
       "      <td>房山区原子能科学研究院生活区</td>\n",
       "      <td>0.142602</td>\n",
       "    </tr>\n",
       "    <tr>\n",
       "      <th>141</th>\n",
       "      <td>房山区碧桂园温泉小区</td>\n",
       "      <td>0.029540</td>\n",
       "    </tr>\n",
       "    <tr>\n",
       "      <th>142</th>\n",
       "      <td>房山区北京输油公司生活小区</td>\n",
       "      <td>0.159211</td>\n",
       "    </tr>\n",
       "    <tr>\n",
       "      <th>143</th>\n",
       "      <td>房山区西厢苑小区</td>\n",
       "      <td>0.135552</td>\n",
       "    </tr>\n",
       "    <tr>\n",
       "      <th>144</th>\n",
       "      <td>延庆县川北小区</td>\n",
       "      <td>0.161761</td>\n",
       "    </tr>\n",
       "    <tr>\n",
       "      <th>145</th>\n",
       "      <td>密云县沿湖小区</td>\n",
       "      <td>0.121524</td>\n",
       "    </tr>\n",
       "    <tr>\n",
       "      <th>146</th>\n",
       "      <td>密云县东菜园小区</td>\n",
       "      <td>0.104666</td>\n",
       "    </tr>\n",
       "    <tr>\n",
       "      <th>147</th>\n",
       "      <td>密云县花园小区</td>\n",
       "      <td>0.137225</td>\n",
       "    </tr>\n",
       "    <tr>\n",
       "      <th>148</th>\n",
       "      <td>开发区鹿鸣苑</td>\n",
       "      <td>0.073119</td>\n",
       "    </tr>\n",
       "    <tr>\n",
       "      <th>149</th>\n",
       "      <td>开发区星岛嘉园</td>\n",
       "      <td>0.048391</td>\n",
       "    </tr>\n",
       "  </tbody>\n",
       "</table>\n",
       "<p>150 rows × 2 columns</p>\n",
       "</div>"
      ],
      "text/plain": [
       "              dis_name      rate\n",
       "0              东城区甘南小区  0.169747\n",
       "1              东城区察慈小区  0.165484\n",
       "2             东城区胡家园小区  0.141358\n",
       "3             东城区台基厂小区  0.063197\n",
       "4             东城区青年湖小区  0.101528\n",
       "5             东城区小黄庄小区  0.068467\n",
       "6             东城区和平里六区  0.118572\n",
       "7            东城区京香福苑小区  0.161386\n",
       "8           东城区安贞苑50号院  0.085863\n",
       "9             东城区安馨园小区  0.104397\n",
       "10         东城区外交部街33号院  0.178980\n",
       "11           西城区新文化街小区  0.057328\n",
       "12            西城区新融苑小区  0.089179\n",
       "13           西城区裕中西里小区  0.067066\n",
       "14            西城区国英园小区  0.063661\n",
       "15   西城区国家广电总局新302住宅小区  0.074919\n",
       "16           崇文区东四块玉小区  0.108691\n",
       "17          崇文区金鱼池危改小区  0.171723\n",
       "18             崇文区新景家园  0.162617\n",
       "19            宣武区法源寺小区  0.222625\n",
       "20           宣武区建功南里小区  0.129224\n",
       "21            宣武区椿树园小区  0.036800\n",
       "22             宣武区恒昌花园  0.098843\n",
       "23            宣武区康乐里小区  0.113615\n",
       "24        宣武区小马厂电信住宅小区  0.109990\n",
       "25             宣武区天桥小区  0.177385\n",
       "26       宣武区牛街东里民族团结小区  0.067636\n",
       "27             宣武区云河公寓  0.143818\n",
       "28            朝阳区团结湖小区  0.106157\n",
       "29            朝阳区西坝河东里  0.071425\n",
       "..                 ...       ...\n",
       "120          通州区天赐良园小区  0.080639\n",
       "121          通州区翠屏北里西区  0.083920\n",
       "122          通州区京贸国际公寓  0.060896\n",
       "123         大兴区义和庄北里小区  0.121176\n",
       "124          大兴区清源西里小区  0.139761\n",
       "125           大兴县宏福园小区  0.114332\n",
       "126           大兴区菊源里小区  0.110707\n",
       "127           怀柔区南华园一区  0.148249\n",
       "128          怀柔县龙湖花园小区  0.120356\n",
       "129          怀柔县梅苑花园小区  0.096335\n",
       "130           怀柔县南华园四区  0.116468\n",
       "131           怀柔县馥郁苑小区  0.086261\n",
       "132        怀柔区迎宾北路12号院  0.113126\n",
       "133           顺义区华中园别墅  0.112126\n",
       "134            顺义区裕龙花园  0.112064\n",
       "135            顺义区双裕小区  0.067941\n",
       "136            顺义区西辛小区  0.097185\n",
       "137     顺义区中央电视台影视培训中心  0.104725\n",
       "138            顺义区裕祥花园  0.178573\n",
       "139          房山区桥梁厂生活区  0.126083\n",
       "140     房山区原子能科学研究院生活区  0.142602\n",
       "141         房山区碧桂园温泉小区  0.029540\n",
       "142      房山区北京输油公司生活小区  0.159211\n",
       "143           房山区西厢苑小区  0.135552\n",
       "144            延庆县川北小区  0.161761\n",
       "145            密云县沿湖小区  0.121524\n",
       "146           密云县东菜园小区  0.104666\n",
       "147            密云县花园小区  0.137225\n",
       "148             开发区鹿鸣苑  0.073119\n",
       "149            开发区星岛嘉园  0.048391\n",
       "\n",
       "[150 rows x 2 columns]"
      ]
     },
     "execution_count": 2,
     "metadata": {},
     "output_type": "execute_result"
    }
   ],
   "source": [
    "import pandas as pd\n",
    "\n",
    "house_price_gr = pd.read_csv('Q:/data/house_price_gr.csv', encoding='gbk')\n",
    "house_price_gr"
   ]
  },
  {
   "cell_type": "markdown",
   "metadata": {
    "collapsed": true,
    "nbpresent": {
     "id": "ae39c958-5193-4ea6-a74f-e23b5a31ef2d"
    }
   },
   "source": [
    "## 参数估计\n",
    "进行描述性统计分析"
   ]
  },
  {
   "cell_type": "code",
   "execution_count": 3,
   "metadata": {
    "collapsed": false,
    "nbpresent": {
     "id": "8583cd19-1526-4af9-bcfb-0a295d12a7f6"
    }
   },
   "outputs": [
    {
     "data": {
      "text/html": [
       "<div>\n",
       "<style scoped>\n",
       "    .dataframe tbody tr th:only-of-type {\n",
       "        vertical-align: middle;\n",
       "    }\n",
       "\n",
       "    .dataframe tbody tr th {\n",
       "        vertical-align: top;\n",
       "    }\n",
       "\n",
       "    .dataframe thead th {\n",
       "        text-align: right;\n",
       "    }\n",
       "</style>\n",
       "<table border=\"1\" class=\"dataframe\">\n",
       "  <thead>\n",
       "    <tr style=\"text-align: right;\">\n",
       "      <th></th>\n",
       "      <th>dis_name</th>\n",
       "      <th>rate</th>\n",
       "    </tr>\n",
       "  </thead>\n",
       "  <tbody>\n",
       "    <tr>\n",
       "      <th>count</th>\n",
       "      <td>150</td>\n",
       "      <td>150.000000</td>\n",
       "    </tr>\n",
       "    <tr>\n",
       "      <th>unique</th>\n",
       "      <td>150</td>\n",
       "      <td>NaN</td>\n",
       "    </tr>\n",
       "    <tr>\n",
       "      <th>top</th>\n",
       "      <td>朝阳区惠中园小区</td>\n",
       "      <td>NaN</td>\n",
       "    </tr>\n",
       "    <tr>\n",
       "      <th>freq</th>\n",
       "      <td>1</td>\n",
       "      <td>NaN</td>\n",
       "    </tr>\n",
       "    <tr>\n",
       "      <th>mean</th>\n",
       "      <td>NaN</td>\n",
       "      <td>0.110061</td>\n",
       "    </tr>\n",
       "    <tr>\n",
       "      <th>std</th>\n",
       "      <td>NaN</td>\n",
       "      <td>0.041333</td>\n",
       "    </tr>\n",
       "    <tr>\n",
       "      <th>min</th>\n",
       "      <td>NaN</td>\n",
       "      <td>0.029540</td>\n",
       "    </tr>\n",
       "    <tr>\n",
       "      <th>25%</th>\n",
       "      <td>NaN</td>\n",
       "      <td>0.080027</td>\n",
       "    </tr>\n",
       "    <tr>\n",
       "      <th>50%</th>\n",
       "      <td>NaN</td>\n",
       "      <td>0.104908</td>\n",
       "    </tr>\n",
       "    <tr>\n",
       "      <th>75%</th>\n",
       "      <td>NaN</td>\n",
       "      <td>0.140066</td>\n",
       "    </tr>\n",
       "    <tr>\n",
       "      <th>max</th>\n",
       "      <td>NaN</td>\n",
       "      <td>0.243743</td>\n",
       "    </tr>\n",
       "  </tbody>\n",
       "</table>\n",
       "</div>"
      ],
      "text/plain": [
       "        dis_name        rate\n",
       "count        150  150.000000\n",
       "unique       150         NaN\n",
       "top     朝阳区惠中园小区         NaN\n",
       "freq           1         NaN\n",
       "mean         NaN    0.110061\n",
       "std          NaN    0.041333\n",
       "min          NaN    0.029540\n",
       "25%          NaN    0.080027\n",
       "50%          NaN    0.104908\n",
       "75%          NaN    0.140066\n",
       "max          NaN    0.243743"
      ]
     },
     "execution_count": 3,
     "metadata": {},
     "output_type": "execute_result"
    }
   ],
   "source": [
    "house_price_gr.describe(include='all')"
   ]
  },
  {
   "cell_type": "markdown",
   "metadata": {
    "nbpresent": {
     "id": "f2888d83-e51d-44f5-8eb3-b13a2a177e31"
    }
   },
   "source": [
    "Histograph"
   ]
  },
  {
   "cell_type": "code",
   "execution_count": 4,
   "metadata": {
    "collapsed": false,
    "nbpresent": {
     "id": "70351d60-04bb-41a1-9462-82c9561464d0"
    }
   },
   "outputs": [],
   "source": [
    "%matplotlib inline\n",
    "import seaborn as sns\n",
    "from scipy import stats\n",
    "\n",
    "# sns.distplot(house_price_gr.rate, kde=True, fit=stats.norm) # Histograph"
   ]
  },
  {
   "cell_type": "markdown",
   "metadata": {
    "nbpresent": {
     "id": "a725326c-cab2-4283-994d-baae9ea8f6ab"
    }
   },
   "source": [
    "Q-Q"
   ]
  },
  {
   "cell_type": "code",
   "execution_count": 5,
   "metadata": {
    "collapsed": false,
    "nbpresent": {
     "id": "d280a803-1366-4d1c-8306-b1e777491b80"
    }
   },
   "outputs": [
    {
     "name": "stderr",
     "output_type": "stream",
     "text": [
      "E:\\Anaconda3\\lib\\site-packages\\matplotlib\\figure.py:418: UserWarning: matplotlib is currently using a non-GUI backend, so cannot show the figure\n",
      "  \"matplotlib is currently using a non-GUI backend, \"\n"
     ]
    },
    {
     "data": {
      "image/png": "[encoded data removed]",
      "text/plain": [
       "<matplotlib.figure.Figure at 0xac07710>"
      ]
     },
     "metadata": {},
     "output_type": "display_data"
    }
   ],
   "source": [
    "import statsmodels.api as sm\n",
    "from matplotlib import pyplot as plt\n",
    "\n",
    "fig = sm.qqplot(house_price_gr.rate, fit=True, line='45')\n",
    "fig.show()"
   ]
  },
  {
   "cell_type": "markdown",
   "metadata": {
    "nbpresent": {
     "id": "c0e1ee79-bfa5-40f8-ba6e-a92272e1c767"
    }
   },
   "source": [
    "Box Plots"
   ]
  },
  {
   "cell_type": "code",
   "execution_count": 6,
   "metadata": {
    "collapsed": false,
    "nbpresent": {
     "id": "d6508f0e-ef08-41df-97c6-80329ffd7fb6"
    }
   },
   "outputs": [
    {
     "data": {
      "text/plain": [
       "<matplotlib.axes._subplots.AxesSubplot at 0x49082e8>"
      ]
     },
     "execution_count": 6,
     "metadata": {},
     "output_type": "execute_result"
    },
    {
     "data": {
      "image/png": "[encoded data removed]",
      "text/plain": [
       "<matplotlib.figure.Figure at 0x7e0fe80>"
      ]
     },
     "metadata": {},
     "output_type": "display_data"
    }
   ],
   "source": [
    "house_price_gr.plot(kind='box') # Box Plots"
   ]
  },
  {
   "cell_type": "markdown",
   "metadata": {
    "nbpresent": {
     "id": "364d4b28-68d2-47c3-b8cd-1185138a4cf6"
    }
   },
   "source": [
    "置信度区间估计"
   ]
  },
  {
   "cell_type": "code",
   "execution_count": 7,
   "metadata": {
    "collapsed": false,
    "nbpresent": {
     "id": "70e68053-cd65-4992-a0f8-616ef5203411"
    }
   },
   "outputs": [
    {
     "data": {
      "text/plain": [
       "(0.09993649947438818, 0.12018549392945813)"
      ]
     },
     "execution_count": 7,
     "metadata": {},
     "output_type": "execute_result"
    }
   ],
   "source": [
    "se = house_price_gr.rate.std() / len(house_price_gr) ** 0.5\n",
    "LB = house_price_gr.rate.mean() - 3 * se\n",
    "UB = house_price_gr.rate.mean() + 3 * se\n",
    "(LB, UB)"
   ]
  },
  {
   "cell_type": "code",
   "execution_count": 8,
   "metadata": {
    "collapsed": false,
    "nbpresent": {
     "id": "07e6ce6a-304d-49e4-a3b0-ee68b1e67945"
    }
   },
   "outputs": [
    {
     "data": {
      "text/plain": [
       "{'Degree of Freedom': 149,\n",
       " 'LB': 0.10339228338892809,\n",
       " 'Mean': 0.11006099670192315,\n",
       " 'UB': 0.11672971001491822}"
      ]
     },
     "execution_count": 8,
     "metadata": {},
     "output_type": "execute_result"
    }
   ],
   "source": [
    "# 如果要求任意置信度下的置信区间的话，可以自己编一个函数\n",
    "def confint(x, alpha=0.05):\n",
    "    n = len(x)\n",
    "    xb = x.mean()\n",
    "    df = n-1\n",
    "    tmp = (x.std() / n ** 0.5) * stats.t.ppf(1-alpha/2, df)\n",
    "    return {'Mean': xb, 'Degree of Freedom':df, 'LB':xb-tmp, 'UB':xb+tmp}\n",
    "\n",
    "confint(house_price_gr.rate, 0.05)"
   ]
  },
  {
   "cell_type": "code",
   "execution_count": 9,
   "metadata": {
    "collapsed": false,
    "nbpresent": {
     "id": "e9082e53-f5ce-41a4-b6a0-b0510bf82874"
    }
   },
   "outputs": [
    {
     "data": {
      "text/plain": [
       "(0.10339228338892814, 0.11672971001491828)"
      ]
     },
     "execution_count": 9,
     "metadata": {},
     "output_type": "execute_result"
    }
   ],
   "source": [
    "# 或者使用DescrStatsW\n",
    "d1 = sm.stats.DescrStatsW(house_price_gr.rate)\n",
    "d1.tconfint_mean(0.05) # "
   ]
  },
  {
   "cell_type": "markdown",
   "metadata": {
    "nbpresent": {
     "id": "fb48f5ce-8b12-4561-b21f-ab24f167b2a1"
    }
   },
   "source": [
    "## 假设检验与单样本T检验\n",
    "当年住宅价格的增长率是否超过了10%的阈值"
   ]
  },
  {
   "cell_type": "code",
   "execution_count": 10,
   "metadata": {
    "collapsed": false,
    "nbpresent": {
     "id": "1e367f1d-fcd6-4dc6-9699-1dd5e9cba320"
    }
   },
   "outputs": [
    {
     "name": "stdout",
     "output_type": "stream",
     "text": [
      "t-statistic=2.9812, p-value=0.0034, df=149.0\n"
     ]
    }
   ],
   "source": [
    "print('t-statistic=%6.4f, p-value=%6.4f, df=%s' %d1.ttest_mean(0.1))\n",
    "#一般认为FICO高于690的客户信誉较高，请检验该产品的客户整体信用是否高于690"
   ]
  },
  {
   "cell_type": "markdown",
   "metadata": {
    "collapsed": true,
    "nbpresent": {
     "id": "9e606667-38b7-45f2-9e17-ad8aa95abcd6"
    }
   },
   "source": [
    "## 两样本T检验\n",
    "- 数据说明：本数据是一份汽车贷款违约数据\n",
    "- 名称\t中文含义\n",
    "- id\tid\n",
    "- Acc\t是否开卡(1=已开通)\n",
    "- avg_exp\t月均信用卡支出（元）\n",
    "- avg_exp_ln\t月均信用卡支出的自然对数\n",
    "- gender\t性别(男=1)\n",
    "- Age\t年龄\n",
    "- Income\t年收入（万元）\n",
    "- Ownrent\t是否自有住房（有=1；无=0)\n",
    "- Selfempl\t是否自谋职业(1=yes, 0=no)\n",
    "- dist_home_val\t所住小区房屋均价(万元)\n",
    "- dist_avg_income\t当地人均收入\n",
    "- high_avg\t高出当地平均收入\n",
    "- edu_class\t教育等级：小学及以下开通=0，中学=1，本科=2，研究生=3"
   ]
  },
  {
   "cell_type": "markdown",
   "metadata": {
    "nbpresent": {
     "id": "a8d18e59-be00-47f7-aaca-1bd35099e65c"
    }
   },
   "source": [
    "导入数据和数据清洗"
   ]
  },
  {
   "cell_type": "code",
   "execution_count": 11,
   "metadata": {
    "collapsed": false,
    "nbpresent": {
     "id": "d29572cb-1618-40a5-b7b4-64363d98dc62"
    }
   },
   "outputs": [
    {
     "data": {
      "text/html": [
       "<div>\n",
       "<style scoped>\n",
       "    .dataframe tbody tr th:only-of-type {\n",
       "        vertical-align: middle;\n",
       "    }\n",
       "\n",
       "    .dataframe tbody tr th {\n",
       "        vertical-align: top;\n",
       "    }\n",
       "\n",
       "    .dataframe thead th {\n",
       "        text-align: right;\n",
       "    }\n",
       "</style>\n",
       "<table border=\"1\" class=\"dataframe\">\n",
       "  <thead>\n",
       "    <tr style=\"text-align: right;\">\n",
       "      <th></th>\n",
       "      <th>id</th>\n",
       "      <th>Acc</th>\n",
       "      <th>avg_exp</th>\n",
       "      <th>avg_exp_ln</th>\n",
       "      <th>gender</th>\n",
       "      <th>Age</th>\n",
       "      <th>Income</th>\n",
       "      <th>Ownrent</th>\n",
       "      <th>Selfempl</th>\n",
       "      <th>dist_home_val</th>\n",
       "      <th>dist_avg_income</th>\n",
       "      <th>age2</th>\n",
       "      <th>high_avg</th>\n",
       "      <th>edu_class</th>\n",
       "    </tr>\n",
       "  </thead>\n",
       "  <tbody>\n",
       "    <tr>\n",
       "      <th>0</th>\n",
       "      <td>19</td>\n",
       "      <td>1</td>\n",
       "      <td>1217.03</td>\n",
       "      <td>7.104169</td>\n",
       "      <td>1</td>\n",
       "      <td>40</td>\n",
       "      <td>16.03515</td>\n",
       "      <td>1</td>\n",
       "      <td>1</td>\n",
       "      <td>99.93</td>\n",
       "      <td>15.932789</td>\n",
       "      <td>1600</td>\n",
       "      <td>0.102361</td>\n",
       "      <td>3</td>\n",
       "    </tr>\n",
       "    <tr>\n",
       "      <th>1</th>\n",
       "      <td>5</td>\n",
       "      <td>1</td>\n",
       "      <td>1251.50</td>\n",
       "      <td>7.132098</td>\n",
       "      <td>1</td>\n",
       "      <td>32</td>\n",
       "      <td>15.84750</td>\n",
       "      <td>1</td>\n",
       "      <td>0</td>\n",
       "      <td>49.88</td>\n",
       "      <td>15.796316</td>\n",
       "      <td>1024</td>\n",
       "      <td>0.051184</td>\n",
       "      <td>2</td>\n",
       "    </tr>\n",
       "    <tr>\n",
       "      <th>3</th>\n",
       "      <td>86</td>\n",
       "      <td>1</td>\n",
       "      <td>856.57</td>\n",
       "      <td>6.752936</td>\n",
       "      <td>1</td>\n",
       "      <td>41</td>\n",
       "      <td>11.47285</td>\n",
       "      <td>1</td>\n",
       "      <td>0</td>\n",
       "      <td>16.10</td>\n",
       "      <td>11.275632</td>\n",
       "      <td>1681</td>\n",
       "      <td>0.197218</td>\n",
       "      <td>3</td>\n",
       "    </tr>\n",
       "    <tr>\n",
       "      <th>4</th>\n",
       "      <td>50</td>\n",
       "      <td>1</td>\n",
       "      <td>1321.83</td>\n",
       "      <td>7.186772</td>\n",
       "      <td>1</td>\n",
       "      <td>28</td>\n",
       "      <td>13.40915</td>\n",
       "      <td>1</td>\n",
       "      <td>0</td>\n",
       "      <td>100.39</td>\n",
       "      <td>13.346474</td>\n",
       "      <td>784</td>\n",
       "      <td>0.062676</td>\n",
       "      <td>2</td>\n",
       "    </tr>\n",
       "    <tr>\n",
       "      <th>5</th>\n",
       "      <td>67</td>\n",
       "      <td>1</td>\n",
       "      <td>816.03</td>\n",
       "      <td>6.704451</td>\n",
       "      <td>1</td>\n",
       "      <td>41</td>\n",
       "      <td>10.03015</td>\n",
       "      <td>0</td>\n",
       "      <td>1</td>\n",
       "      <td>119.76</td>\n",
       "      <td>10.332263</td>\n",
       "      <td>1681</td>\n",
       "      <td>-0.302113</td>\n",
       "      <td>3</td>\n",
       "    </tr>\n",
       "  </tbody>\n",
       "</table>\n",
       "</div>"
      ],
      "text/plain": [
       "   id  Acc  avg_exp  avg_exp_ln  gender  Age    Income  Ownrent  Selfempl  \\\n",
       "0  19    1  1217.03    7.104169       1   40  16.03515        1         1   \n",
       "1   5    1  1251.50    7.132098       1   32  15.84750        1         0   \n",
       "3  86    1   856.57    6.752936       1   41  11.47285        1         0   \n",
       "4  50    1  1321.83    7.186772       1   28  13.40915        1         0   \n",
       "5  67    1   816.03    6.704451       1   41  10.03015        0         1   \n",
       "\n",
       "   dist_home_val  dist_avg_income  age2  high_avg  edu_class  \n",
       "0          99.93        15.932789  1600  0.102361          3  \n",
       "1          49.88        15.796316  1024  0.051184          2  \n",
       "3          16.10        11.275632  1681  0.197218          3  \n",
       "4         100.39        13.346474   784  0.062676          2  \n",
       "5         119.76        10.332263  1681 -0.302113          3  "
      ]
     },
     "execution_count": 11,
     "metadata": {},
     "output_type": "execute_result"
    }
   ],
   "source": [
    "creditcard_exp = pd.read_csv('creditcard_exp.csv', skipinitialspace=True)\n",
    "creditcard_exp = creditcard_exp.dropna(how='any')\n",
    "creditcard_exp.head()\n"
   ]
  },
  {
   "cell_type": "markdown",
   "metadata": {
    "nbpresent": {
     "id": "d45567df-2b6f-4e04-a754-511182c17cbf"
    }
   },
   "source": [
    "根据性别比较支出"
   ]
  },
  {
   "cell_type": "code",
   "execution_count": 12,
   "metadata": {
    "collapsed": false,
    "nbpresent": {
     "id": "0400d3b5-4b0a-477d-bf68-dfa8da3515ef"
    }
   },
   "outputs": [
    {
     "data": {
      "text/html": [
       "<div>\n",
       "<style scoped>\n",
       "    .dataframe tbody tr th:only-of-type {\n",
       "        vertical-align: middle;\n",
       "    }\n",
       "\n",
       "    .dataframe tbody tr th {\n",
       "        vertical-align: top;\n",
       "    }\n",
       "\n",
       "    .dataframe thead th {\n",
       "        text-align: right;\n",
       "    }\n",
       "</style>\n",
       "<table border=\"1\" class=\"dataframe\">\n",
       "  <thead>\n",
       "    <tr style=\"text-align: right;\">\n",
       "      <th></th>\n",
       "      <th>count</th>\n",
       "      <th>mean</th>\n",
       "      <th>std</th>\n",
       "      <th>min</th>\n",
       "      <th>25%</th>\n",
       "      <th>50%</th>\n",
       "      <th>75%</th>\n",
       "      <th>max</th>\n",
       "    </tr>\n",
       "    <tr>\n",
       "      <th>gender</th>\n",
       "      <th></th>\n",
       "      <th></th>\n",
       "      <th></th>\n",
       "      <th></th>\n",
       "      <th></th>\n",
       "      <th></th>\n",
       "      <th></th>\n",
       "      <th></th>\n",
       "    </tr>\n",
       "  </thead>\n",
       "  <tbody>\n",
       "    <tr>\n",
       "      <th>0</th>\n",
       "      <td>50.0</td>\n",
       "      <td>925.7052</td>\n",
       "      <td>430.833365</td>\n",
       "      <td>163.18</td>\n",
       "      <td>593.3125</td>\n",
       "      <td>813.650</td>\n",
       "      <td>1204.7775</td>\n",
       "      <td>1992.39</td>\n",
       "    </tr>\n",
       "    <tr>\n",
       "      <th>1</th>\n",
       "      <td>20.0</td>\n",
       "      <td>1128.5310</td>\n",
       "      <td>462.281389</td>\n",
       "      <td>648.15</td>\n",
       "      <td>829.8600</td>\n",
       "      <td>1020.005</td>\n",
       "      <td>1238.2025</td>\n",
       "      <td>2430.03</td>\n",
       "    </tr>\n",
       "  </tbody>\n",
       "</table>\n",
       "</div>"
      ],
      "text/plain": [
       "        count       mean         std     min       25%       50%        75%  \\\n",
       "gender                                                                        \n",
       "0        50.0   925.7052  430.833365  163.18  593.3125   813.650  1204.7775   \n",
       "1        20.0  1128.5310  462.281389  648.15  829.8600  1020.005  1238.2025   \n",
       "\n",
       "            max  \n",
       "gender           \n",
       "0       1992.39  \n",
       "1       2430.03  "
      ]
     },
     "execution_count": 12,
     "metadata": {},
     "output_type": "execute_result"
    }
   ],
   "source": [
    "creditcard_exp['avg_exp'].groupby(creditcard_exp['gender']).describe()"
   ]
  },
  {
   "cell_type": "markdown",
   "metadata": {
    "nbpresent": {
     "id": "d182858e-aa95-4294-bec1-0c0f17ba2b71"
    }
   },
   "source": [
    "- 第一步:方差齐次检验"
   ]
  },
  {
   "cell_type": "code",
   "execution_count": 13,
   "metadata": {
    "collapsed": false,
    "nbpresent": {
     "id": "a394ad0d-530b-434f-a023-dfaf0535887f"
    },
    "scrolled": true
   },
   "outputs": [
    {
     "name": "stdout",
     "output_type": "stream",
     "text": [
      "w-value=0.0683, p-value=0.7946\n"
     ]
    }
   ],
   "source": [
    "gender0 = creditcard_exp[creditcard_exp['gender'] == 0]['avg_exp']\n",
    "gender1 = creditcard_exp[creditcard_exp['gender'] == 1]['avg_exp']\n",
    "leveneTestRes = stats.levene(gender0, gender1, center='median')\n",
    "print('w-value=%6.4f, p-value=%6.4f' %leveneTestRes)"
   ]
  },
  {
   "cell_type": "markdown",
   "metadata": {
    "nbpresent": {
     "id": "448f1e4c-e7e7-4833-b537-be33c8bc87f8"
    }
   },
   "source": [
    "- 第二步:T-test"
   ]
  },
  {
   "cell_type": "code",
   "execution_count": 14,
   "metadata": {
    "collapsed": false,
    "nbpresent": {
     "id": "8057dd64-eff0-4d5e-938b-75d20d34fe0e"
    }
   },
   "outputs": [
    {
     "data": {
      "text/plain": [
       "Ttest_indResult(statistic=-1.7429013868086289, pvalue=0.085871228784484485)"
      ]
     },
     "execution_count": 14,
     "metadata": {},
     "output_type": "execute_result"
    }
   ],
   "source": [
    "stats.stats.ttest_ind(gender0, gender1, equal_var=True)\n",
    "# Or Try: sm.stats.ttest_ind(gender0, gender1, usevar='pooled')"
   ]
  },
  {
   "cell_type": "markdown",
   "metadata": {
    "collapsed": false,
    "nbpresent": {
     "id": "25582a54-b189-4bf8-bfa6-7438bd772c62"
    }
   },
   "source": [
    "## 方差分析\n",
    "- 单因素方差分析"
   ]
  },
  {
   "cell_type": "code",
   "execution_count": 15,
   "metadata": {
    "collapsed": false,
    "nbpresent": {
     "id": "628a7e36-f198-427c-b026-23bea31c9188"
    }
   },
   "outputs": [
    {
     "data": {
      "text/html": [
       "<div>\n",
       "<style scoped>\n",
       "    .dataframe tbody tr th:only-of-type {\n",
       "        vertical-align: middle;\n",
       "    }\n",
       "\n",
       "    .dataframe tbody tr th {\n",
       "        vertical-align: top;\n",
       "    }\n",
       "\n",
       "    .dataframe thead tr th {\n",
       "        text-align: left;\n",
       "    }\n",
       "\n",
       "    .dataframe thead tr:last-of-type th {\n",
       "        text-align: right;\n",
       "    }\n",
       "</style>\n",
       "<table border=\"1\" class=\"dataframe\">\n",
       "  <thead>\n",
       "    <tr>\n",
       "      <th></th>\n",
       "      <th colspan=\"8\" halign=\"left\">avg_exp</th>\n",
       "    </tr>\n",
       "    <tr>\n",
       "      <th></th>\n",
       "      <th>count</th>\n",
       "      <th>mean</th>\n",
       "      <th>std</th>\n",
       "      <th>min</th>\n",
       "      <th>25%</th>\n",
       "      <th>50%</th>\n",
       "      <th>75%</th>\n",
       "      <th>max</th>\n",
       "    </tr>\n",
       "    <tr>\n",
       "      <th>edu_class</th>\n",
       "      <th></th>\n",
       "      <th></th>\n",
       "      <th></th>\n",
       "      <th></th>\n",
       "      <th></th>\n",
       "      <th></th>\n",
       "      <th></th>\n",
       "      <th></th>\n",
       "    </tr>\n",
       "  </thead>\n",
       "  <tbody>\n",
       "    <tr>\n",
       "      <th>0</th>\n",
       "      <td>2.0</td>\n",
       "      <td>207.370000</td>\n",
       "      <td>62.494097</td>\n",
       "      <td>163.18</td>\n",
       "      <td>185.2750</td>\n",
       "      <td>207.370</td>\n",
       "      <td>229.4650</td>\n",
       "      <td>251.56</td>\n",
       "    </tr>\n",
       "    <tr>\n",
       "      <th>1</th>\n",
       "      <td>23.0</td>\n",
       "      <td>641.937826</td>\n",
       "      <td>147.577741</td>\n",
       "      <td>418.78</td>\n",
       "      <td>525.5950</td>\n",
       "      <td>593.920</td>\n",
       "      <td>736.1400</td>\n",
       "      <td>987.66</td>\n",
       "    </tr>\n",
       "    <tr>\n",
       "      <th>2</th>\n",
       "      <td>23.0</td>\n",
       "      <td>973.321304</td>\n",
       "      <td>229.163196</td>\n",
       "      <td>610.25</td>\n",
       "      <td>807.8200</td>\n",
       "      <td>959.830</td>\n",
       "      <td>1075.2700</td>\n",
       "      <td>1472.82</td>\n",
       "    </tr>\n",
       "    <tr>\n",
       "      <th>3</th>\n",
       "      <td>22.0</td>\n",
       "      <td>1422.280909</td>\n",
       "      <td>435.281442</td>\n",
       "      <td>816.03</td>\n",
       "      <td>1166.9975</td>\n",
       "      <td>1343.025</td>\n",
       "      <td>1661.4125</td>\n",
       "      <td>2430.03</td>\n",
       "    </tr>\n",
       "  </tbody>\n",
       "</table>\n",
       "</div>"
      ],
      "text/plain": [
       "          avg_exp                                                        \\\n",
       "            count         mean         std     min        25%       50%   \n",
       "edu_class                                                                 \n",
       "0             2.0   207.370000   62.494097  163.18   185.2750   207.370   \n",
       "1            23.0   641.937826  147.577741  418.78   525.5950   593.920   \n",
       "2            23.0   973.321304  229.163196  610.25   807.8200   959.830   \n",
       "3            22.0  1422.280909  435.281442  816.03  1166.9975  1343.025   \n",
       "\n",
       "                               \n",
       "                 75%      max  \n",
       "edu_class                      \n",
       "0           229.4650   251.56  \n",
       "1           736.1400   987.66  \n",
       "2          1075.2700  1472.82  \n",
       "3          1661.4125  2430.03  "
      ]
     },
     "execution_count": 15,
     "metadata": {},
     "output_type": "execute_result"
    }
   ],
   "source": [
    "import pandas as pd\n",
    "pd.set_option('display.max_columns', None) # 设置显示所有列\n",
    "creditcard_exp.groupby('edu_class')[['avg_exp']].describe()"
   ]
  },
  {
   "cell_type": "code",
   "execution_count": 16,
   "metadata": {
    "collapsed": false,
    "nbpresent": {
     "id": "77903148-e2fe-4aa0-b5f7-5ee7f3bc99d8"
    }
   },
   "outputs": [
    {
     "data": {
      "text/plain": [
       "F_onewayResult(statistic=31.825683356937645, pvalue=7.658361691248968e-13)"
      ]
     },
     "execution_count": 16,
     "metadata": {},
     "output_type": "execute_result"
    }
   ],
   "source": [
    "edu = []\n",
    "for i in range(4):\n",
    "    edu.append(creditcard_exp[creditcard_exp['edu_class'] == i]['avg_exp'])\n",
    "stats.f_oneway(*edu)"
   ]
  },
  {
   "cell_type": "markdown",
   "metadata": {
    "collapsed": true,
    "nbpresent": {
     "id": "9bf1dfa6-08dc-4354-b33e-518c0633b4fe"
    }
   },
   "source": [
    "- 多因素方差分析"
   ]
  },
  {
   "cell_type": "code",
   "execution_count": 17,
   "metadata": {
    "collapsed": false,
    "nbpresent": {
     "id": "ef9ff114-a8f1-43c3-a19c-4711ebf007dd"
    }
   },
   "outputs": [
    {
     "data": {
      "text/html": [
       "<div>\n",
       "<style scoped>\n",
       "    .dataframe tbody tr th:only-of-type {\n",
       "        vertical-align: middle;\n",
       "    }\n",
       "\n",
       "    .dataframe tbody tr th {\n",
       "        vertical-align: top;\n",
       "    }\n",
       "\n",
       "    .dataframe thead th {\n",
       "        text-align: right;\n",
       "    }\n",
       "</style>\n",
       "<table border=\"1\" class=\"dataframe\">\n",
       "  <thead>\n",
       "    <tr style=\"text-align: right;\">\n",
       "      <th></th>\n",
       "      <th>df</th>\n",
       "      <th>sum_sq</th>\n",
       "      <th>mean_sq</th>\n",
       "      <th>F</th>\n",
       "      <th>PR(&gt;F)</th>\n",
       "    </tr>\n",
       "  </thead>\n",
       "  <tbody>\n",
       "    <tr>\n",
       "      <th>C(edu_class)</th>\n",
       "      <td>3.0</td>\n",
       "      <td>8.126056e+06</td>\n",
       "      <td>2.708685e+06</td>\n",
       "      <td>31.578365</td>\n",
       "      <td>1.031496e-12</td>\n",
       "    </tr>\n",
       "    <tr>\n",
       "      <th>C(gender)</th>\n",
       "      <td>1.0</td>\n",
       "      <td>4.178273e+04</td>\n",
       "      <td>4.178273e+04</td>\n",
       "      <td>0.487111</td>\n",
       "      <td>4.877082e-01</td>\n",
       "    </tr>\n",
       "    <tr>\n",
       "      <th>Residual</th>\n",
       "      <td>65.0</td>\n",
       "      <td>5.575481e+06</td>\n",
       "      <td>8.577662e+04</td>\n",
       "      <td>NaN</td>\n",
       "      <td>NaN</td>\n",
       "    </tr>\n",
       "  </tbody>\n",
       "</table>\n",
       "</div>"
      ],
      "text/plain": [
       "                df        sum_sq       mean_sq          F        PR(>F)\n",
       "C(edu_class)   3.0  8.126056e+06  2.708685e+06  31.578365  1.031496e-12\n",
       "C(gender)      1.0  4.178273e+04  4.178273e+04   0.487111  4.877082e-01\n",
       "Residual      65.0  5.575481e+06  8.577662e+04        NaN           NaN"
      ]
     },
     "execution_count": 17,
     "metadata": {},
     "output_type": "execute_result"
    }
   ],
   "source": [
    "from statsmodels.formula.api import ols\n",
    "\n",
    "sm.stats.anova_lm(ols('avg_exp ~ C(edu_class) + C(gender)',data=creditcard_exp).fit())"
   ]
  },
  {
   "cell_type": "code",
   "execution_count": 18,
   "metadata": {
    "collapsed": false,
    "nbpresent": {
     "id": "366b5a97-bb75-4869-aeea-4db1f904ea9f"
    },
    "scrolled": false
   },
   "outputs": [
    {
     "data": {
      "text/html": [
       "<div>\n",
       "<style scoped>\n",
       "    .dataframe tbody tr th:only-of-type {\n",
       "        vertical-align: middle;\n",
       "    }\n",
       "\n",
       "    .dataframe tbody tr th {\n",
       "        vertical-align: top;\n",
       "    }\n",
       "\n",
       "    .dataframe thead th {\n",
       "        text-align: right;\n",
       "    }\n",
       "</style>\n",
       "<table border=\"1\" class=\"dataframe\">\n",
       "  <thead>\n",
       "    <tr style=\"text-align: right;\">\n",
       "      <th></th>\n",
       "      <th>df</th>\n",
       "      <th>sum_sq</th>\n",
       "      <th>mean_sq</th>\n",
       "      <th>F</th>\n",
       "      <th>PR(&gt;F)</th>\n",
       "    </tr>\n",
       "  </thead>\n",
       "  <tbody>\n",
       "    <tr>\n",
       "      <th>C(edu_class)</th>\n",
       "      <td>3.0</td>\n",
       "      <td>8.126056e+06</td>\n",
       "      <td>2.708685e+06</td>\n",
       "      <td>33.839350</td>\n",
       "      <td>3.753889e-13</td>\n",
       "    </tr>\n",
       "    <tr>\n",
       "      <th>C(gender)</th>\n",
       "      <td>1.0</td>\n",
       "      <td>4.178273e+04</td>\n",
       "      <td>4.178273e+04</td>\n",
       "      <td>0.521988</td>\n",
       "      <td>4.726685e-01</td>\n",
       "    </tr>\n",
       "    <tr>\n",
       "      <th>C(edu_class):C(gender)</th>\n",
       "      <td>3.0</td>\n",
       "      <td>5.476737e+05</td>\n",
       "      <td>1.825579e+05</td>\n",
       "      <td>2.280678</td>\n",
       "      <td>8.786000e-02</td>\n",
       "    </tr>\n",
       "    <tr>\n",
       "      <th>Residual</th>\n",
       "      <td>63.0</td>\n",
       "      <td>5.042862e+06</td>\n",
       "      <td>8.004544e+04</td>\n",
       "      <td>NaN</td>\n",
       "      <td>NaN</td>\n",
       "    </tr>\n",
       "  </tbody>\n",
       "</table>\n",
       "</div>"
      ],
      "text/plain": [
       "                          df        sum_sq       mean_sq          F  \\\n",
       "C(edu_class)             3.0  8.126056e+06  2.708685e+06  33.839350   \n",
       "C(gender)                1.0  4.178273e+04  4.178273e+04   0.521988   \n",
       "C(edu_class):C(gender)   3.0  5.476737e+05  1.825579e+05   2.280678   \n",
       "Residual                63.0  5.042862e+06  8.004544e+04        NaN   \n",
       "\n",
       "                              PR(>F)  \n",
       "C(edu_class)            3.753889e-13  \n",
       "C(gender)               4.726685e-01  \n",
       "C(edu_class):C(gender)  8.786000e-02  \n",
       "Residual                         NaN  "
      ]
     },
     "execution_count": 18,
     "metadata": {},
     "output_type": "execute_result"
    }
   ],
   "source": [
    "ana = ols('avg_exp ~ C(edu_class) + C(gender) +C(edu_class)*C(gender)', data= creditcard_exp).fit()\n",
    "sm.stats.anova_lm(ana)"
   ]
  },
  {
   "cell_type": "markdown",
   "metadata": {
    "collapsed": true,
    "nbpresent": {
     "id": "9aede7f8-7fb7-40c1-b59f-3acd005eaee8"
    }
   },
   "source": [
    "## 相关分析\n",
    "散点图"
   ]
  },
  {
   "cell_type": "code",
   "execution_count": 19,
   "metadata": {
    "collapsed": false,
    "nbpresent": {
     "id": "fc525933-8890-4ecc-94f4-12027391fb88"
    }
   },
   "outputs": [
    {
     "data": {
      "text/plain": [
       "<matplotlib.axes._subplots.AxesSubplot at 0xb11afd0>"
      ]
     },
     "execution_count": 19,
     "metadata": {},
     "output_type": "execute_result"
    },
    {
     "data": {
      "image/png": "[encoded data removed]",
      "text/plain": [
       "<matplotlib.figure.Figure at 0xb11aa58>"
      ]
     },
     "metadata": {},
     "output_type": "display_data"
    }
   ],
   "source": [
    "creditcard_exp.plot(x='Income', y='avg_exp', kind='scatter')\n"
   ]
  },
  {
   "cell_type": "markdown",
   "metadata": {
    "nbpresent": {
     "id": "c3e18cf4-19ca-420a-a787-170904184876"
    }
   },
   "source": [
    "相关性分析:“spearman”,“pearson” 和 \"kendall\""
   ]
  },
  {
   "cell_type": "code",
   "execution_count": 20,
   "metadata": {
    "collapsed": false,
    "nbpresent": {
     "id": "2e9506bb-c011-41fa-840d-ab71f11b689c"
    }
   },
   "outputs": [
    {
     "data": {
      "text/html": [
       "<div>\n",
       "<style scoped>\n",
       "    .dataframe tbody tr th:only-of-type {\n",
       "        vertical-align: middle;\n",
       "    }\n",
       "\n",
       "    .dataframe tbody tr th {\n",
       "        vertical-align: top;\n",
       "    }\n",
       "\n",
       "    .dataframe thead th {\n",
       "        text-align: right;\n",
       "    }\n",
       "</style>\n",
       "<table border=\"1\" class=\"dataframe\">\n",
       "  <thead>\n",
       "    <tr style=\"text-align: right;\">\n",
       "      <th></th>\n",
       "      <th>Income</th>\n",
       "      <th>avg_exp</th>\n",
       "    </tr>\n",
       "  </thead>\n",
       "  <tbody>\n",
       "    <tr>\n",
       "      <th>Income</th>\n",
       "      <td>1.000000</td>\n",
       "      <td>0.674011</td>\n",
       "    </tr>\n",
       "    <tr>\n",
       "      <th>avg_exp</th>\n",
       "      <td>0.674011</td>\n",
       "      <td>1.000000</td>\n",
       "    </tr>\n",
       "  </tbody>\n",
       "</table>\n",
       "</div>"
      ],
      "text/plain": [
       "           Income   avg_exp\n",
       "Income   1.000000  0.674011\n",
       "avg_exp  0.674011  1.000000"
      ]
     },
     "execution_count": 20,
     "metadata": {},
     "output_type": "execute_result"
    }
   ],
   "source": [
    "creditcard_exp[['Income', 'avg_exp']].corr(method='pearson')"
   ]
  },
  {
   "cell_type": "markdown",
   "metadata": {
    "collapsed": true,
    "nbpresent": {
     "id": "d2c5c506-9b80-4110-9814-69cb13d67194"
    }
   },
   "source": [
    "## 卡方检验"
   ]
  },
  {
   "cell_type": "code",
   "execution_count": 21,
   "metadata": {
    "collapsed": false,
    "nbpresent": {
     "id": "28e49f5d-dfae-4598-b2d3-02fdda7b7e75"
    },
    "scrolled": true
   },
   "outputs": [
    {
     "data": {
      "text/html": [
       "<div>\n",
       "<style scoped>\n",
       "    .dataframe tbody tr th:only-of-type {\n",
       "        vertical-align: middle;\n",
       "    }\n",
       "\n",
       "    .dataframe tbody tr th {\n",
       "        vertical-align: top;\n",
       "    }\n",
       "\n",
       "    .dataframe thead th {\n",
       "        text-align: right;\n",
       "    }\n",
       "</style>\n",
       "<table border=\"1\" class=\"dataframe\">\n",
       "  <thead>\n",
       "    <tr style=\"text-align: right;\">\n",
       "      <th>bad_ind</th>\n",
       "      <th>0</th>\n",
       "      <th>1</th>\n",
       "    </tr>\n",
       "    <tr>\n",
       "      <th>bankruptcy_ind</th>\n",
       "      <th></th>\n",
       "      <th></th>\n",
       "    </tr>\n",
       "  </thead>\n",
       "  <tbody>\n",
       "    <tr>\n",
       "      <th>N</th>\n",
       "      <td>20</td>\n",
       "      <td>6</td>\n",
       "    </tr>\n",
       "    <tr>\n",
       "      <th>Y</th>\n",
       "      <td>2</td>\n",
       "      <td>0</td>\n",
       "    </tr>\n",
       "  </tbody>\n",
       "</table>\n",
       "</div>"
      ],
      "text/plain": [
       "bad_ind          0  1\n",
       "bankruptcy_ind       \n",
       "N               20  6\n",
       "Y                2  0"
      ]
     },
     "execution_count": 21,
     "metadata": {},
     "output_type": "execute_result"
    }
   ],
   "source": [
    "accepts = pd.read_csv('accepts.csv')\n",
    "accepts = accepts.sample(30)\n",
    "cross_table = pd.crosstab(accepts.bankruptcy_ind, columns=accepts.bad_ind)\n",
    "# Or try this: accepts.pivot_table(index='bankruptcy_ind',columns='bad_ind', values='application_id', aggfunc='count')\n",
    "cross_table"
   ]
  },
  {
   "cell_type": "code",
   "execution_count": 22,
   "metadata": {
    "collapsed": false,
    "nbpresent": {
     "id": "2241963c-915a-479a-810c-b8420ebc0d7d"
    }
   },
   "outputs": [
    {
     "name": "stdout",
     "output_type": "stream",
     "text": [
      "chisq = 0.0163\n",
      " p-value = 0.8984\n",
      " dof = 1\n",
      " expected_freq = [[ 20.42857143   5.57142857]\n",
      " [  1.57142857   0.42857143]]\n"
     ]
    }
   ],
   "source": [
    "print('chisq = %6.4f\\n p-value = %6.4f\\n dof = %i\\n expected_freq = %s'  %stats.chi2_contingency(cross_table))"
   ]
  }
 ],
 "metadata": {
  "anaconda-cloud": {},
  "kernelspec": {
   "display_name": "Python [conda root]",
   "language": "python",
   "name": "conda-root-py"
  },
  "language_info": {
   "codemirror_mode": {
    "name": "ipython",
    "version": 3
   },
   "file_extension": ".py",
   "mimetype": "text/x-python",
   "name": "python",
   "nbconvert_exporter": "python",
   "pygments_lexer": "ipython3",
   "version": "3.5.2"
  }
 },
 "nbformat": 4,
 "nbformat_minor": 0
}
