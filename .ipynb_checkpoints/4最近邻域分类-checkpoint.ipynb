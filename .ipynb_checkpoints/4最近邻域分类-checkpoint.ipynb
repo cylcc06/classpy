{
 "cells": [
  {
   "cell_type": "markdown",
   "metadata": {},
   "source": [
    "# KNN"
   ]
  },
  {
   "cell_type": "markdown",
   "metadata": {},
   "source": [
    "* 加载数据集"
   ]
  },
  {
   "cell_type": "code",
   "execution_count": 1,
   "metadata": {
    "collapsed": false
   },
   "outputs": [],
   "source": [
    "%matplotlib inline\n",
    "import os\n",
    "import numpy as np\n",
    "from scipy import stats\n",
    "import pandas as pd\n",
    "import sklearn.model_selection as cross_validation  # Use sklearn.cross_validation in old version\n",
    "import matplotlib.pyplot as plt\n",
    "\n",
    "# os.chdir('Q:/data')\n",
    "pd.set_option('display.max_columns', None)"
   ]
  },
  {
   "cell_type": "code",
   "execution_count": 4,
   "metadata": {
    "collapsed": false
   },
   "outputs": [
    {
     "data": {
      "text/html": [
       "<div>\n",
       "<table border=\"1\" class=\"dataframe\">\n",
       "  <thead>\n",
       "    <tr style=\"text-align: right;\">\n",
       "      <th></th>\n",
       "      <th>income</th>\n",
       "      <th>attractive</th>\n",
       "      <th>assets</th>\n",
       "      <th>edueduclass</th>\n",
       "      <th>Dated</th>\n",
       "      <th>income_rank</th>\n",
       "      <th>attractive_rank</th>\n",
       "      <th>assets_rank</th>\n",
       "    </tr>\n",
       "  </thead>\n",
       "  <tbody>\n",
       "    <tr>\n",
       "      <th>count</th>\n",
       "      <td>100.000000</td>\n",
       "      <td>100.000000</td>\n",
       "      <td>100.000000</td>\n",
       "      <td>100.000000</td>\n",
       "      <td>100.000000</td>\n",
       "      <td>100.0</td>\n",
       "      <td>100.000000</td>\n",
       "      <td>100.000000</td>\n",
       "    </tr>\n",
       "    <tr>\n",
       "      <th>unique</th>\n",
       "      <td>NaN</td>\n",
       "      <td>NaN</td>\n",
       "      <td>NaN</td>\n",
       "      <td>NaN</td>\n",
       "      <td>NaN</td>\n",
       "      <td>4.0</td>\n",
       "      <td>NaN</td>\n",
       "      <td>NaN</td>\n",
       "    </tr>\n",
       "    <tr>\n",
       "      <th>top</th>\n",
       "      <td>NaN</td>\n",
       "      <td>NaN</td>\n",
       "      <td>NaN</td>\n",
       "      <td>NaN</td>\n",
       "      <td>NaN</td>\n",
       "      <td>3.0</td>\n",
       "      <td>NaN</td>\n",
       "      <td>NaN</td>\n",
       "    </tr>\n",
       "    <tr>\n",
       "      <th>freq</th>\n",
       "      <td>NaN</td>\n",
       "      <td>NaN</td>\n",
       "      <td>NaN</td>\n",
       "      <td>NaN</td>\n",
       "      <td>NaN</td>\n",
       "      <td>28.0</td>\n",
       "      <td>NaN</td>\n",
       "      <td>NaN</td>\n",
       "    </tr>\n",
       "    <tr>\n",
       "      <th>mean</th>\n",
       "      <td>9010.000000</td>\n",
       "      <td>50.500000</td>\n",
       "      <td>96.006300</td>\n",
       "      <td>3.710000</td>\n",
       "      <td>0.500000</td>\n",
       "      <td>NaN</td>\n",
       "      <td>1.560000</td>\n",
       "      <td>1.510000</td>\n",
       "    </tr>\n",
       "    <tr>\n",
       "      <th>std</th>\n",
       "      <td>5832.675288</td>\n",
       "      <td>28.810948</td>\n",
       "      <td>91.082226</td>\n",
       "      <td>1.225116</td>\n",
       "      <td>0.502519</td>\n",
       "      <td>NaN</td>\n",
       "      <td>1.103896</td>\n",
       "      <td>1.123621</td>\n",
       "    </tr>\n",
       "    <tr>\n",
       "      <th>min</th>\n",
       "      <td>3000.000000</td>\n",
       "      <td>1.000000</td>\n",
       "      <td>3.728400</td>\n",
       "      <td>1.000000</td>\n",
       "      <td>0.000000</td>\n",
       "      <td>NaN</td>\n",
       "      <td>0.000000</td>\n",
       "      <td>0.000000</td>\n",
       "    </tr>\n",
       "    <tr>\n",
       "      <th>25%</th>\n",
       "      <td>5000.000000</td>\n",
       "      <td>28.000000</td>\n",
       "      <td>31.665269</td>\n",
       "      <td>3.000000</td>\n",
       "      <td>0.000000</td>\n",
       "      <td>NaN</td>\n",
       "      <td>1.000000</td>\n",
       "      <td>0.750000</td>\n",
       "    </tr>\n",
       "    <tr>\n",
       "      <th>50%</th>\n",
       "      <td>7500.000000</td>\n",
       "      <td>51.000000</td>\n",
       "      <td>70.746924</td>\n",
       "      <td>4.000000</td>\n",
       "      <td>0.500000</td>\n",
       "      <td>NaN</td>\n",
       "      <td>2.000000</td>\n",
       "      <td>2.000000</td>\n",
       "    </tr>\n",
       "    <tr>\n",
       "      <th>75%</th>\n",
       "      <td>11500.000000</td>\n",
       "      <td>68.875000</td>\n",
       "      <td>131.481061</td>\n",
       "      <td>4.000000</td>\n",
       "      <td>1.000000</td>\n",
       "      <td>NaN</td>\n",
       "      <td>2.250000</td>\n",
       "      <td>2.250000</td>\n",
       "    </tr>\n",
       "    <tr>\n",
       "      <th>max</th>\n",
       "      <td>34000.000000</td>\n",
       "      <td>99.500000</td>\n",
       "      <td>486.311758</td>\n",
       "      <td>6.000000</td>\n",
       "      <td>1.000000</td>\n",
       "      <td>NaN</td>\n",
       "      <td>3.000000</td>\n",
       "      <td>3.000000</td>\n",
       "    </tr>\n",
       "  </tbody>\n",
       "</table>\n",
       "</div>"
      ],
      "text/plain": [
       "              income  attractive      assets  edueduclass       Dated  \\\n",
       "count     100.000000  100.000000  100.000000   100.000000  100.000000   \n",
       "unique           NaN         NaN         NaN          NaN         NaN   \n",
       "top              NaN         NaN         NaN          NaN         NaN   \n",
       "freq             NaN         NaN         NaN          NaN         NaN   \n",
       "mean     9010.000000   50.500000   96.006300     3.710000    0.500000   \n",
       "std      5832.675288   28.810948   91.082226     1.225116    0.502519   \n",
       "min      3000.000000    1.000000    3.728400     1.000000    0.000000   \n",
       "25%      5000.000000   28.000000   31.665269     3.000000    0.000000   \n",
       "50%      7500.000000   51.000000   70.746924     4.000000    0.500000   \n",
       "75%     11500.000000   68.875000  131.481061     4.000000    1.000000   \n",
       "max     34000.000000   99.500000  486.311758     6.000000    1.000000   \n",
       "\n",
       "        income_rank  attractive_rank  assets_rank  \n",
       "count         100.0       100.000000   100.000000  \n",
       "unique          4.0              NaN          NaN  \n",
       "top             3.0              NaN          NaN  \n",
       "freq           28.0              NaN          NaN  \n",
       "mean            NaN         1.560000     1.510000  \n",
       "std             NaN         1.103896     1.123621  \n",
       "min             NaN         0.000000     0.000000  \n",
       "25%             NaN         1.000000     0.750000  \n",
       "50%             NaN         2.000000     2.000000  \n",
       "75%             NaN         2.250000     2.250000  \n",
       "max             NaN         3.000000     3.000000  "
      ]
     },
     "execution_count": 4,
     "metadata": {},
     "output_type": "execute_result"
    }
   ],
   "source": [
    "orgData = pd.read_csv('date_data2.csv')\n",
    "orgData.income_rank = orgData.income_rank.astype('category')\n",
    "orgData.describe(include='all')"
   ]
  },
  {
   "cell_type": "code",
   "execution_count": 5,
   "metadata": {
    "collapsed": false
   },
   "outputs": [
    {
     "data": {
      "text/plain": [
       "income                int64\n",
       "attractive          float64\n",
       "assets              float64\n",
       "edueduclass           int64\n",
       "Dated                 int64\n",
       "income_rank        category\n",
       "attractive_rank       int64\n",
       "assets_rank           int64\n",
       "dtype: object"
      ]
     },
     "execution_count": 5,
     "metadata": {},
     "output_type": "execute_result"
    }
   ],
   "source": [
    "orgData.dtypes"
   ]
  },
  {
   "cell_type": "markdown",
   "metadata": {},
   "source": [
    "* 选取自变量"
   ]
  },
  {
   "cell_type": "code",
   "execution_count": 8,
   "metadata": {
    "collapsed": false
   },
   "outputs": [
    {
     "data": {
      "text/html": [
       "<div>\n",
       "<table border=\"1\" class=\"dataframe\">\n",
       "  <thead>\n",
       "    <tr style=\"text-align: right;\">\n",
       "      <th></th>\n",
       "      <th>income</th>\n",
       "      <th>attractive</th>\n",
       "      <th>assets</th>\n",
       "      <th>edueduclass</th>\n",
       "    </tr>\n",
       "  </thead>\n",
       "  <tbody>\n",
       "    <tr>\n",
       "      <th>0</th>\n",
       "      <td>3000</td>\n",
       "      <td>9.0</td>\n",
       "      <td>5.145476</td>\n",
       "      <td>1</td>\n",
       "    </tr>\n",
       "    <tr>\n",
       "      <th>1</th>\n",
       "      <td>3000</td>\n",
       "      <td>14.5</td>\n",
       "      <td>40.643781</td>\n",
       "      <td>4</td>\n",
       "    </tr>\n",
       "    <tr>\n",
       "      <th>2</th>\n",
       "      <td>3000</td>\n",
       "      <td>6.0</td>\n",
       "      <td>5.145476</td>\n",
       "      <td>1</td>\n",
       "    </tr>\n",
       "    <tr>\n",
       "      <th>3</th>\n",
       "      <td>3000</td>\n",
       "      <td>1.0</td>\n",
       "      <td>7.067434</td>\n",
       "      <td>1</td>\n",
       "    </tr>\n",
       "    <tr>\n",
       "      <th>4</th>\n",
       "      <td>3500</td>\n",
       "      <td>14.5</td>\n",
       "      <td>3.728400</td>\n",
       "      <td>2</td>\n",
       "    </tr>\n",
       "  </tbody>\n",
       "</table>\n",
       "</div>"
      ],
      "text/plain": [
       "   income  attractive     assets  edueduclass\n",
       "0    3000         9.0   5.145476            1\n",
       "1    3000        14.5  40.643781            4\n",
       "2    3000         6.0   5.145476            1\n",
       "3    3000         1.0   7.067434            1\n",
       "4    3500        14.5   3.728400            2"
      ]
     },
     "execution_count": 8,
     "metadata": {},
     "output_type": "execute_result"
    }
   ],
   "source": [
    "X = orgData.iloc[:, :4]\n",
    "Y = orgData[['Dated']]\n",
    "X.head()"
   ]
  },
  {
   "cell_type": "markdown",
   "metadata": {},
   "source": [
    "* 极值标准化"
   ]
  },
  {
   "cell_type": "code",
   "execution_count": 4,
   "metadata": {
    "collapsed": false
   },
   "outputs": [
    {
     "data": {
      "text/plain": [
       "array([[ 0.        ,  0.13705584,  0.07649535,  0.6       ],\n",
       "       [ 0.        ,  0.05076142,  0.00293644,  0.        ],\n",
       "       [ 0.        ,  0.        ,  0.00691908,  0.        ],\n",
       "       [ 0.01612903,  0.13705584,  0.        ,  0.2       ]])"
      ]
     },
     "execution_count": 4,
     "metadata": {},
     "output_type": "execute_result"
    }
   ],
   "source": [
    "from sklearn import preprocessing\n",
    "\n",
    "min_max_scaler = preprocessing.MinMaxScaler()\n",
    "X_scaled = min_max_scaler.fit_transform(X)\n",
    "X_scaled[1:5]"
   ]
  },
  {
   "cell_type": "markdown",
   "metadata": {},
   "source": [
    "* 划分训练集和测试集"
   ]
  },
  {
   "cell_type": "code",
   "execution_count": 5,
   "metadata": {
    "collapsed": false
   },
   "outputs": [],
   "source": [
    "train_data, test_data, train_target, test_target = cross_validation.train_test_split(\n",
    "    X_scaled, Y, test_size=0.2, train_size=0.8, random_state=123)   #划分训练集和测试集"
   ]
  },
  {
   "cell_type": "markdown",
   "metadata": {},
   "source": [
    "上述过程有没有问题？"
   ]
  },
  {
   "cell_type": "markdown",
   "metadata": {},
   "source": [
    "* 建模"
   ]
  },
  {
   "cell_type": "code",
   "execution_count": 6,
   "metadata": {
    "collapsed": false
   },
   "outputs": [],
   "source": [
    "from sklearn.neighbors import KNeighborsClassifier\n",
    "\n",
    "model = KNeighborsClassifier(n_neighbors=3)  # 默认欧氏距离\n",
    "model.fit(train_data, train_target.values.flatten())\n",
    "test_est = model.predict(test_data)"
   ]
  },
  {
   "cell_type": "markdown",
   "metadata": {},
   "source": [
    "* 验证"
   ]
  },
  {
   "cell_type": "code",
   "execution_count": 7,
   "metadata": {
    "collapsed": false
   },
   "outputs": [
    {
     "name": "stdout",
     "output_type": "stream",
     "text": [
      "[[ 8  1]\n",
      " [ 1 10]]\n",
      "             precision    recall  f1-score   support\n",
      "\n",
      "          0       0.89      0.89      0.89         9\n",
      "          1       0.91      0.91      0.91        11\n",
      "\n",
      "avg / total       0.90      0.90      0.90        20\n",
      "\n"
     ]
    }
   ],
   "source": [
    "import sklearn.metrics as metrics\n",
    "\n",
    "print(metrics.confusion_matrix(test_target, test_est, labels=[0, 1]))  # 混淆矩阵\n",
    "print(metrics.classification_report(test_target, test_est))"
   ]
  },
  {
   "cell_type": "code",
   "execution_count": 8,
   "metadata": {
    "collapsed": false
   },
   "outputs": [
    {
     "data": {
      "text/plain": [
       "0.90000000000000002"
      ]
     },
     "execution_count": 8,
     "metadata": {},
     "output_type": "execute_result"
    }
   ],
   "source": [
    "model.score(test_data, test_target)"
   ]
  },
  {
   "cell_type": "markdown",
   "metadata": {},
   "source": [
    "* 选择k值"
   ]
  },
  {
   "cell_type": "code",
   "execution_count": 9,
   "metadata": {
    "collapsed": false,
    "scrolled": false
   },
   "outputs": [
    {
     "name": "stdout",
     "output_type": "stream",
     "text": [
      "1 \t 0.9\n",
      "2 \t 0.85\n",
      "3 \t 0.9\n",
      "4 \t 0.9\n",
      "5 \t 0.9\n",
      "6 \t 0.85\n",
      "7 \t 0.9\n",
      "8 \t 0.85\n",
      "9 \t 0.9\n",
      "10 \t 0.85\n",
      "11 \t 0.9\n",
      "12 \t 0.95\n",
      "13 \t 1.0\n",
      "14 \t 1.0\n"
     ]
    }
   ],
   "source": [
    "for k in range(1, 15):\n",
    "    k_model = KNeighborsClassifier(n_neighbors=k)\n",
    "    k_model.fit(train_data, train_target.values.flatten())\n",
    "    score = k_model.score(test_data, test_target)\n",
    "    print(k, '\\t', score)"
   ]
  },
  {
   "cell_type": "markdown",
   "metadata": {},
   "source": [
    "* 交叉验证选择k值"
   ]
  },
  {
   "cell_type": "code",
   "execution_count": 10,
   "metadata": {
    "collapsed": false
   },
   "outputs": [
    {
     "data": {
      "text/plain": [
       "{'mean_fit_time': array([ 0.00033339,  0.00033339,  0.00066678,  0.00066678,  0.00066678,\n",
       "         0.0006667 ,  0.00033339,  0.00066662,  0.00066662,  0.        ,\n",
       "         0.        ,  0.00033331,  0.00033339,  0.00066678]),\n",
       " 'mean_score_time': array([ 0.00100001,  0.00100009,  0.00066662,  0.        ,  0.        ,\n",
       "         0.00033339,  0.00066678,  0.        ,  0.00033339,  0.00100001,\n",
       "         0.00100001,  0.        ,  0.0006667 ,  0.00033331]),\n",
       " 'mean_test_score': array([ 0.8375,  0.825 ,  0.8625,  0.825 ,  0.875 ,  0.825 ,  0.8375,\n",
       "         0.8125,  0.8   ,  0.8   ,  0.7875,  0.7875,  0.8125,  0.7875]),\n",
       " 'mean_train_score': array([ 1.        ,  0.94397857,  0.93745632,  0.91276497,  0.91905427,\n",
       "         0.92522711,  0.91893781,  0.88131843,  0.87491265,  0.88131843,\n",
       "         0.89378057,  0.86873981,  0.86873981,  0.86256697]),\n",
       " 'param_n_neighbors': masked_array(data = [1 2 3 4 5 6 7 8 9 10 11 12 13 14],\n",
       "              mask = [False False False False False False False False False False False False\n",
       "  False False],\n",
       "        fill_value = ?),\n",
       " 'params': ({'n_neighbors': 1},\n",
       "  {'n_neighbors': 2},\n",
       "  {'n_neighbors': 3},\n",
       "  {'n_neighbors': 4},\n",
       "  {'n_neighbors': 5},\n",
       "  {'n_neighbors': 6},\n",
       "  {'n_neighbors': 7},\n",
       "  {'n_neighbors': 8},\n",
       "  {'n_neighbors': 9},\n",
       "  {'n_neighbors': 10},\n",
       "  {'n_neighbors': 11},\n",
       "  {'n_neighbors': 12},\n",
       "  {'n_neighbors': 13},\n",
       "  {'n_neighbors': 14}),\n",
       " 'rank_test_score': array([ 3,  5,  2,  5,  1,  5,  3,  8, 10, 10, 12, 12,  8, 12]),\n",
       " 'split0_test_score': array([ 0.85185185,  0.85185185,  0.85185185,  0.81481481,  0.85185185,\n",
       "         0.85185185,  0.88888889,  0.88888889,  0.88888889,  0.88888889,\n",
       "         0.88888889,  0.88888889,  0.92592593,  0.92592593]),\n",
       " 'split0_train_score': array([ 1.        ,  0.98113208,  0.96226415,  0.94339623,  0.96226415,\n",
       "         0.96226415,  0.94339623,  0.88679245,  0.88679245,  0.88679245,\n",
       "         0.88679245,  0.8490566 ,  0.88679245,  0.8490566 ]),\n",
       " 'split1_test_score': array([ 0.77777778,  0.7037037 ,  0.77777778,  0.74074074,  0.81481481,\n",
       "         0.74074074,  0.74074074,  0.66666667,  0.62962963,  0.66666667,\n",
       "         0.62962963,  0.66666667,  0.7037037 ,  0.66666667]),\n",
       " 'split1_train_score': array([ 1.        ,  0.94339623,  0.90566038,  0.9245283 ,  0.9245283 ,\n",
       "         0.9245283 ,  0.9245283 ,  0.88679245,  0.8490566 ,  0.88679245,\n",
       "         0.90566038,  0.88679245,  0.8490566 ,  0.88679245]),\n",
       " 'split2_test_score': array([ 0.88461538,  0.92307692,  0.96153846,  0.92307692,  0.96153846,\n",
       "         0.88461538,  0.88461538,  0.88461538,  0.88461538,  0.84615385,\n",
       "         0.84615385,  0.80769231,  0.80769231,  0.76923077]),\n",
       " 'split2_train_score': array([ 1.        ,  0.90740741,  0.94444444,  0.87037037,  0.87037037,\n",
       "         0.88888889,  0.88888889,  0.87037037,  0.88888889,  0.87037037,\n",
       "         0.88888889,  0.87037037,  0.87037037,  0.85185185]),\n",
       " 'std_fit_time': array([ 0.00047148,  0.00047148,  0.00047148,  0.00047148,  0.00047148,\n",
       "         0.00047143,  0.00047148,  0.00047137,  0.00047137,  0.        ,\n",
       "         0.        ,  0.00047137,  0.00047148,  0.00047148]),\n",
       " 'std_score_time': array([  1.12391596e-07,   1.12391596e-07,   4.71370354e-04,\n",
       "          0.00000000e+00,   0.00000000e+00,   4.71482745e-04,\n",
       "          4.71482745e-04,   0.00000000e+00,   4.71482745e-04,\n",
       "          1.12391596e-07,   1.12391596e-07,   0.00000000e+00,\n",
       "          4.71426560e-04,   4.71370354e-04]),\n",
       " 'std_test_score': array([ 0.04466259,  0.09129685,  0.07515712,  0.07454754,  0.06194555,\n",
       "         0.06159964,  0.06908346,  0.10410254,  0.12161368,  0.09674179,\n",
       "         0.11401325,  0.09235609,  0.09134803,  0.10725341]),\n",
       " 'std_train_score': array([ 0.        ,  0.03010079,  0.0236308 ,  0.03095132,  0.03771463,\n",
       "         0.0299594 ,  0.02260092,  0.00774144,  0.01830301,  0.00774144,\n",
       "         0.00844378,  0.01544868,  0.01544868,  0.01716797])}"
      ]
     },
     "execution_count": 10,
     "metadata": {},
     "output_type": "execute_result"
    }
   ],
   "source": [
    "from sklearn.model_selection import ParameterGrid\n",
    "from sklearn.model_selection import GridSearchCV \n",
    "from sklearn.model_selection import KFold\n",
    "\n",
    "n_samples = len(train_data)\n",
    "kf = KFold(n_splits=3) # Set parameter to 'n=n_samples, n_folds=3' in old version\n",
    "grid = ParameterGrid({'n_neighbors':[range(1,15),]})\n",
    "estimator = KNeighborsClassifier()\n",
    "# kfold = KFold()\n",
    "gridSearchCV = GridSearchCV(estimator, grid, cv=3)\n",
    "gridSearchCV.fit(train_data, train_target.values.flatten())\n",
    "# gridSearchCV.grid_scores_  # Use it in old version\n",
    "gridSearchCV.cv_results_"
   ]
  },
  {
   "cell_type": "code",
   "execution_count": 11,
   "metadata": {
    "collapsed": false
   },
   "outputs": [
    {
     "data": {
      "text/plain": [
       "{'n_neighbors': 5}"
      ]
     },
     "execution_count": 11,
     "metadata": {},
     "output_type": "execute_result"
    }
   ],
   "source": [
    "gridSearchCV.best_params_"
   ]
  },
  {
   "cell_type": "code",
   "execution_count": 12,
   "metadata": {
    "collapsed": false
   },
   "outputs": [
    {
     "data": {
      "text/plain": [
       "0.90000000000000002"
      ]
     },
     "execution_count": 12,
     "metadata": {},
     "output_type": "execute_result"
    }
   ],
   "source": [
    "best = gridSearchCV.best_estimator_ \n",
    "best.score(test_data, test_target)"
   ]
  },
  {
   "cell_type": "markdown",
   "metadata": {},
   "source": [
    "练习：试一试哪些参数会影响结果"
   ]
  }
 ],
 "metadata": {
  "anaconda-cloud": {},
  "kernelspec": {
   "display_name": "Python [conda root]",
   "language": "python",
   "name": "conda-root-py"
  },
  "language_info": {
   "codemirror_mode": {
    "name": "ipython",
    "version": 3
   },
   "file_extension": ".py",
   "mimetype": "text/x-python",
   "name": "python",
   "nbconvert_exporter": "python",
   "pygments_lexer": "ipython3",
   "version": "3.5.2"
  }
 },
 "nbformat": 4,
 "nbformat_minor": 0
}
