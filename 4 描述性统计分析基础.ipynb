{
 "cells": [
  {
   "cell_type": "markdown",
   "metadata": {
    "collapsed": true
   },
   "source": [
    "#  描述性统计分析基础\n",
    "- 数据集描述与属性说明\n",
    "- 数据说明：本数据是一份汽车贷款违约数据,因变量为是否违约(bad_ind)\n",
    "- [T]因变量,[N]数值变量,[C]分类变量,[S]序数变量,[D]时间\n",
    "- application_id\t申请者ID\n",
    "- account_number\t帐户号\n",
    "- [T]bad_ind\t是否违约\n",
    "- [D]vehicle_year\t汽车购买时间\n",
    "- [C]vehicle_make\t汽车制造商\n",
    "- [C]bankruptcy_ind\t曾经破产标识\n",
    "- [N]tot_derog\t五年内信用不良事件数量(比如手机欠费消号)\n",
    "- [N]tot_tr\t全部帐户数量\n",
    "- [N]age_oldest_tr\t最久账号存续时间(月)\n",
    "- [N]tot_open_tr\t在使用帐户数量\n",
    "- [N]tot_rev_tr\t在使用可循环贷款帐户数量(比如信用卡)\n",
    "- [N]tot_rev_debt\t在使用可循环贷款帐户余额(比如信用卡欠款)\n",
    "- [N]tot_rev_line\t可循环贷款帐户限额(信用卡授权额度)\n",
    "- [N]rev_util\t可循环贷款帐户使用比例(余额/限额)\n",
    "- [N]fico_score\tFICO打分\n",
    "- [N]purch_price\t汽车购买金额(元)\n",
    "- [N]msrp\t建议售价\n",
    "- [N]down_pyt\t分期付款的首次交款\n",
    "- [N]loan_term\t贷款期限(月)\n",
    "- [N]loan_amt\t贷款金额\n",
    "- [N]ltv\t贷款金额/建议售价*100\n",
    "- [N]tot_income\t月均收入(元)\n",
    "- [N]veh_mileage\t行使历程(Mile)\n",
    "- [C]used_ind\t是否使用\n",
    "- [N]weight\t样本权重"
   ]
  },
  {
   "cell_type": "code",
   "execution_count": 1,
   "metadata": {
    "collapsed": false
   },
   "outputs": [],
   "source": [
    "import os\n",
    "import pandas as pd\n",
    "import numpy as np\n",
    "\n",
    "pd.set_option('display.max_columns', None)\n",
    "# os.chdir('Q:/data')\n",
    "# os.getcwd()"
   ]
  },
  {
   "cell_type": "code",
   "execution_count": 2,
   "metadata": {
    "collapsed": false
   },
   "outputs": [
    {
     "data": {
      "text/html": [
       "<div>\n",
       "<style scoped>\n",
       "    .dataframe tbody tr th:only-of-type {\n",
       "        vertical-align: middle;\n",
       "    }\n",
       "\n",
       "    .dataframe tbody tr th {\n",
       "        vertical-align: top;\n",
       "    }\n",
       "\n",
       "    .dataframe thead th {\n",
       "        text-align: right;\n",
       "    }\n",
       "</style>\n",
       "<table border=\"1\" class=\"dataframe\">\n",
       "  <thead>\n",
       "    <tr style=\"text-align: right;\">\n",
       "      <th></th>\n",
       "      <th>application_id</th>\n",
       "      <th>account_number</th>\n",
       "      <th>bad_ind</th>\n",
       "      <th>vehicle_year</th>\n",
       "      <th>vehicle_make</th>\n",
       "      <th>bankruptcy_ind</th>\n",
       "      <th>tot_derog</th>\n",
       "      <th>tot_tr</th>\n",
       "      <th>age_oldest_tr</th>\n",
       "      <th>tot_open_tr</th>\n",
       "      <th>tot_rev_tr</th>\n",
       "      <th>tot_rev_debt</th>\n",
       "      <th>tot_rev_line</th>\n",
       "      <th>rev_util</th>\n",
       "      <th>fico_score</th>\n",
       "      <th>purch_price</th>\n",
       "      <th>msrp</th>\n",
       "      <th>down_pyt</th>\n",
       "      <th>loan_term</th>\n",
       "      <th>loan_amt</th>\n",
       "      <th>ltv</th>\n",
       "      <th>tot_income</th>\n",
       "      <th>veh_mileage</th>\n",
       "      <th>used_ind</th>\n",
       "      <th>weight</th>\n",
       "    </tr>\n",
       "  </thead>\n",
       "  <tbody>\n",
       "    <tr>\n",
       "      <th>0</th>\n",
       "      <td>2314049</td>\n",
       "      <td>11613</td>\n",
       "      <td>1</td>\n",
       "      <td>1998.0</td>\n",
       "      <td>FORD</td>\n",
       "      <td>N</td>\n",
       "      <td>7.0</td>\n",
       "      <td>9.0</td>\n",
       "      <td>64.0</td>\n",
       "      <td>2.0</td>\n",
       "      <td>1.0</td>\n",
       "      <td>506.0</td>\n",
       "      <td>500.0</td>\n",
       "      <td>101</td>\n",
       "      <td>650.0</td>\n",
       "      <td>17200.00</td>\n",
       "      <td>17350.0</td>\n",
       "      <td>0.00</td>\n",
       "      <td>36</td>\n",
       "      <td>17200.00</td>\n",
       "      <td>99.0</td>\n",
       "      <td>6550.00</td>\n",
       "      <td>24000.0</td>\n",
       "      <td>1</td>\n",
       "      <td>1.00</td>\n",
       "    </tr>\n",
       "    <tr>\n",
       "      <th>1</th>\n",
       "      <td>63539</td>\n",
       "      <td>13449</td>\n",
       "      <td>0</td>\n",
       "      <td>2000.0</td>\n",
       "      <td>DAEWOO</td>\n",
       "      <td>N</td>\n",
       "      <td>0.0</td>\n",
       "      <td>21.0</td>\n",
       "      <td>240.0</td>\n",
       "      <td>11.0</td>\n",
       "      <td>7.0</td>\n",
       "      <td>34605.0</td>\n",
       "      <td>57241.0</td>\n",
       "      <td>60</td>\n",
       "      <td>649.0</td>\n",
       "      <td>19588.54</td>\n",
       "      <td>19788.0</td>\n",
       "      <td>683.54</td>\n",
       "      <td>60</td>\n",
       "      <td>19588.54</td>\n",
       "      <td>99.0</td>\n",
       "      <td>4666.67</td>\n",
       "      <td>22.0</td>\n",
       "      <td>0</td>\n",
       "      <td>4.75</td>\n",
       "    </tr>\n",
       "  </tbody>\n",
       "</table>\n",
       "</div>"
      ],
      "text/plain": [
       "   application_id  account_number  bad_ind  vehicle_year vehicle_make  \\\n",
       "0         2314049           11613        1        1998.0         FORD   \n",
       "1           63539           13449        0        2000.0       DAEWOO   \n",
       "\n",
       "  bankruptcy_ind  tot_derog  tot_tr  age_oldest_tr  tot_open_tr  tot_rev_tr  \\\n",
       "0              N        7.0     9.0           64.0          2.0         1.0   \n",
       "1              N        0.0    21.0          240.0         11.0         7.0   \n",
       "\n",
       "   tot_rev_debt  tot_rev_line  rev_util  fico_score  purch_price     msrp  \\\n",
       "0         506.0         500.0       101       650.0     17200.00  17350.0   \n",
       "1       34605.0       57241.0        60       649.0     19588.54  19788.0   \n",
       "\n",
       "   down_pyt  loan_term  loan_amt   ltv  tot_income  veh_mileage  used_ind  \\\n",
       "0      0.00         36  17200.00  99.0     6550.00      24000.0         1   \n",
       "1    683.54         60  19588.54  99.0     4666.67         22.0         0   \n",
       "\n",
       "   weight  \n",
       "0    1.00  \n",
       "1    4.75  "
      ]
     },
     "execution_count": 2,
     "metadata": {},
     "output_type": "execute_result"
    }
   ],
   "source": [
    "# 读取数据\n",
    "accepts = pd.read_csv('accepts.csv')\n",
    "accepts.head(2)"
   ]
  },
  {
   "cell_type": "code",
   "execution_count": 3,
   "metadata": {
    "collapsed": false
   },
   "outputs": [
    {
     "data": {
      "text/plain": [
       "application_id      int64\n",
       "account_number      int64\n",
       "bad_ind             int64\n",
       "vehicle_year      float64\n",
       "vehicle_make       object\n",
       "bankruptcy_ind     object\n",
       "tot_derog         float64\n",
       "tot_tr            float64\n",
       "age_oldest_tr     float64\n",
       "tot_open_tr       float64\n",
       "tot_rev_tr        float64\n",
       "tot_rev_debt      float64\n",
       "tot_rev_line      float64\n",
       "rev_util            int64\n",
       "fico_score        float64\n",
       "purch_price       float64\n",
       "msrp              float64\n",
       "down_pyt          float64\n",
       "loan_term           int64\n",
       "loan_amt          float64\n",
       "ltv               float64\n",
       "tot_income        float64\n",
       "veh_mileage       float64\n",
       "used_ind            int64\n",
       "weight            float64\n",
       "dtype: object"
      ]
     },
     "execution_count": 3,
     "metadata": {},
     "output_type": "execute_result"
    }
   ],
   "source": [
    "# 数据预处理\n",
    "accepts.dtypes"
   ]
  },
  {
   "cell_type": "code",
   "execution_count": 4,
   "metadata": {
    "collapsed": false
   },
   "outputs": [
    {
     "name": "stdout",
     "output_type": "stream",
     "text": [
      "<class 'pandas.core.frame.DataFrame'>\n",
      "RangeIndex: 5845 entries, 0 to 5844\n",
      "Data columns (total 25 columns):\n",
      "application_id    5845 non-null int64\n",
      "account_number    5845 non-null int64\n",
      "bad_ind           5845 non-null int64\n",
      "vehicle_year      5844 non-null float64\n",
      "vehicle_make      5546 non-null object\n",
      "bankruptcy_ind    5628 non-null object\n",
      "tot_derog         5632 non-null float64\n",
      "tot_tr            5632 non-null float64\n",
      "age_oldest_tr     5629 non-null float64\n",
      "tot_open_tr       4426 non-null float64\n",
      "tot_rev_tr        5207 non-null float64\n",
      "tot_rev_debt      5367 non-null float64\n",
      "tot_rev_line      5367 non-null float64\n",
      "rev_util          5845 non-null int64\n",
      "fico_score        5531 non-null float64\n",
      "purch_price       5845 non-null float64\n",
      "msrp              5844 non-null float64\n",
      "down_pyt          5845 non-null float64\n",
      "loan_term         5845 non-null int64\n",
      "loan_amt          5845 non-null float64\n",
      "ltv               5844 non-null float64\n",
      "tot_income        5840 non-null float64\n",
      "veh_mileage       5844 non-null float64\n",
      "used_ind          5845 non-null int64\n",
      "weight            5845 non-null float64\n",
      "dtypes: float64(17), int64(6), object(2)\n",
      "memory usage: 1.1+ MB\n"
     ]
    }
   ],
   "source": [
    "accepts.info()"
   ]
  },
  {
   "cell_type": "code",
   "execution_count": 5,
   "metadata": {
    "collapsed": false
   },
   "outputs": [
    {
     "data": {
      "text/html": [
       "<div>\n",
       "<style scoped>\n",
       "    .dataframe tbody tr th:only-of-type {\n",
       "        vertical-align: middle;\n",
       "    }\n",
       "\n",
       "    .dataframe tbody tr th {\n",
       "        vertical-align: top;\n",
       "    }\n",
       "\n",
       "    .dataframe thead th {\n",
       "        text-align: right;\n",
       "    }\n",
       "</style>\n",
       "<table border=\"1\" class=\"dataframe\">\n",
       "  <thead>\n",
       "    <tr style=\"text-align: right;\">\n",
       "      <th></th>\n",
       "      <th>application_id</th>\n",
       "      <th>account_number</th>\n",
       "      <th>bad_ind</th>\n",
       "      <th>vehicle_year</th>\n",
       "      <th>vehicle_make</th>\n",
       "      <th>bankruptcy_ind</th>\n",
       "      <th>tot_derog</th>\n",
       "      <th>tot_tr</th>\n",
       "      <th>age_oldest_tr</th>\n",
       "      <th>tot_open_tr</th>\n",
       "      <th>tot_rev_tr</th>\n",
       "      <th>tot_rev_debt</th>\n",
       "      <th>tot_rev_line</th>\n",
       "      <th>rev_util</th>\n",
       "      <th>fico_score</th>\n",
       "      <th>purch_price</th>\n",
       "      <th>msrp</th>\n",
       "      <th>down_pyt</th>\n",
       "      <th>loan_term</th>\n",
       "      <th>loan_amt</th>\n",
       "      <th>ltv</th>\n",
       "      <th>tot_income</th>\n",
       "      <th>veh_mileage</th>\n",
       "      <th>used_ind</th>\n",
       "      <th>weight</th>\n",
       "    </tr>\n",
       "  </thead>\n",
       "  <tbody>\n",
       "    <tr>\n",
       "      <th>count</th>\n",
       "      <td>5.845000e+03</td>\n",
       "      <td>5.845000e+03</td>\n",
       "      <td>5845.000000</td>\n",
       "      <td>5844.000000</td>\n",
       "      <td>5546</td>\n",
       "      <td>5628</td>\n",
       "      <td>5632.000000</td>\n",
       "      <td>5632.000000</td>\n",
       "      <td>5629.000000</td>\n",
       "      <td>4426.000000</td>\n",
       "      <td>5207.000000</td>\n",
       "      <td>5367.000000</td>\n",
       "      <td>5367.000000</td>\n",
       "      <td>5845.000000</td>\n",
       "      <td>5531.000000</td>\n",
       "      <td>5845.000000</td>\n",
       "      <td>5844.000000</td>\n",
       "      <td>5845.000000</td>\n",
       "      <td>5845.000000</td>\n",
       "      <td>5845.000000</td>\n",
       "      <td>5844.00000</td>\n",
       "      <td>5.840000e+03</td>\n",
       "      <td>5844.000000</td>\n",
       "      <td>5845.000000</td>\n",
       "      <td>5845.000000</td>\n",
       "    </tr>\n",
       "    <tr>\n",
       "      <th>unique</th>\n",
       "      <td>NaN</td>\n",
       "      <td>NaN</td>\n",
       "      <td>NaN</td>\n",
       "      <td>NaN</td>\n",
       "      <td>154</td>\n",
       "      <td>2</td>\n",
       "      <td>NaN</td>\n",
       "      <td>NaN</td>\n",
       "      <td>NaN</td>\n",
       "      <td>NaN</td>\n",
       "      <td>NaN</td>\n",
       "      <td>NaN</td>\n",
       "      <td>NaN</td>\n",
       "      <td>NaN</td>\n",
       "      <td>NaN</td>\n",
       "      <td>NaN</td>\n",
       "      <td>NaN</td>\n",
       "      <td>NaN</td>\n",
       "      <td>NaN</td>\n",
       "      <td>NaN</td>\n",
       "      <td>NaN</td>\n",
       "      <td>NaN</td>\n",
       "      <td>NaN</td>\n",
       "      <td>NaN</td>\n",
       "      <td>NaN</td>\n",
       "    </tr>\n",
       "    <tr>\n",
       "      <th>top</th>\n",
       "      <td>NaN</td>\n",
       "      <td>NaN</td>\n",
       "      <td>NaN</td>\n",
       "      <td>NaN</td>\n",
       "      <td>FORD</td>\n",
       "      <td>N</td>\n",
       "      <td>NaN</td>\n",
       "      <td>NaN</td>\n",
       "      <td>NaN</td>\n",
       "      <td>NaN</td>\n",
       "      <td>NaN</td>\n",
       "      <td>NaN</td>\n",
       "      <td>NaN</td>\n",
       "      <td>NaN</td>\n",
       "      <td>NaN</td>\n",
       "      <td>NaN</td>\n",
       "      <td>NaN</td>\n",
       "      <td>NaN</td>\n",
       "      <td>NaN</td>\n",
       "      <td>NaN</td>\n",
       "      <td>NaN</td>\n",
       "      <td>NaN</td>\n",
       "      <td>NaN</td>\n",
       "      <td>NaN</td>\n",
       "      <td>NaN</td>\n",
       "    </tr>\n",
       "    <tr>\n",
       "      <th>freq</th>\n",
       "      <td>NaN</td>\n",
       "      <td>NaN</td>\n",
       "      <td>NaN</td>\n",
       "      <td>NaN</td>\n",
       "      <td>1112</td>\n",
       "      <td>5180</td>\n",
       "      <td>NaN</td>\n",
       "      <td>NaN</td>\n",
       "      <td>NaN</td>\n",
       "      <td>NaN</td>\n",
       "      <td>NaN</td>\n",
       "      <td>NaN</td>\n",
       "      <td>NaN</td>\n",
       "      <td>NaN</td>\n",
       "      <td>NaN</td>\n",
       "      <td>NaN</td>\n",
       "      <td>NaN</td>\n",
       "      <td>NaN</td>\n",
       "      <td>NaN</td>\n",
       "      <td>NaN</td>\n",
       "      <td>NaN</td>\n",
       "      <td>NaN</td>\n",
       "      <td>NaN</td>\n",
       "      <td>NaN</td>\n",
       "      <td>NaN</td>\n",
       "    </tr>\n",
       "    <tr>\n",
       "      <th>mean</th>\n",
       "      <td>5.039359e+06</td>\n",
       "      <td>5.021740e+06</td>\n",
       "      <td>0.204790</td>\n",
       "      <td>1901.793634</td>\n",
       "      <td>NaN</td>\n",
       "      <td>NaN</td>\n",
       "      <td>1.910156</td>\n",
       "      <td>17.084695</td>\n",
       "      <td>154.304317</td>\n",
       "      <td>5.720063</td>\n",
       "      <td>3.093336</td>\n",
       "      <td>6218.619899</td>\n",
       "      <td>18262.655674</td>\n",
       "      <td>43.444482</td>\n",
       "      <td>693.528657</td>\n",
       "      <td>19145.235109</td>\n",
       "      <td>18643.180243</td>\n",
       "      <td>1325.375624</td>\n",
       "      <td>56.806159</td>\n",
       "      <td>17660.066222</td>\n",
       "      <td>98.78525</td>\n",
       "      <td>6.206255e+03</td>\n",
       "      <td>20167.981348</td>\n",
       "      <td>0.564756</td>\n",
       "      <td>3.982036</td>\n",
       "    </tr>\n",
       "    <tr>\n",
       "      <th>std</th>\n",
       "      <td>2.880450e+06</td>\n",
       "      <td>2.873516e+06</td>\n",
       "      <td>0.403583</td>\n",
       "      <td>488.024392</td>\n",
       "      <td>NaN</td>\n",
       "      <td>NaN</td>\n",
       "      <td>3.274744</td>\n",
       "      <td>10.814056</td>\n",
       "      <td>99.940540</td>\n",
       "      <td>3.165783</td>\n",
       "      <td>2.401923</td>\n",
       "      <td>8657.667616</td>\n",
       "      <td>20942.605070</td>\n",
       "      <td>75.289977</td>\n",
       "      <td>57.841522</td>\n",
       "      <td>9356.070282</td>\n",
       "      <td>10190.495573</td>\n",
       "      <td>2435.177463</td>\n",
       "      <td>14.547659</td>\n",
       "      <td>9095.267595</td>\n",
       "      <td>18.08215</td>\n",
       "      <td>1.073186e+05</td>\n",
       "      <td>29464.181138</td>\n",
       "      <td>0.495831</td>\n",
       "      <td>1.513436</td>\n",
       "    </tr>\n",
       "    <tr>\n",
       "      <th>min</th>\n",
       "      <td>4.065000e+03</td>\n",
       "      <td>1.161300e+04</td>\n",
       "      <td>0.000000</td>\n",
       "      <td>0.000000</td>\n",
       "      <td>NaN</td>\n",
       "      <td>NaN</td>\n",
       "      <td>0.000000</td>\n",
       "      <td>0.000000</td>\n",
       "      <td>1.000000</td>\n",
       "      <td>0.000000</td>\n",
       "      <td>0.000000</td>\n",
       "      <td>0.000000</td>\n",
       "      <td>0.000000</td>\n",
       "      <td>0.000000</td>\n",
       "      <td>443.000000</td>\n",
       "      <td>0.000000</td>\n",
       "      <td>0.000000</td>\n",
       "      <td>0.000000</td>\n",
       "      <td>12.000000</td>\n",
       "      <td>2133.400000</td>\n",
       "      <td>0.00000</td>\n",
       "      <td>0.000000e+00</td>\n",
       "      <td>0.000000</td>\n",
       "      <td>0.000000</td>\n",
       "      <td>1.000000</td>\n",
       "    </tr>\n",
       "    <tr>\n",
       "      <th>25%</th>\n",
       "      <td>2.513980e+06</td>\n",
       "      <td>2.567174e+06</td>\n",
       "      <td>0.000000</td>\n",
       "      <td>1997.000000</td>\n",
       "      <td>NaN</td>\n",
       "      <td>NaN</td>\n",
       "      <td>0.000000</td>\n",
       "      <td>9.000000</td>\n",
       "      <td>78.000000</td>\n",
       "      <td>3.000000</td>\n",
       "      <td>1.000000</td>\n",
       "      <td>791.000000</td>\n",
       "      <td>3235.500000</td>\n",
       "      <td>5.000000</td>\n",
       "      <td>653.000000</td>\n",
       "      <td>12684.000000</td>\n",
       "      <td>12050.000000</td>\n",
       "      <td>0.000000</td>\n",
       "      <td>51.000000</td>\n",
       "      <td>11023.000000</td>\n",
       "      <td>90.00000</td>\n",
       "      <td>2.218245e+03</td>\n",
       "      <td>1.000000</td>\n",
       "      <td>0.000000</td>\n",
       "      <td>4.750000</td>\n",
       "    </tr>\n",
       "    <tr>\n",
       "      <th>50%</th>\n",
       "      <td>5.110443e+06</td>\n",
       "      <td>4.988152e+06</td>\n",
       "      <td>0.000000</td>\n",
       "      <td>1999.000000</td>\n",
       "      <td>NaN</td>\n",
       "      <td>NaN</td>\n",
       "      <td>0.000000</td>\n",
       "      <td>16.000000</td>\n",
       "      <td>137.000000</td>\n",
       "      <td>5.000000</td>\n",
       "      <td>3.000000</td>\n",
       "      <td>3009.000000</td>\n",
       "      <td>10574.000000</td>\n",
       "      <td>30.000000</td>\n",
       "      <td>693.000000</td>\n",
       "      <td>18017.750000</td>\n",
       "      <td>17475.000000</td>\n",
       "      <td>500.000000</td>\n",
       "      <td>60.000000</td>\n",
       "      <td>16200.000000</td>\n",
       "      <td>100.00000</td>\n",
       "      <td>3.400000e+03</td>\n",
       "      <td>8000.000000</td>\n",
       "      <td>1.000000</td>\n",
       "      <td>4.750000</td>\n",
       "    </tr>\n",
       "    <tr>\n",
       "      <th>75%</th>\n",
       "      <td>7.526973e+06</td>\n",
       "      <td>7.556672e+06</td>\n",
       "      <td>0.000000</td>\n",
       "      <td>2000.000000</td>\n",
       "      <td>NaN</td>\n",
       "      <td>NaN</td>\n",
       "      <td>2.000000</td>\n",
       "      <td>24.000000</td>\n",
       "      <td>205.000000</td>\n",
       "      <td>7.000000</td>\n",
       "      <td>4.000000</td>\n",
       "      <td>8461.500000</td>\n",
       "      <td>26196.000000</td>\n",
       "      <td>66.000000</td>\n",
       "      <td>735.500000</td>\n",
       "      <td>24500.000000</td>\n",
       "      <td>23751.250000</td>\n",
       "      <td>1750.000000</td>\n",
       "      <td>60.000000</td>\n",
       "      <td>22800.000000</td>\n",
       "      <td>109.00000</td>\n",
       "      <td>5.156250e+03</td>\n",
       "      <td>34135.500000</td>\n",
       "      <td>1.000000</td>\n",
       "      <td>4.750000</td>\n",
       "    </tr>\n",
       "    <tr>\n",
       "      <th>max</th>\n",
       "      <td>1.000012e+07</td>\n",
       "      <td>1.001022e+07</td>\n",
       "      <td>1.000000</td>\n",
       "      <td>9999.000000</td>\n",
       "      <td>NaN</td>\n",
       "      <td>NaN</td>\n",
       "      <td>32.000000</td>\n",
       "      <td>77.000000</td>\n",
       "      <td>588.000000</td>\n",
       "      <td>26.000000</td>\n",
       "      <td>24.000000</td>\n",
       "      <td>96260.000000</td>\n",
       "      <td>205395.000000</td>\n",
       "      <td>2500.000000</td>\n",
       "      <td>848.000000</td>\n",
       "      <td>111554.000000</td>\n",
       "      <td>222415.000000</td>\n",
       "      <td>35000.000000</td>\n",
       "      <td>660.000000</td>\n",
       "      <td>111554.000000</td>\n",
       "      <td>176.00000</td>\n",
       "      <td>8.147167e+06</td>\n",
       "      <td>999999.000000</td>\n",
       "      <td>1.000000</td>\n",
       "      <td>4.750000</td>\n",
       "    </tr>\n",
       "  </tbody>\n",
       "</table>\n",
       "</div>"
      ],
      "text/plain": [
       "        application_id  account_number      bad_ind  vehicle_year  \\\n",
       "count     5.845000e+03    5.845000e+03  5845.000000   5844.000000   \n",
       "unique             NaN             NaN          NaN           NaN   \n",
       "top                NaN             NaN          NaN           NaN   \n",
       "freq               NaN             NaN          NaN           NaN   \n",
       "mean      5.039359e+06    5.021740e+06     0.204790   1901.793634   \n",
       "std       2.880450e+06    2.873516e+06     0.403583    488.024392   \n",
       "min       4.065000e+03    1.161300e+04     0.000000      0.000000   \n",
       "25%       2.513980e+06    2.567174e+06     0.000000   1997.000000   \n",
       "50%       5.110443e+06    4.988152e+06     0.000000   1999.000000   \n",
       "75%       7.526973e+06    7.556672e+06     0.000000   2000.000000   \n",
       "max       1.000012e+07    1.001022e+07     1.000000   9999.000000   \n",
       "\n",
       "       vehicle_make bankruptcy_ind    tot_derog       tot_tr  age_oldest_tr  \\\n",
       "count          5546           5628  5632.000000  5632.000000    5629.000000   \n",
       "unique          154              2          NaN          NaN            NaN   \n",
       "top            FORD              N          NaN          NaN            NaN   \n",
       "freq           1112           5180          NaN          NaN            NaN   \n",
       "mean            NaN            NaN     1.910156    17.084695     154.304317   \n",
       "std             NaN            NaN     3.274744    10.814056      99.940540   \n",
       "min             NaN            NaN     0.000000     0.000000       1.000000   \n",
       "25%             NaN            NaN     0.000000     9.000000      78.000000   \n",
       "50%             NaN            NaN     0.000000    16.000000     137.000000   \n",
       "75%             NaN            NaN     2.000000    24.000000     205.000000   \n",
       "max             NaN            NaN    32.000000    77.000000     588.000000   \n",
       "\n",
       "        tot_open_tr   tot_rev_tr  tot_rev_debt   tot_rev_line     rev_util  \\\n",
       "count   4426.000000  5207.000000   5367.000000    5367.000000  5845.000000   \n",
       "unique          NaN          NaN           NaN            NaN          NaN   \n",
       "top             NaN          NaN           NaN            NaN          NaN   \n",
       "freq            NaN          NaN           NaN            NaN          NaN   \n",
       "mean       5.720063     3.093336   6218.619899   18262.655674    43.444482   \n",
       "std        3.165783     2.401923   8657.667616   20942.605070    75.289977   \n",
       "min        0.000000     0.000000      0.000000       0.000000     0.000000   \n",
       "25%        3.000000     1.000000    791.000000    3235.500000     5.000000   \n",
       "50%        5.000000     3.000000   3009.000000   10574.000000    30.000000   \n",
       "75%        7.000000     4.000000   8461.500000   26196.000000    66.000000   \n",
       "max       26.000000    24.000000  96260.000000  205395.000000  2500.000000   \n",
       "\n",
       "         fico_score    purch_price           msrp      down_pyt    loan_term  \\\n",
       "count   5531.000000    5845.000000    5844.000000   5845.000000  5845.000000   \n",
       "unique          NaN            NaN            NaN           NaN          NaN   \n",
       "top             NaN            NaN            NaN           NaN          NaN   \n",
       "freq            NaN            NaN            NaN           NaN          NaN   \n",
       "mean     693.528657   19145.235109   18643.180243   1325.375624    56.806159   \n",
       "std       57.841522    9356.070282   10190.495573   2435.177463    14.547659   \n",
       "min      443.000000       0.000000       0.000000      0.000000    12.000000   \n",
       "25%      653.000000   12684.000000   12050.000000      0.000000    51.000000   \n",
       "50%      693.000000   18017.750000   17475.000000    500.000000    60.000000   \n",
       "75%      735.500000   24500.000000   23751.250000   1750.000000    60.000000   \n",
       "max      848.000000  111554.000000  222415.000000  35000.000000   660.000000   \n",
       "\n",
       "             loan_amt         ltv    tot_income    veh_mileage     used_ind  \\\n",
       "count     5845.000000  5844.00000  5.840000e+03    5844.000000  5845.000000   \n",
       "unique            NaN         NaN           NaN            NaN          NaN   \n",
       "top               NaN         NaN           NaN            NaN          NaN   \n",
       "freq              NaN         NaN           NaN            NaN          NaN   \n",
       "mean     17660.066222    98.78525  6.206255e+03   20167.981348     0.564756   \n",
       "std       9095.267595    18.08215  1.073186e+05   29464.181138     0.495831   \n",
       "min       2133.400000     0.00000  0.000000e+00       0.000000     0.000000   \n",
       "25%      11023.000000    90.00000  2.218245e+03       1.000000     0.000000   \n",
       "50%      16200.000000   100.00000  3.400000e+03    8000.000000     1.000000   \n",
       "75%      22800.000000   109.00000  5.156250e+03   34135.500000     1.000000   \n",
       "max     111554.000000   176.00000  8.147167e+06  999999.000000     1.000000   \n",
       "\n",
       "             weight  \n",
       "count   5845.000000  \n",
       "unique          NaN  \n",
       "top             NaN  \n",
       "freq            NaN  \n",
       "mean       3.982036  \n",
       "std        1.513436  \n",
       "min        1.000000  \n",
       "25%        4.750000  \n",
       "50%        4.750000  \n",
       "75%        4.750000  \n",
       "max        4.750000  "
      ]
     },
     "execution_count": 5,
     "metadata": {},
     "output_type": "execute_result"
    }
   ],
   "source": [
    "accepts.describe(include='all')"
   ]
  },
  {
   "cell_type": "code",
   "execution_count": 6,
   "metadata": {
    "collapsed": false
   },
   "outputs": [],
   "source": [
    "accepts['bad_ind'] = accepts['bad_ind'].astype('category')\n",
    "accepts['used_ind'] = accepts['used_ind'].astype('category')"
   ]
  },
  {
   "cell_type": "code",
   "execution_count": 7,
   "metadata": {
    "collapsed": false
   },
   "outputs": [
    {
     "data": {
      "text/plain": [
       "[N, N, N, N, N, ..., N, Y, N, N, N]\n",
       "Length: 5845\n",
       "Categories (2, object): [Y < N]"
      ]
     },
     "execution_count": 7,
     "metadata": {},
     "output_type": "execute_result"
    }
   ],
   "source": [
    "pd.Categorical(values= accepts['bankruptcy_ind'], ordered=True, categories=['Y', 'N'])\n",
    "# accepts['bankruptcy_ind'] = pd.Categorical(values= accepts['bankruptcy_ind'], ordered=True, categories=['Y', 'N'])"
   ]
  },
  {
   "cell_type": "markdown",
   "metadata": {
    "collapsed": true
   },
   "source": [
    "## 描述性统计与探索型数据分析\n",
    "- 1.分类变量分析"
   ]
  },
  {
   "cell_type": "code",
   "execution_count": 8,
   "metadata": {
    "collapsed": false
   },
   "outputs": [
    {
     "data": {
      "text/plain": [
       "bad_ind\n",
       "0    4648\n",
       "1    1197\n",
       "Name: bad_ind, dtype: int64"
      ]
     },
     "execution_count": 8,
     "metadata": {},
     "output_type": "execute_result"
    }
   ],
   "source": [
    "accepts['bad_ind'].groupby(accepts['bad_ind']).count()"
   ]
  },
  {
   "cell_type": "markdown",
   "metadata": {
    "collapsed": true
   },
   "source": [
    "- 2.连续变量分析\n",
    "- 2.1.数据的集中趋势\n",
    "FICO_SCORE的均值与中位数\n"
   ]
  },
  {
   "cell_type": "code",
   "execution_count": 9,
   "metadata": {
    "collapsed": false
   },
   "outputs": [
    {
     "data": {
      "text/plain": [
       "pandas.core.series.Series"
      ]
     },
     "execution_count": 9,
     "metadata": {},
     "output_type": "execute_result"
    }
   ],
   "source": [
    "fs = accepts['fico_score'] # 可以使用accepts.fico_score\n",
    "type(fs)"
   ]
  },
  {
   "cell_type": "code",
   "execution_count": 10,
   "metadata": {
    "collapsed": false
   },
   "outputs": [
    {
     "name": "stdout",
     "output_type": "stream",
     "text": [
      "mean = 693.5287\n",
      "median = 693.0000\n",
      "quantiles\n",
      " 0.25    653.0\n",
      "0.50    693.0\n",
      "0.75    735.5\n",
      "Name: fico_score, dtype: float64\n"
     ]
    }
   ],
   "source": [
    "print('mean = %6.4f' %fs.mean())                     # 求fs的均值\n",
    "print('median = %6.4f' %fs.median())                 # 求fs的中位数\n",
    "print('quantiles\\n', fs.quantile([0.25, 0.5, 0.75])) # 求a的上下四分位数与中位数"
   ]
  },
  {
   "cell_type": "code",
   "execution_count": 11,
   "metadata": {
    "collapsed": false
   },
   "outputs": [
    {
     "data": {
      "text/plain": [
       "<matplotlib.axes._subplots.AxesSubplot at 0x8799898>"
      ]
     },
     "execution_count": 11,
     "metadata": {},
     "output_type": "execute_result"
    },
    {
     "data": {
      "image/png": "[encoded data removed]",
      "text/plain": [
       "<matplotlib.figure.Figure at 0x7e39f28>"
      ]
     },
     "metadata": {},
     "output_type": "display_data"
    }
   ],
   "source": [
    "%matplotlib inline\n",
    "\n",
    "fs.plot(kind='hist')"
   ]
  },
  {
   "cell_type": "markdown",
   "metadata": {
    "collapsed": true
   },
   "source": [
    "- 2.2.数据的离散程度"
   ]
  },
  {
   "cell_type": "code",
   "execution_count": 12,
   "metadata": {
    "collapsed": false
   },
   "outputs": [
    {
     "name": "stdout",
     "output_type": "stream",
     "text": [
      "mad = 46.9740\n",
      "range = 405.0000\n",
      "var = 3345.6416\n",
      "std = 57.8415\n"
     ]
    }
   ],
   "source": [
    "print('mad = %6.4f' %fs.mad())      # 求平均绝对偏差 mad = np.abs(fs - fs.mean()).mean()\n",
    "print('range = %6.4f' %(fs.max(skipna=True) - fs.min(skipna=True))) # 求极差\n",
    "print('var = %6.4f' %fs.var())   # 求方差\n",
    "print('std = %6.4f' %fs.std())   # 求标准差"
   ]
  },
  {
   "cell_type": "markdown",
   "metadata": {
    "collapsed": false
   },
   "source": [
    "- 2.3.数据的偏度与峰度-\n",
    "fico_score:正态"
   ]
  },
  {
   "cell_type": "code",
   "execution_count": 13,
   "metadata": {
    "collapsed": false
   },
   "outputs": [
    {
     "data": {
      "text/plain": [
       "(array([   2.,    2.,   11.,   41.,   73.,  176.,  470.,  792.,  956.,\n",
       "         938.,  790.,  644.,  437.,  179.,   20.]),\n",
       " array([ 443.,  470.,  497.,  524.,  551.,  578.,  605.,  632.,  659.,\n",
       "         686.,  713.,  740.,  767.,  794.,  821.,  848.]),\n",
       " <a list of 15 Patch objects>)"
      ]
     },
     "execution_count": 13,
     "metadata": {},
     "output_type": "execute_result"
    },
    {
     "data": {
      "image/png": "[encoded data removed]",
      "text/plain": [
       "<matplotlib.figure.Figure at 0x8816e80>"
      ]
     },
     "metadata": {},
     "output_type": "display_data"
    }
   ],
   "source": [
    "import matplotlib.pyplot as plt\n",
    "\n",
    "plt.hist(fs.dropna(), bins=15)"
   ]
  },
  {
   "cell_type": "code",
   "execution_count": 14,
   "metadata": {
    "collapsed": false
   },
   "outputs": [
    {
     "name": "stdout",
     "output_type": "stream",
     "text": [
      "skewness = -0.1484\n",
      "kurtosis = -0.1941\n"
     ]
    }
   ],
   "source": [
    "print('skewness = %6.4f' %fs.skew(skipna=True))\n",
    "print('kurtosis = %6.4f' %fs.kurt(skipna=True))"
   ]
  },
  {
   "cell_type": "markdown",
   "metadata": {
    "collapsed": true
   },
   "source": [
    " purch_price:右偏"
   ]
  },
  {
   "cell_type": "code",
   "execution_count": 15,
   "metadata": {
    "collapsed": false
   },
   "outputs": [
    {
     "name": "stdout",
     "output_type": "stream",
     "text": [
      "skewness = 1.2041\n",
      "kurtosis = 5.1247\n"
     ]
    },
    {
     "data": {
      "image/png": "[encoded data removed]",
      "text/plain": [
       "<matplotlib.figure.Figure at 0x9af44a8>"
      ]
     },
     "metadata": {},
     "output_type": "display_data"
    }
   ],
   "source": [
    "plt.hist(accepts['purch_price'], bins=20, normed=True)\n",
    "print('skewness = %6.4f' %accepts.purch_price.skew())\n",
    "print('kurtosis = %6.4f' %accepts.purch_price.kurt())"
   ]
  },
  {
   "cell_type": "markdown",
   "metadata": {
    "collapsed": true
   },
   "source": [
    "- 2.4.分布-\n",
    "正态分布模拟函数"
   ]
  },
  {
   "cell_type": "code",
   "execution_count": 16,
   "metadata": {
    "collapsed": false
   },
   "outputs": [
    {
     "data": {
      "image/png": "[encoded data removed]",
      "text/plain": [
       "<matplotlib.figure.Figure at 0x102f668>"
      ]
     },
     "metadata": {},
     "output_type": "display_data"
    }
   ],
   "source": [
    "from scipy import stats\n",
    "import matplotlib.pyplot as plt\n",
    "\n",
    "x = list(map(lambda x: x / 10., range(-40, 41)))\n",
    "norm = stats.norm.pdf(x, loc=0, scale=1) # 随机正态分布概率密度(均值为0，标准差为1)\n",
    "plt.plot(x, norm)\n",
    "plt.show()"
   ]
  },
  {
   "cell_type": "code",
   "execution_count": 17,
   "metadata": {
    "collapsed": false
   },
   "outputs": [
    {
     "data": {
      "image/png": "[encoded data removed]",
      "text/plain": [
       "<matplotlib.figure.Figure at 0x7e56668>"
      ]
     },
     "metadata": {},
     "output_type": "display_data"
    }
   ],
   "source": [
    "points = list(map(lambda x: x / 10.0, range(-40, 41)))\n",
    "plt.plot(points, stats.norm.cdf(points,loc=0, scale=1)) # 正态分布函数\n",
    "plt.show()"
   ]
  },
  {
   "cell_type": "markdown",
   "metadata": {},
   "source": [
    "卡方分布模拟"
   ]
  },
  {
   "cell_type": "code",
   "execution_count": 18,
   "metadata": {
    "collapsed": false
   },
   "outputs": [
    {
     "data": {
      "image/png": "[encoded data removed]",
      "text/plain": [
       "<matplotlib.figure.Figure at 0x88250b8>"
      ]
     },
     "metadata": {},
     "output_type": "display_data"
    }
   ],
   "source": [
    "x = range(1, 31)\n",
    "chi = stats.chi2.pdf(x, df=3, loc=0, scale=1) #生成自由度为3的卡方分布概率密度\n",
    "plt.plot(x, chi)\n",
    "plt.show()"
   ]
  },
  {
   "cell_type": "markdown",
   "metadata": {},
   "source": [
    "t分布模拟"
   ]
  },
  {
   "cell_type": "code",
   "execution_count": 19,
   "metadata": {
    "collapsed": false
   },
   "outputs": [
    {
     "data": {
      "image/png": "[encoded data removed]",
      "text/plain": [
       "<matplotlib.figure.Figure at 0x9f96278>"
      ]
     },
     "metadata": {},
     "output_type": "display_data"
    }
   ],
   "source": [
    "x = np.arange(-4, 4, 0.1)\n",
    "student_t = stats.t.pdf(x, df=5, loc=0, scale=1)#生成自由度为5的t分布的概率密度值\n",
    "norm = stats.norm.pdf(x, loc=0, scale=1)\n",
    "plt.plot(x, student_t, 'b-')\n",
    "plt.plot(x, norm, 'r--')\n",
    "plt.show()"
   ]
  },
  {
   "cell_type": "markdown",
   "metadata": {
    "collapsed": true
   },
   "source": [
    "## 绘图\n",
    "- pandas.plot是matplotlib.pyplot.plot的简单包装"
   ]
  },
  {
   "cell_type": "markdown",
   "metadata": {},
   "source": [
    "散点图"
   ]
  },
  {
   "cell_type": "code",
   "execution_count": 20,
   "metadata": {
    "collapsed": false
   },
   "outputs": [
    {
     "data": {
      "text/plain": [
       "Text(30000,80000,'purch_price VS loan_amt')"
      ]
     },
     "execution_count": 20,
     "metadata": {},
     "output_type": "execute_result"
    },
    {
     "data": {
      "image/png": "[encoded data removed]",
      "text/plain": [
       "<matplotlib.figure.Figure at 0x9afcd30>"
      ]
     },
     "metadata": {},
     "output_type": "display_data"
    }
   ],
   "source": [
    "accepts.plot(x='purch_price', y='loan_amt', kind='scatter') #散点图\n",
    "plt.text(30000, 80000, 'purch_price VS loan_amt') # 加标签"
   ]
  },
  {
   "cell_type": "markdown",
   "metadata": {},
   "source": [
    "柱图/条形图、折线图"
   ]
  },
  {
   "cell_type": "code",
   "execution_count": 21,
   "metadata": {
    "collapsed": false
   },
   "outputs": [
    {
     "data": {
      "text/html": [
       "<div>\n",
       "<style scoped>\n",
       "    .dataframe tbody tr th:only-of-type {\n",
       "        vertical-align: middle;\n",
       "    }\n",
       "\n",
       "    .dataframe tbody tr th {\n",
       "        vertical-align: top;\n",
       "    }\n",
       "\n",
       "    .dataframe thead th {\n",
       "        text-align: right;\n",
       "    }\n",
       "</style>\n",
       "<table border=\"1\" class=\"dataframe\">\n",
       "  <thead>\n",
       "    <tr style=\"text-align: right;\">\n",
       "      <th></th>\n",
       "      <th>application_id</th>\n",
       "      <th>account_number</th>\n",
       "      <th>bad_ind</th>\n",
       "      <th>vehicle_year</th>\n",
       "      <th>vehicle_make</th>\n",
       "      <th>bankruptcy_ind</th>\n",
       "      <th>tot_derog</th>\n",
       "      <th>tot_tr</th>\n",
       "      <th>age_oldest_tr</th>\n",
       "      <th>tot_open_tr</th>\n",
       "      <th>tot_rev_tr</th>\n",
       "      <th>tot_rev_debt</th>\n",
       "      <th>tot_rev_line</th>\n",
       "      <th>rev_util</th>\n",
       "      <th>fico_score</th>\n",
       "      <th>purch_price</th>\n",
       "      <th>msrp</th>\n",
       "      <th>down_pyt</th>\n",
       "      <th>loan_term</th>\n",
       "      <th>loan_amt</th>\n",
       "      <th>ltv</th>\n",
       "      <th>tot_income</th>\n",
       "      <th>veh_mileage</th>\n",
       "      <th>used_ind</th>\n",
       "      <th>weight</th>\n",
       "    </tr>\n",
       "  </thead>\n",
       "  <tbody>\n",
       "    <tr>\n",
       "      <th>0</th>\n",
       "      <td>2314049</td>\n",
       "      <td>11613</td>\n",
       "      <td>1</td>\n",
       "      <td>1998.0</td>\n",
       "      <td>FORD</td>\n",
       "      <td>N</td>\n",
       "      <td>7.0</td>\n",
       "      <td>9.0</td>\n",
       "      <td>64.0</td>\n",
       "      <td>2.0</td>\n",
       "      <td>1.0</td>\n",
       "      <td>506.0</td>\n",
       "      <td>500.0</td>\n",
       "      <td>101</td>\n",
       "      <td>650.0</td>\n",
       "      <td>17200.00</td>\n",
       "      <td>17350.0</td>\n",
       "      <td>0.00</td>\n",
       "      <td>36</td>\n",
       "      <td>17200.00</td>\n",
       "      <td>99.0</td>\n",
       "      <td>6550.00</td>\n",
       "      <td>24000.0</td>\n",
       "      <td>1</td>\n",
       "      <td>1.00</td>\n",
       "    </tr>\n",
       "    <tr>\n",
       "      <th>1</th>\n",
       "      <td>63539</td>\n",
       "      <td>13449</td>\n",
       "      <td>0</td>\n",
       "      <td>2000.0</td>\n",
       "      <td>DAEWOO</td>\n",
       "      <td>N</td>\n",
       "      <td>0.0</td>\n",
       "      <td>21.0</td>\n",
       "      <td>240.0</td>\n",
       "      <td>11.0</td>\n",
       "      <td>7.0</td>\n",
       "      <td>34605.0</td>\n",
       "      <td>57241.0</td>\n",
       "      <td>60</td>\n",
       "      <td>649.0</td>\n",
       "      <td>19588.54</td>\n",
       "      <td>19788.0</td>\n",
       "      <td>683.54</td>\n",
       "      <td>60</td>\n",
       "      <td>19588.54</td>\n",
       "      <td>99.0</td>\n",
       "      <td>4666.67</td>\n",
       "      <td>22.0</td>\n",
       "      <td>0</td>\n",
       "      <td>4.75</td>\n",
       "    </tr>\n",
       "    <tr>\n",
       "      <th>2</th>\n",
       "      <td>7328510</td>\n",
       "      <td>14323</td>\n",
       "      <td>1</td>\n",
       "      <td>1998.0</td>\n",
       "      <td>PLYMOUTH</td>\n",
       "      <td>N</td>\n",
       "      <td>7.0</td>\n",
       "      <td>10.0</td>\n",
       "      <td>60.0</td>\n",
       "      <td>NaN</td>\n",
       "      <td>NaN</td>\n",
       "      <td>NaN</td>\n",
       "      <td>NaN</td>\n",
       "      <td>0</td>\n",
       "      <td>613.0</td>\n",
       "      <td>13595.00</td>\n",
       "      <td>11450.0</td>\n",
       "      <td>0.00</td>\n",
       "      <td>60</td>\n",
       "      <td>10500.00</td>\n",
       "      <td>92.0</td>\n",
       "      <td>2000.00</td>\n",
       "      <td>19600.0</td>\n",
       "      <td>1</td>\n",
       "      <td>1.00</td>\n",
       "    </tr>\n",
       "    <tr>\n",
       "      <th>3</th>\n",
       "      <td>8725187</td>\n",
       "      <td>15359</td>\n",
       "      <td>1</td>\n",
       "      <td>1997.0</td>\n",
       "      <td>FORD</td>\n",
       "      <td>N</td>\n",
       "      <td>3.0</td>\n",
       "      <td>10.0</td>\n",
       "      <td>35.0</td>\n",
       "      <td>5.0</td>\n",
       "      <td>4.0</td>\n",
       "      <td>4019.0</td>\n",
       "      <td>5946.0</td>\n",
       "      <td>68</td>\n",
       "      <td>603.0</td>\n",
       "      <td>12999.00</td>\n",
       "      <td>12100.0</td>\n",
       "      <td>3099.00</td>\n",
       "      <td>60</td>\n",
       "      <td>10800.00</td>\n",
       "      <td>118.0</td>\n",
       "      <td>1500.00</td>\n",
       "      <td>10000.0</td>\n",
       "      <td>1</td>\n",
       "      <td>1.00</td>\n",
       "    </tr>\n",
       "    <tr>\n",
       "      <th>4</th>\n",
       "      <td>4275127</td>\n",
       "      <td>15812</td>\n",
       "      <td>0</td>\n",
       "      <td>2000.0</td>\n",
       "      <td>TOYOTA</td>\n",
       "      <td>N</td>\n",
       "      <td>0.0</td>\n",
       "      <td>10.0</td>\n",
       "      <td>104.0</td>\n",
       "      <td>2.0</td>\n",
       "      <td>0.0</td>\n",
       "      <td>0.0</td>\n",
       "      <td>1800.0</td>\n",
       "      <td>0</td>\n",
       "      <td>764.0</td>\n",
       "      <td>26328.04</td>\n",
       "      <td>22024.0</td>\n",
       "      <td>0.00</td>\n",
       "      <td>60</td>\n",
       "      <td>26328.04</td>\n",
       "      <td>122.0</td>\n",
       "      <td>4144.00</td>\n",
       "      <td>14.0</td>\n",
       "      <td>0</td>\n",
       "      <td>4.75</td>\n",
       "    </tr>\n",
       "  </tbody>\n",
       "</table>\n",
       "</div>"
      ],
      "text/plain": [
       "   application_id  account_number bad_ind  vehicle_year vehicle_make  \\\n",
       "0         2314049           11613       1        1998.0         FORD   \n",
       "1           63539           13449       0        2000.0       DAEWOO   \n",
       "2         7328510           14323       1        1998.0     PLYMOUTH   \n",
       "3         8725187           15359       1        1997.0         FORD   \n",
       "4         4275127           15812       0        2000.0       TOYOTA   \n",
       "\n",
       "  bankruptcy_ind  tot_derog  tot_tr  age_oldest_tr  tot_open_tr  tot_rev_tr  \\\n",
       "0              N        7.0     9.0           64.0          2.0         1.0   \n",
       "1              N        0.0    21.0          240.0         11.0         7.0   \n",
       "2              N        7.0    10.0           60.0          NaN         NaN   \n",
       "3              N        3.0    10.0           35.0          5.0         4.0   \n",
       "4              N        0.0    10.0          104.0          2.0         0.0   \n",
       "\n",
       "   tot_rev_debt  tot_rev_line  rev_util  fico_score  purch_price     msrp  \\\n",
       "0         506.0         500.0       101       650.0     17200.00  17350.0   \n",
       "1       34605.0       57241.0        60       649.0     19588.54  19788.0   \n",
       "2           NaN           NaN         0       613.0     13595.00  11450.0   \n",
       "3        4019.0        5946.0        68       603.0     12999.00  12100.0   \n",
       "4           0.0        1800.0         0       764.0     26328.04  22024.0   \n",
       "\n",
       "   down_pyt  loan_term  loan_amt    ltv  tot_income  veh_mileage used_ind  \\\n",
       "0      0.00         36  17200.00   99.0     6550.00      24000.0        1   \n",
       "1    683.54         60  19588.54   99.0     4666.67         22.0        0   \n",
       "2      0.00         60  10500.00   92.0     2000.00      19600.0        1   \n",
       "3   3099.00         60  10800.00  118.0     1500.00      10000.0        1   \n",
       "4      0.00         60  26328.04  122.0     4144.00         14.0        0   \n",
       "\n",
       "   weight  \n",
       "0    1.00  \n",
       "1    4.75  \n",
       "2    1.00  \n",
       "3    1.00  \n",
       "4    4.75  "
      ]
     },
     "execution_count": 21,
     "metadata": {},
     "output_type": "execute_result"
    }
   ],
   "source": [
    "accepts.head()"
   ]
  },
  {
   "cell_type": "code",
   "execution_count": 22,
   "metadata": {
    "collapsed": false
   },
   "outputs": [
    {
     "data": {
      "text/html": [
       "<div>\n",
       "<style scoped>\n",
       "    .dataframe tbody tr th:only-of-type {\n",
       "        vertical-align: middle;\n",
       "    }\n",
       "\n",
       "    .dataframe tbody tr th {\n",
       "        vertical-align: top;\n",
       "    }\n",
       "\n",
       "    .dataframe thead th {\n",
       "        text-align: right;\n",
       "    }\n",
       "</style>\n",
       "<table border=\"1\" class=\"dataframe\">\n",
       "  <thead>\n",
       "    <tr style=\"text-align: right;\">\n",
       "      <th></th>\n",
       "      <th>0</th>\n",
       "      <th>1</th>\n",
       "      <th>2</th>\n",
       "      <th>3</th>\n",
       "      <th>4</th>\n",
       "      <th>5</th>\n",
       "      <th>6</th>\n",
       "      <th>7</th>\n",
       "      <th>8</th>\n",
       "      <th>9</th>\n",
       "    </tr>\n",
       "  </thead>\n",
       "  <tbody>\n",
       "    <tr>\n",
       "      <th>a</th>\n",
       "      <td>1.000000</td>\n",
       "      <td>2.00000</td>\n",
       "      <td>3.000000</td>\n",
       "      <td>4.00000</td>\n",
       "      <td>5.000000</td>\n",
       "      <td>6.000000</td>\n",
       "      <td>7.000000</td>\n",
       "      <td>8.000000</td>\n",
       "      <td>9.000000</td>\n",
       "      <td>10.00000</td>\n",
       "    </tr>\n",
       "    <tr>\n",
       "      <th>b</th>\n",
       "      <td>-0.474412</td>\n",
       "      <td>0.18854</td>\n",
       "      <td>-0.341193</td>\n",
       "      <td>-0.33072</td>\n",
       "      <td>1.226917</td>\n",
       "      <td>0.149876</td>\n",
       "      <td>1.093722</td>\n",
       "      <td>-1.348744</td>\n",
       "      <td>0.757289</td>\n",
       "      <td>1.13902</td>\n",
       "    </tr>\n",
       "  </tbody>\n",
       "</table>\n",
       "</div>"
      ],
      "text/plain": [
       "          0        1         2        3         4         5         6  \\\n",
       "a  1.000000  2.00000  3.000000  4.00000  5.000000  6.000000  7.000000   \n",
       "b -0.474412  0.18854 -0.341193 -0.33072  1.226917  0.149876  1.093722   \n",
       "\n",
       "          7         8         9  \n",
       "a  8.000000  9.000000  10.00000  \n",
       "b -1.348744  0.757289   1.13902  "
      ]
     },
     "execution_count": 22,
     "metadata": {},
     "output_type": "execute_result"
    }
   ],
   "source": [
    "data = pd.DataFrame(data={'a':range(1,11), 'b':np.random.randn(10)})\n",
    "data.T"
   ]
  },
  {
   "cell_type": "code",
   "execution_count": 23,
   "metadata": {
    "collapsed": false
   },
   "outputs": [
    {
     "data": {
      "image/png": "[encoded data removed]",
      "text/plain": [
       "<matplotlib.figure.Figure at 0xaeee5f8>"
      ]
     },
     "metadata": {},
     "output_type": "display_data"
    }
   ],
   "source": [
    "data.b.plot(kind='line') # 折线图\n",
    "plt.show()"
   ]
  },
  {
   "cell_type": "code",
   "execution_count": 24,
   "metadata": {
    "collapsed": false
   },
   "outputs": [
    {
     "data": {
      "image/png": "[encoded data removed]",
      "text/plain": [
       "<matplotlib.figure.Figure at 0xaf41240>"
      ]
     },
     "metadata": {},
     "output_type": "display_data"
    }
   ],
   "source": [
    "data.b.plot(kind='bar') # 柱图\n",
    "plt.show()"
   ]
  },
  {
   "cell_type": "markdown",
   "metadata": {},
   "source": [
    "直方图"
   ]
  },
  {
   "cell_type": "code",
   "execution_count": 25,
   "metadata": {
    "collapsed": false
   },
   "outputs": [
    {
     "data": {
      "image/png": "[encoded data removed]",
      "text/plain": [
       "<matplotlib.figure.Figure at 0xafaa2b0>"
      ]
     },
     "metadata": {},
     "output_type": "display_data"
    }
   ],
   "source": [
    "accepts[['purch_price', 'loan_amt']].plot(stacked=False, kind='hist', alpha=0.3, bins=20)\n",
    "plt.show()"
   ]
  },
  {
   "cell_type": "code",
   "execution_count": 26,
   "metadata": {
    "collapsed": false
   },
   "outputs": [
    {
     "data": {
      "image/png": "[encoded data removed]",
      "text/plain": [
       "<matplotlib.figure.Figure at 0xafd4748>"
      ]
     },
     "metadata": {},
     "output_type": "display_data"
    }
   ],
   "source": [
    "accepts[['purch_price', 'loan_amt']].hist(alpha=0.8, bins=20, figsize=(10, 2))\n",
    "plt.show()"
   ]
  },
  {
   "cell_type": "markdown",
   "metadata": {},
   "source": [
    " 饼图"
   ]
  },
  {
   "cell_type": "code",
   "execution_count": 27,
   "metadata": {
    "collapsed": false
   },
   "outputs": [
    {
     "data": {
      "image/png": "[encoded data removed]",
      "text/plain": [
       "<matplotlib.figure.Figure at 0xb05c4a8>"
      ]
     },
     "metadata": {},
     "output_type": "display_data"
    }
   ],
   "source": [
    "gb = accepts['bad_ind'].groupby(accepts['bad_ind']).count()\n",
    "gb.plot(kind='pie',labels=['Good', 'Bad'], colors=['r', 'g'], autopct='%.2f', fontsize=20, figsize=(6, 6))\n",
    "plt.show()"
   ]
  },
  {
   "cell_type": "markdown",
   "metadata": {},
   "source": [
    "箱线图"
   ]
  },
  {
   "cell_type": "code",
   "execution_count": 28,
   "metadata": {
    "collapsed": false
   },
   "outputs": [
    {
     "data": {
      "image/png": "[encoded data removed]",
      "text/plain": [
       "<matplotlib.figure.Figure at 0xb055198>"
      ]
     },
     "metadata": {},
     "output_type": "display_data"
    }
   ],
   "source": [
    "accepts[['fico_score', 'bankruptcy_ind']].boxplot(by='bankruptcy_ind')\n",
    "plt.show()"
   ]
  },
  {
   "cell_type": "markdown",
   "metadata": {},
   "source": [
    "使用ggplot风格"
   ]
  },
  {
   "cell_type": "code",
   "execution_count": 29,
   "metadata": {
    "collapsed": false
   },
   "outputs": [
    {
     "data": {
      "image/png": "[encoded data removed]",
      "text/plain": [
       "<matplotlib.figure.Figure at 0xb09bc50>"
      ]
     },
     "metadata": {},
     "output_type": "display_data"
    }
   ],
   "source": [
    "import matplotlib\n",
    "\n",
    "matplotlib.style.use('ggplot')\n",
    "plt.scatter(x=accepts['purch_price'], y=accepts['loan_amt'], s=10)\n",
    "plt.show()"
   ]
  },
  {
   "cell_type": "markdown",
   "metadata": {},
   "source": [
    "使用seaborn"
   ]
  },
  {
   "cell_type": "code",
   "execution_count": 30,
   "metadata": {
    "collapsed": false
   },
   "outputs": [
    {
     "data": {
      "text/plain": [
       "0       650.0\n",
       "1       649.0\n",
       "2       613.0\n",
       "3       603.0\n",
       "4       764.0\n",
       "5       680.0\n",
       "6       794.0\n",
       "7       722.0\n",
       "8       664.0\n",
       "9       646.0\n",
       "10      718.0\n",
       "11      744.0\n",
       "12      763.0\n",
       "13      678.0\n",
       "14      639.0\n",
       "15      689.0\n",
       "16      784.0\n",
       "17      674.0\n",
       "18      666.0\n",
       "19      557.0\n",
       "20      746.0\n",
       "21      710.0\n",
       "22      654.0\n",
       "23        NaN\n",
       "24      715.0\n",
       "25      650.0\n",
       "26      705.0\n",
       "27      776.0\n",
       "28      626.0\n",
       "29      685.0\n",
       "        ...  \n",
       "5815    701.0\n",
       "5816    710.0\n",
       "5817    757.0\n",
       "5818    691.0\n",
       "5819    652.0\n",
       "5820    804.0\n",
       "5821      NaN\n",
       "5822    752.0\n",
       "5823    569.0\n",
       "5824    604.0\n",
       "5825    687.0\n",
       "5826      NaN\n",
       "5827    689.0\n",
       "5828    681.0\n",
       "5829    737.0\n",
       "5830    586.0\n",
       "5831    828.0\n",
       "5832    632.0\n",
       "5833    660.0\n",
       "5834    675.0\n",
       "5835    714.0\n",
       "5836    705.0\n",
       "5837    714.0\n",
       "5838    725.0\n",
       "5839    650.0\n",
       "5840    801.0\n",
       "5841    628.0\n",
       "5842    735.0\n",
       "5843    737.0\n",
       "5844    741.0\n",
       "Name: fico_score, Length: 5845, dtype: float64"
      ]
     },
     "execution_count": 30,
     "metadata": {},
     "output_type": "execute_result"
    }
   ],
   "source": [
    "fs"
   ]
  },
  {
   "cell_type": "code",
   "execution_count": 31,
   "metadata": {
    "collapsed": false
   },
   "outputs": [
    {
     "data": {
      "image/png": "[encoded data removed]",
      "text/plain": [
       "<matplotlib.figure.Figure at 0xaffe240>"
      ]
     },
     "metadata": {},
     "output_type": "display_data"
    }
   ],
   "source": [
    "import seaborn as sns\n",
    "\n",
    "vmean = accepts['fico_score'].mean()\n",
    "fs = accepts['fico_score'].fillna(vmean)\n",
    "sns.distplot(fs, bins=20, kde=True, fit=stats.norm)\n",
    "plt.show()"
   ]
  }
 ],
 "metadata": {
  "anaconda-cloud": {},
  "kernelspec": {
   "display_name": "Python [conda root]",
   "language": "python",
   "name": "conda-root-py"
  },
  "language_info": {
   "codemirror_mode": {
    "name": "ipython",
    "version": 3
   },
   "file_extension": ".py",
   "mimetype": "text/x-python",
   "name": "python",
   "nbconvert_exporter": "python",
   "pygments_lexer": "ipython3",
   "version": "3.5.2"
  }
 },
 "nbformat": 4,
 "nbformat_minor": 0
}
